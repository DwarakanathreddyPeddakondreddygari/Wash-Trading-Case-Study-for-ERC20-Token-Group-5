{
 "cells": [
  {
   "cell_type": "markdown",
   "metadata": {},
   "source": [
    "# Data Cleaning\n",
    "\n",
    "#### Tasks Completed\n",
    "* Examine the dataset to understand its structure, including columns, data types, and formats. Identify missing values or inconsistencies.\n",
    "* Evaluate the quality of the dataset by identifying errors, duplicates, and outliers. Assess completeness and consistency.\n",
    "* Determine the relevance of the data by mapping dataset attributes to project objectives. Highlight irrelevant or redundant data points.\n",
    "* Summarize key findings from the structure, quality, and relevance analysis. Prepare actionable insights to guide the project."
   ]
  },
  {
   "cell_type": "code",
   "execution_count": 1,
   "metadata": {},
   "outputs": [],
   "source": [
    "import pandas as pd\n",
    "import matplotlib.pyplot as plt\n",
    "import seaborn as sns"
   ]
  },
  {
   "cell_type": "code",
   "execution_count": 2,
   "metadata": {},
   "outputs": [
    {
     "data": {
      "text/html": [
       "<div>\n",
       "<style scoped>\n",
       "    .dataframe tbody tr th:only-of-type {\n",
       "        vertical-align: middle;\n",
       "    }\n",
       "\n",
       "    .dataframe tbody tr th {\n",
       "        vertical-align: top;\n",
       "    }\n",
       "\n",
       "    .dataframe thead th {\n",
       "        text-align: right;\n",
       "    }\n",
       "</style>\n",
       "<table border=\"1\" class=\"dataframe\">\n",
       "  <thead>\n",
       "    <tr style=\"text-align: right;\">\n",
       "      <th></th>\n",
       "      <th>Transaction Hash</th>\n",
       "      <th>Blockno</th>\n",
       "      <th>UnixTimestamp</th>\n",
       "      <th>DateTime (UTC)</th>\n",
       "      <th>From</th>\n",
       "      <th>To</th>\n",
       "      <th>Quantity</th>\n",
       "      <th>Method</th>\n",
       "    </tr>\n",
       "  </thead>\n",
       "  <tbody>\n",
       "    <tr>\n",
       "      <th>0</th>\n",
       "      <td>0x27797428fc8aaf088cc707c8788b5d13580696418c79...</td>\n",
       "      <td>18909018</td>\n",
       "      <td>1704068735</td>\n",
       "      <td>2024-01-01 00:25:35</td>\n",
       "      <td>0x6469b34a2a4723163c4902dbbdea728d20693c12</td>\n",
       "      <td>0x776a0725094cbf984e31b43d17e8aaec3c88294a</td>\n",
       "      <td>36.593837</td>\n",
       "      <td>Sell To Uniswap</td>\n",
       "    </tr>\n",
       "    <tr>\n",
       "      <th>1</th>\n",
       "      <td>0x1fba1d9d11ef9986478f1d964e37f0d1a5abdbc0503e...</td>\n",
       "      <td>18909070</td>\n",
       "      <td>1704069371</td>\n",
       "      <td>2024-01-01 00:36:11</td>\n",
       "      <td>0x983dfba1c0724786598af0e63a9a6f94aabd24a1</td>\n",
       "      <td>0x22f9dcf4647084d6c31b2765f6910cd85c178c18</td>\n",
       "      <td>104.984275</td>\n",
       "      <td>0x415565b0</td>\n",
       "    </tr>\n",
       "    <tr>\n",
       "      <th>2</th>\n",
       "      <td>0x1fba1d9d11ef9986478f1d964e37f0d1a5abdbc0503e...</td>\n",
       "      <td>18909070</td>\n",
       "      <td>1704069371</td>\n",
       "      <td>2024-01-01 00:36:11</td>\n",
       "      <td>0x983dfba1c0724786598af0e63a9a6f94aabd24a1</td>\n",
       "      <td>0x95c4f5b83aa70810d4f142d58e5f7242bd891cb0</td>\n",
       "      <td>0.079035</td>\n",
       "      <td>0x415565b0</td>\n",
       "    </tr>\n",
       "    <tr>\n",
       "      <th>3</th>\n",
       "      <td>0x1fba1d9d11ef9986478f1d964e37f0d1a5abdbc0503e...</td>\n",
       "      <td>18909070</td>\n",
       "      <td>1704069371</td>\n",
       "      <td>2024-01-01 00:36:11</td>\n",
       "      <td>0x22f9dcf4647084d6c31b2765f6910cd85c178c18</td>\n",
       "      <td>0xd98d9d8c5a70df5d5d8e39847ce254347a59816b</td>\n",
       "      <td>104.984275</td>\n",
       "      <td>0x415565b0</td>\n",
       "    </tr>\n",
       "    <tr>\n",
       "      <th>4</th>\n",
       "      <td>0xb8e2f84b80260aa1c1e975e27a59086285e6616ca9cc...</td>\n",
       "      <td>18909149</td>\n",
       "      <td>1704070319</td>\n",
       "      <td>2024-01-01 00:51:59</td>\n",
       "      <td>0x983dfba1c0724786598af0e63a9a6f94aabd24a1</td>\n",
       "      <td>0x22f9dcf4647084d6c31b2765f6910cd85c178c18</td>\n",
       "      <td>10.247435</td>\n",
       "      <td>0x415565b0</td>\n",
       "    </tr>\n",
       "  </tbody>\n",
       "</table>\n",
       "</div>"
      ],
      "text/plain": [
       "                                    Transaction Hash   Blockno  UnixTimestamp  \\\n",
       "0  0x27797428fc8aaf088cc707c8788b5d13580696418c79...  18909018     1704068735   \n",
       "1  0x1fba1d9d11ef9986478f1d964e37f0d1a5abdbc0503e...  18909070     1704069371   \n",
       "2  0x1fba1d9d11ef9986478f1d964e37f0d1a5abdbc0503e...  18909070     1704069371   \n",
       "3  0x1fba1d9d11ef9986478f1d964e37f0d1a5abdbc0503e...  18909070     1704069371   \n",
       "4  0xb8e2f84b80260aa1c1e975e27a59086285e6616ca9cc...  18909149     1704070319   \n",
       "\n",
       "       DateTime (UTC)                                        From  \\\n",
       "0 2024-01-01 00:25:35  0x6469b34a2a4723163c4902dbbdea728d20693c12   \n",
       "1 2024-01-01 00:36:11  0x983dfba1c0724786598af0e63a9a6f94aabd24a1   \n",
       "2 2024-01-01 00:36:11  0x983dfba1c0724786598af0e63a9a6f94aabd24a1   \n",
       "3 2024-01-01 00:36:11  0x22f9dcf4647084d6c31b2765f6910cd85c178c18   \n",
       "4 2024-01-01 00:51:59  0x983dfba1c0724786598af0e63a9a6f94aabd24a1   \n",
       "\n",
       "                                           To    Quantity           Method  \n",
       "0  0x776a0725094cbf984e31b43d17e8aaec3c88294a   36.593837  Sell To Uniswap  \n",
       "1  0x22f9dcf4647084d6c31b2765f6910cd85c178c18  104.984275       0x415565b0  \n",
       "2  0x95c4f5b83aa70810d4f142d58e5f7242bd891cb0    0.079035       0x415565b0  \n",
       "3  0xd98d9d8c5a70df5d5d8e39847ce254347a59816b  104.984275       0x415565b0  \n",
       "4  0x22f9dcf4647084d6c31b2765f6910cd85c178c18   10.247435       0x415565b0  "
      ]
     },
     "execution_count": 2,
     "metadata": {},
     "output_type": "execute_result"
    }
   ],
   "source": [
    "\n",
    "data = pd.read_excel('../../Data/transaction.xlsx')\n",
    "data.head()"
   ]
  },
  {
   "cell_type": "code",
   "execution_count": 3,
   "metadata": {},
   "outputs": [
    {
     "data": {
      "text/plain": [
       "(19836, 8)"
      ]
     },
     "execution_count": 3,
     "metadata": {},
     "output_type": "execute_result"
    }
   ],
   "source": [
    "data.shape\n"
   ]
  },
  {
   "cell_type": "code",
   "execution_count": 4,
   "metadata": {},
   "outputs": [
    {
     "data": {
      "text/plain": [
       "Index(['Transaction Hash', 'Blockno', 'UnixTimestamp', 'DateTime (UTC)',\n",
       "       'From', 'To', 'Quantity', 'Method'],\n",
       "      dtype='object')"
      ]
     },
     "execution_count": 4,
     "metadata": {},
     "output_type": "execute_result"
    }
   ],
   "source": [
    "data.columns"
   ]
  },
  {
   "cell_type": "code",
   "execution_count": 5,
   "metadata": {},
   "outputs": [
    {
     "data": {
      "text/plain": [
       "Transaction Hash            object\n",
       "Blockno                      int64\n",
       "UnixTimestamp                int64\n",
       "DateTime (UTC)      datetime64[ns]\n",
       "From                        object\n",
       "To                          object\n",
       "Quantity                   float64\n",
       "Method                      object\n",
       "dtype: object"
      ]
     },
     "execution_count": 5,
     "metadata": {},
     "output_type": "execute_result"
    }
   ],
   "source": [
    "data.dtypes"
   ]
  },
  {
   "cell_type": "code",
   "execution_count": 6,
   "metadata": {},
   "outputs": [
    {
     "data": {
      "text/html": [
       "<div>\n",
       "<style scoped>\n",
       "    .dataframe tbody tr th:only-of-type {\n",
       "        vertical-align: middle;\n",
       "    }\n",
       "\n",
       "    .dataframe tbody tr th {\n",
       "        vertical-align: top;\n",
       "    }\n",
       "\n",
       "    .dataframe thead th {\n",
       "        text-align: right;\n",
       "    }\n",
       "</style>\n",
       "<table border=\"1\" class=\"dataframe\">\n",
       "  <thead>\n",
       "    <tr style=\"text-align: right;\">\n",
       "      <th></th>\n",
       "      <th>Blockno</th>\n",
       "      <th>UnixTimestamp</th>\n",
       "      <th>Quantity</th>\n",
       "    </tr>\n",
       "  </thead>\n",
       "  <tbody>\n",
       "    <tr>\n",
       "      <th>count</th>\n",
       "      <td>1.983600e+04</td>\n",
       "      <td>1.983600e+04</td>\n",
       "      <td>19836.000000</td>\n",
       "    </tr>\n",
       "    <tr>\n",
       "      <th>mean</th>\n",
       "      <td>1.968441e+07</td>\n",
       "      <td>1.713463e+09</td>\n",
       "      <td>377.944387</td>\n",
       "    </tr>\n",
       "    <tr>\n",
       "      <th>std</th>\n",
       "      <td>3.220605e+05</td>\n",
       "      <td>3.898956e+06</td>\n",
       "      <td>8007.345063</td>\n",
       "    </tr>\n",
       "    <tr>\n",
       "      <th>min</th>\n",
       "      <td>1.890902e+07</td>\n",
       "      <td>1.704069e+09</td>\n",
       "      <td>0.000000</td>\n",
       "    </tr>\n",
       "    <tr>\n",
       "      <th>25%</th>\n",
       "      <td>1.946597e+07</td>\n",
       "      <td>1.710817e+09</td>\n",
       "      <td>3.213580</td>\n",
       "    </tr>\n",
       "    <tr>\n",
       "      <th>50%</th>\n",
       "      <td>1.973666e+07</td>\n",
       "      <td>1.714100e+09</td>\n",
       "      <td>72.444861</td>\n",
       "    </tr>\n",
       "    <tr>\n",
       "      <th>75%</th>\n",
       "      <td>1.993754e+07</td>\n",
       "      <td>1.716527e+09</td>\n",
       "      <td>293.678666</td>\n",
       "    </tr>\n",
       "    <tr>\n",
       "      <th>max</th>\n",
       "      <td>2.017186e+07</td>\n",
       "      <td>1.719357e+09</td>\n",
       "      <td>750000.000000</td>\n",
       "    </tr>\n",
       "  </tbody>\n",
       "</table>\n",
       "</div>"
      ],
      "text/plain": [
       "            Blockno  UnixTimestamp       Quantity\n",
       "count  1.983600e+04   1.983600e+04   19836.000000\n",
       "mean   1.968441e+07   1.713463e+09     377.944387\n",
       "std    3.220605e+05   3.898956e+06    8007.345063\n",
       "min    1.890902e+07   1.704069e+09       0.000000\n",
       "25%    1.946597e+07   1.710817e+09       3.213580\n",
       "50%    1.973666e+07   1.714100e+09      72.444861\n",
       "75%    1.993754e+07   1.716527e+09     293.678666\n",
       "max    2.017186e+07   1.719357e+09  750000.000000"
      ]
     },
     "execution_count": 6,
     "metadata": {},
     "output_type": "execute_result"
    }
   ],
   "source": [
    "data.describe()"
   ]
  },
  {
   "cell_type": "code",
   "execution_count": 7,
   "metadata": {},
   "outputs": [
    {
     "data": {
      "text/plain": [
       "Transaction Hash    0\n",
       "Blockno             0\n",
       "UnixTimestamp       0\n",
       "DateTime (UTC)      0\n",
       "From                0\n",
       "To                  0\n",
       "Quantity            0\n",
       "Method              0\n",
       "dtype: int64"
      ]
     },
     "execution_count": 7,
     "metadata": {},
     "output_type": "execute_result"
    }
   ],
   "source": [
    "data.isnull().sum()"
   ]
  },
  {
   "cell_type": "code",
   "execution_count": 8,
   "metadata": {},
   "outputs": [
    {
     "data": {
      "text/plain": [
       "array(['0x27797428fc8aaf088cc707c8788b5d13580696418c79190eda04823ab70d7eb7',\n",
       "       '0x1fba1d9d11ef9986478f1d964e37f0d1a5abdbc0503e8336290b7272ba73bc51',\n",
       "       '0xb8e2f84b80260aa1c1e975e27a59086285e6616ca9ccbd7d24e2a8b90c294c05',\n",
       "       ...,\n",
       "       '0xbd236aea3d8e798143581b8c941c301916ecdce2e6ef013e6064df58a432b343',\n",
       "       '0xe6b3867b6a620644689ba43af59f3b3e0eade9c4d76442e9373f8a5422fc2452',\n",
       "       '0x37dfd226ef55d464641ec94fc675ad3692d9af34713215816420b4556a7f8b0a'],\n",
       "      dtype=object)"
      ]
     },
     "execution_count": 8,
     "metadata": {},
     "output_type": "execute_result"
    }
   ],
   "source": [
    "data['Transaction Hash'].unique()"
   ]
  },
  {
   "cell_type": "code",
   "execution_count": 9,
   "metadata": {},
   "outputs": [
    {
     "data": {
      "text/plain": [
       "0x630d72d417c6da379ffc6acf3688fcce84792e4a93d6fea8e1ce70ee202088f3    15\n",
       "0x0d9678769f1943a9f81c7e50f690bfbd797bdfe1624dc94d8a15f513c91f75f0    12\n",
       "0x705092688310291813c1057081c022dfdb54825a408bece4e773d591f288cf36    11\n",
       "0xbff846f99284bed5bdac6a318c0ee2ef5da22a9c321aa8b7f44c4a02431fdf24    11\n",
       "0x377e726d31cf8e60584cea5b9fb79720ff3dff87ae4413afcb5c8f17269f72b0    11\n",
       "                                                                      ..\n",
       "0x5d712a4cad451b5826e5952d4eec8be34b65bf201c02e3e8fcbbd877caa7ddb4     1\n",
       "0x1937aaea921b1b8f74ab69c9b14006aa0c50e6d89cea649d81f74a4ad20ba9a2     1\n",
       "0x7c3d6c737193b7dd1473aeb59e5a89f3ea367a04a4b22ea939738e3bb369cd07     1\n",
       "0x76ea380c6b373829cea031c4bd5d34948beabb7903307e9eb257bd8f9763c54d     1\n",
       "0x27797428fc8aaf088cc707c8788b5d13580696418c79190eda04823ab70d7eb7     1\n",
       "Name: Transaction Hash, Length: 9787, dtype: int64"
      ]
     },
     "execution_count": 9,
     "metadata": {},
     "output_type": "execute_result"
    }
   ],
   "source": [
    "data['Transaction Hash'].value_counts()"
   ]
  },
  {
   "cell_type": "code",
   "execution_count": 10,
   "metadata": {},
   "outputs": [
    {
     "name": "stdout",
     "output_type": "stream",
     "text": [
      "                Blockno  UnixTimestamp  Quantity\n",
      "Blockno        1.000000       0.999999  0.005760\n",
      "UnixTimestamp  0.999999       1.000000  0.005759\n",
      "Quantity       0.005760       0.005759  1.000000\n"
     ]
    },
    {
     "data": {
      "image/png": "[encoded data removed]",
      "text/plain": [
       "<Figure size 640x480 with 2 Axes>"
      ]
     },
     "metadata": {},
     "output_type": "display_data"
    }
   ],
   "source": [
    "# Select only numerical columns for correlation calculation\n",
    "numerical_data = data.select_dtypes(include=['number'])\n",
    "correlation_matrix = numerical_data.corr()\n",
    "\n",
    "# Display the correlation matrix\n",
    "print(correlation_matrix)\n",
    "\n",
    "# Optionally, visualize the correlation matrix using a heatmap\n",
    "import seaborn as sns\n",
    "import matplotlib.pyplot as plt\n",
    "\n",
    "sns.heatmap(correlation_matrix, annot=True, cmap='coolwarm')\n",
    "plt.show()"
   ]
  },
  {
   "cell_type": "code",
   "execution_count": 11,
   "metadata": {},
   "outputs": [
    {
     "data": {
      "text/html": [
       "<div>\n",
       "<style scoped>\n",
       "    .dataframe tbody tr th:only-of-type {\n",
       "        vertical-align: middle;\n",
       "    }\n",
       "\n",
       "    .dataframe tbody tr th {\n",
       "        vertical-align: top;\n",
       "    }\n",
       "\n",
       "    .dataframe thead th {\n",
       "        text-align: right;\n",
       "    }\n",
       "</style>\n",
       "<table border=\"1\" class=\"dataframe\">\n",
       "  <thead>\n",
       "    <tr style=\"text-align: right;\">\n",
       "      <th></th>\n",
       "      <th>Transaction Hash</th>\n",
       "      <th>Blockno</th>\n",
       "      <th>UnixTimestamp</th>\n",
       "      <th>DateTime (UTC)</th>\n",
       "      <th>From</th>\n",
       "      <th>To</th>\n",
       "      <th>Quantity</th>\n",
       "      <th>Method</th>\n",
       "    </tr>\n",
       "  </thead>\n",
       "  <tbody>\n",
       "    <tr>\n",
       "      <th>0</th>\n",
       "      <td>0x27797428fc8aaf088cc707c8788b5d13580696418c79...</td>\n",
       "      <td>18909018</td>\n",
       "      <td>1704068735</td>\n",
       "      <td>2024-01-01 00:25:35</td>\n",
       "      <td>0x6469b34a2a4723163c4902dbbdea728d20693c12</td>\n",
       "      <td>0x776a0725094cbf984e31b43d17e8aaec3c88294a</td>\n",
       "      <td>36.593837</td>\n",
       "      <td>Sell To Uniswap</td>\n",
       "    </tr>\n",
       "    <tr>\n",
       "      <th>1</th>\n",
       "      <td>0x1fba1d9d11ef9986478f1d964e37f0d1a5abdbc0503e...</td>\n",
       "      <td>18909070</td>\n",
       "      <td>1704069371</td>\n",
       "      <td>2024-01-01 00:36:11</td>\n",
       "      <td>0x983dfba1c0724786598af0e63a9a6f94aabd24a1</td>\n",
       "      <td>0x22f9dcf4647084d6c31b2765f6910cd85c178c18</td>\n",
       "      <td>104.984275</td>\n",
       "      <td>0x415565b0</td>\n",
       "    </tr>\n",
       "    <tr>\n",
       "      <th>2</th>\n",
       "      <td>0x1fba1d9d11ef9986478f1d964e37f0d1a5abdbc0503e...</td>\n",
       "      <td>18909070</td>\n",
       "      <td>1704069371</td>\n",
       "      <td>2024-01-01 00:36:11</td>\n",
       "      <td>0x983dfba1c0724786598af0e63a9a6f94aabd24a1</td>\n",
       "      <td>0x95c4f5b83aa70810d4f142d58e5f7242bd891cb0</td>\n",
       "      <td>0.079035</td>\n",
       "      <td>0x415565b0</td>\n",
       "    </tr>\n",
       "    <tr>\n",
       "      <th>3</th>\n",
       "      <td>0x1fba1d9d11ef9986478f1d964e37f0d1a5abdbc0503e...</td>\n",
       "      <td>18909070</td>\n",
       "      <td>1704069371</td>\n",
       "      <td>2024-01-01 00:36:11</td>\n",
       "      <td>0x22f9dcf4647084d6c31b2765f6910cd85c178c18</td>\n",
       "      <td>0xd98d9d8c5a70df5d5d8e39847ce254347a59816b</td>\n",
       "      <td>104.984275</td>\n",
       "      <td>0x415565b0</td>\n",
       "    </tr>\n",
       "    <tr>\n",
       "      <th>4</th>\n",
       "      <td>0xb8e2f84b80260aa1c1e975e27a59086285e6616ca9cc...</td>\n",
       "      <td>18909149</td>\n",
       "      <td>1704070319</td>\n",
       "      <td>2024-01-01 00:51:59</td>\n",
       "      <td>0x983dfba1c0724786598af0e63a9a6f94aabd24a1</td>\n",
       "      <td>0x22f9dcf4647084d6c31b2765f6910cd85c178c18</td>\n",
       "      <td>10.247435</td>\n",
       "      <td>0x415565b0</td>\n",
       "    </tr>\n",
       "    <tr>\n",
       "      <th>...</th>\n",
       "      <td>...</td>\n",
       "      <td>...</td>\n",
       "      <td>...</td>\n",
       "      <td>...</td>\n",
       "      <td>...</td>\n",
       "      <td>...</td>\n",
       "      <td>...</td>\n",
       "      <td>...</td>\n",
       "    </tr>\n",
       "    <tr>\n",
       "      <th>19828</th>\n",
       "      <td>0xbd236aea3d8e798143581b8c941c301916ecdce2e6ef...</td>\n",
       "      <td>20171628</td>\n",
       "      <td>1719353855</td>\n",
       "      <td>2024-06-25 22:17:35</td>\n",
       "      <td>0x983dfba1c0724786598af0e63a9a6f94aabd24a1</td>\n",
       "      <td>0x95c4f5b83aa70810d4f142d58e5f7242bd891cb0</td>\n",
       "      <td>0.061537</td>\n",
       "      <td>0x415565b0</td>\n",
       "    </tr>\n",
       "    <tr>\n",
       "      <th>19833</th>\n",
       "      <td>0x37dfd226ef55d464641ec94fc675ad3692d9af347132...</td>\n",
       "      <td>20171862</td>\n",
       "      <td>1719356675</td>\n",
       "      <td>2024-06-25 23:04:35</td>\n",
       "      <td>0xe4b7538c2e2bc683a3e84ea67aded2dff6c8cef5</td>\n",
       "      <td>0x28104d4f703ee5b5011cefe106f54efd56f33f95</td>\n",
       "      <td>1198.366157</td>\n",
       "      <td>Swap Compact</td>\n",
       "    </tr>\n",
       "    <tr>\n",
       "      <th>19834</th>\n",
       "      <td>0x37dfd226ef55d464641ec94fc675ad3692d9af347132...</td>\n",
       "      <td>20171862</td>\n",
       "      <td>1719356675</td>\n",
       "      <td>2024-06-25 23:04:35</td>\n",
       "      <td>0x28104d4f703ee5b5011cefe106f54efd56f33f95</td>\n",
       "      <td>0xee8aaa362a75fbf8e0a38a50ddc27f38551e16ea</td>\n",
       "      <td>706.115108</td>\n",
       "      <td>Swap Compact</td>\n",
       "    </tr>\n",
       "    <tr>\n",
       "      <th>19832</th>\n",
       "      <td>0xe6b3867b6a620644689ba43af59f3b3e0eade9c4d764...</td>\n",
       "      <td>20171862</td>\n",
       "      <td>1719356675</td>\n",
       "      <td>2024-06-25 23:04:35</td>\n",
       "      <td>0x6469b34a2a4723163c4902dbbdea728d20693c12</td>\n",
       "      <td>0xee8aaa362a75fbf8e0a38a50ddc27f38551e16ea</td>\n",
       "      <td>81.711825</td>\n",
       "      <td>-</td>\n",
       "    </tr>\n",
       "    <tr>\n",
       "      <th>19835</th>\n",
       "      <td>0x37dfd226ef55d464641ec94fc675ad3692d9af347132...</td>\n",
       "      <td>20171862</td>\n",
       "      <td>1719356675</td>\n",
       "      <td>2024-06-25 23:04:35</td>\n",
       "      <td>0x28104d4f703ee5b5011cefe106f54efd56f33f95</td>\n",
       "      <td>0x983dfba1c0724786598af0e63a9a6f94aabd24a1</td>\n",
       "      <td>492.251048</td>\n",
       "      <td>Swap Compact</td>\n",
       "    </tr>\n",
       "  </tbody>\n",
       "</table>\n",
       "<p>19836 rows × 8 columns</p>\n",
       "</div>"
      ],
      "text/plain": [
       "                                        Transaction Hash   Blockno  \\\n",
       "0      0x27797428fc8aaf088cc707c8788b5d13580696418c79...  18909018   \n",
       "1      0x1fba1d9d11ef9986478f1d964e37f0d1a5abdbc0503e...  18909070   \n",
       "2      0x1fba1d9d11ef9986478f1d964e37f0d1a5abdbc0503e...  18909070   \n",
       "3      0x1fba1d9d11ef9986478f1d964e37f0d1a5abdbc0503e...  18909070   \n",
       "4      0xb8e2f84b80260aa1c1e975e27a59086285e6616ca9cc...  18909149   \n",
       "...                                                  ...       ...   \n",
       "19828  0xbd236aea3d8e798143581b8c941c301916ecdce2e6ef...  20171628   \n",
       "19833  0x37dfd226ef55d464641ec94fc675ad3692d9af347132...  20171862   \n",
       "19834  0x37dfd226ef55d464641ec94fc675ad3692d9af347132...  20171862   \n",
       "19832  0xe6b3867b6a620644689ba43af59f3b3e0eade9c4d764...  20171862   \n",
       "19835  0x37dfd226ef55d464641ec94fc675ad3692d9af347132...  20171862   \n",
       "\n",
       "       UnixTimestamp      DateTime (UTC)  \\\n",
       "0         1704068735 2024-01-01 00:25:35   \n",
       "1         1704069371 2024-01-01 00:36:11   \n",
       "2         1704069371 2024-01-01 00:36:11   \n",
       "3         1704069371 2024-01-01 00:36:11   \n",
       "4         1704070319 2024-01-01 00:51:59   \n",
       "...              ...                 ...   \n",
       "19828     1719353855 2024-06-25 22:17:35   \n",
       "19833     1719356675 2024-06-25 23:04:35   \n",
       "19834     1719356675 2024-06-25 23:04:35   \n",
       "19832     1719356675 2024-06-25 23:04:35   \n",
       "19835     1719356675 2024-06-25 23:04:35   \n",
       "\n",
       "                                             From  \\\n",
       "0      0x6469b34a2a4723163c4902dbbdea728d20693c12   \n",
       "1      0x983dfba1c0724786598af0e63a9a6f94aabd24a1   \n",
       "2      0x983dfba1c0724786598af0e63a9a6f94aabd24a1   \n",
       "3      0x22f9dcf4647084d6c31b2765f6910cd85c178c18   \n",
       "4      0x983dfba1c0724786598af0e63a9a6f94aabd24a1   \n",
       "...                                           ...   \n",
       "19828  0x983dfba1c0724786598af0e63a9a6f94aabd24a1   \n",
       "19833  0xe4b7538c2e2bc683a3e84ea67aded2dff6c8cef5   \n",
       "19834  0x28104d4f703ee5b5011cefe106f54efd56f33f95   \n",
       "19832  0x6469b34a2a4723163c4902dbbdea728d20693c12   \n",
       "19835  0x28104d4f703ee5b5011cefe106f54efd56f33f95   \n",
       "\n",
       "                                               To     Quantity  \\\n",
       "0      0x776a0725094cbf984e31b43d17e8aaec3c88294a    36.593837   \n",
       "1      0x22f9dcf4647084d6c31b2765f6910cd85c178c18   104.984275   \n",
       "2      0x95c4f5b83aa70810d4f142d58e5f7242bd891cb0     0.079035   \n",
       "3      0xd98d9d8c5a70df5d5d8e39847ce254347a59816b   104.984275   \n",
       "4      0x22f9dcf4647084d6c31b2765f6910cd85c178c18    10.247435   \n",
       "...                                           ...          ...   \n",
       "19828  0x95c4f5b83aa70810d4f142d58e5f7242bd891cb0     0.061537   \n",
       "19833  0x28104d4f703ee5b5011cefe106f54efd56f33f95  1198.366157   \n",
       "19834  0xee8aaa362a75fbf8e0a38a50ddc27f38551e16ea   706.115108   \n",
       "19832  0xee8aaa362a75fbf8e0a38a50ddc27f38551e16ea    81.711825   \n",
       "19835  0x983dfba1c0724786598af0e63a9a6f94aabd24a1   492.251048   \n",
       "\n",
       "                Method  \n",
       "0      Sell To Uniswap  \n",
       "1           0x415565b0  \n",
       "2           0x415565b0  \n",
       "3           0x415565b0  \n",
       "4           0x415565b0  \n",
       "...                ...  \n",
       "19828       0x415565b0  \n",
       "19833     Swap Compact  \n",
       "19834     Swap Compact  \n",
       "19832                -  \n",
       "19835     Swap Compact  \n",
       "\n",
       "[19836 rows x 8 columns]"
      ]
     },
     "execution_count": 11,
     "metadata": {},
     "output_type": "execute_result"
    }
   ],
   "source": [
    "data.sort_values(by='UnixTimestamp')"
   ]
  },
  {
   "cell_type": "code",
   "execution_count": 12,
   "metadata": {},
   "outputs": [
    {
     "data": {
      "text/plain": [
       "<AxesSubplot:>"
      ]
     },
     "execution_count": 12,
     "metadata": {},
     "output_type": "execute_result"
    },
    {
     "data": {
      "image/png": "[encoded data removed]",
      "text/plain": [
       "<Figure size 640x480 with 1 Axes>"
      ]
     },
     "metadata": {},
     "output_type": "display_data"
    }
   ],
   "source": [
    "data['Blockno'].hist()"
   ]
  },
  {
   "cell_type": "code",
   "execution_count": 13,
   "metadata": {},
   "outputs": [
    {
     "data": {
      "text/plain": [
       "<AxesSubplot:xlabel='UnixTimestamp'>"
      ]
     },
     "execution_count": 13,
     "metadata": {},
     "output_type": "execute_result"
    },
    {
     "data": {
      "image/png": "[encoded data removed]",
      "text/plain": [
       "<Figure size 640x480 with 1 Axes>"
      ]
     },
     "metadata": {},
     "output_type": "display_data"
    }
   ],
   "source": [
    "sns.boxplot(data=data,x='UnixTimestamp')"
   ]
  },
  {
   "cell_type": "code",
   "execution_count": 14,
   "metadata": {},
   "outputs": [
    {
     "data": {
      "text/plain": [
       "<AxesSubplot:>"
      ]
     },
     "execution_count": 14,
     "metadata": {},
     "output_type": "execute_result"
    },
    {
     "data": {
      "image/png": "[encoded data removed]",
      "text/plain": [
       "<Figure size 640x480 with 2 Axes>"
      ]
     },
     "metadata": {},
     "output_type": "display_data"
    }
   ],
   "source": [
    "sns.heatmap(data.select_dtypes(include=['number']).corr(),annot=True)"
   ]
  },
  {
   "cell_type": "code",
   "execution_count": 15,
   "metadata": {},
   "outputs": [
    {
     "name": "stdout",
     "output_type": "stream",
     "text": [
      "Initial Dataset Overview:\n",
      "<class 'pandas.core.frame.DataFrame'>\n",
      "RangeIndex: 19836 entries, 0 to 19835\n",
      "Data columns (total 8 columns):\n",
      " #   Column            Non-Null Count  Dtype         \n",
      "---  ------            --------------  -----         \n",
      " 0   Transaction Hash  19836 non-null  object        \n",
      " 1   Blockno           19836 non-null  int64         \n",
      " 2   UnixTimestamp     19836 non-null  int64         \n",
      " 3   DateTime (UTC)    19836 non-null  datetime64[ns]\n",
      " 4   From              19836 non-null  object        \n",
      " 5   To                19836 non-null  object        \n",
      " 6   Quantity          19836 non-null  float64       \n",
      " 7   Method            19836 non-null  object        \n",
      "dtypes: datetime64[ns](1), float64(1), int64(2), object(4)\n",
      "memory usage: 1.2+ MB\n",
      "None\n",
      "\n",
      "Sample Rows:\n",
      "                                    Transaction Hash   Blockno  UnixTimestamp  \\\n",
      "0  0x27797428fc8aaf088cc707c8788b5d13580696418c79...  18909018     1704068735   \n",
      "1  0x1fba1d9d11ef9986478f1d964e37f0d1a5abdbc0503e...  18909070     1704069371   \n",
      "2  0x1fba1d9d11ef9986478f1d964e37f0d1a5abdbc0503e...  18909070     1704069371   \n",
      "3  0x1fba1d9d11ef9986478f1d964e37f0d1a5abdbc0503e...  18909070     1704069371   \n",
      "4  0xb8e2f84b80260aa1c1e975e27a59086285e6616ca9cc...  18909149     1704070319   \n",
      "\n",
      "       DateTime (UTC)                                        From  \\\n",
      "0 2024-01-01 00:25:35  0x6469b34a2a4723163c4902dbbdea728d20693c12   \n",
      "1 2024-01-01 00:36:11  0x983dfba1c0724786598af0e63a9a6f94aabd24a1   \n",
      "2 2024-01-01 00:36:11  0x983dfba1c0724786598af0e63a9a6f94aabd24a1   \n",
      "3 2024-01-01 00:36:11  0x22f9dcf4647084d6c31b2765f6910cd85c178c18   \n",
      "4 2024-01-01 00:51:59  0x983dfba1c0724786598af0e63a9a6f94aabd24a1   \n",
      "\n",
      "                                           To    Quantity           Method  \n",
      "0  0x776a0725094cbf984e31b43d17e8aaec3c88294a   36.593837  Sell To Uniswap  \n",
      "1  0x22f9dcf4647084d6c31b2765f6910cd85c178c18  104.984275       0x415565b0  \n",
      "2  0x95c4f5b83aa70810d4f142d58e5f7242bd891cb0    0.079035       0x415565b0  \n",
      "3  0xd98d9d8c5a70df5d5d8e39847ce254347a59816b  104.984275       0x415565b0  \n",
      "4  0x22f9dcf4647084d6c31b2765f6910cd85c178c18   10.247435       0x415565b0  \n"
     ]
    }
   ],
   "source": [
    "# Step 2: Preliminary Data Overview\n",
    "print(\"Initial Dataset Overview:\")\n",
    "print(data.info())\n",
    "print(\"\\nSample Rows:\")\n",
    "print(data.head())\n"
   ]
  },
  {
   "cell_type": "code",
   "execution_count": 18,
   "metadata": {},
   "outputs": [
    {
     "name": "stdout",
     "output_type": "stream",
     "text": [
      "Number of duplicate rows: 7\n"
     ]
    }
   ],
   "source": [
    "# Check for duplicates in the entire DataFrame\n",
    "duplicates = data[data.duplicated()]\n",
    "# Print the number of duplicate rows\n",
    "print(\"Number of duplicate rows:\", duplicates.shape[0])\n",
    "data = data.drop_duplicates()"
   ]
  },
  {
   "cell_type": "code",
   "execution_count": 19,
   "metadata": {},
   "outputs": [],
   "source": [
    "# Removing duplicates\n",
    "data = data.drop_duplicates()"
   ]
  },
  {
   "cell_type": "code",
   "execution_count": 20,
   "metadata": {},
   "outputs": [],
   "source": [
    "# Step 3: Check for Relevance (Assume objectives provided as a list of relevant columns)\n",
    "project_objectives = ['Relevant_Column1', 'Relevant_Column2']  # Replace with actual objectives\n",
    "all_columns = data.columns.tolist()"
   ]
  },
  {
   "cell_type": "code",
   "execution_count": 21,
   "metadata": {},
   "outputs": [
    {
     "name": "stdout",
     "output_type": "stream",
     "text": [
      "\n",
      "Irrelevant Columns: ['Transaction Hash', 'Blockno', 'UnixTimestamp', 'DateTime (UTC)', 'From', 'To', 'Quantity', 'Method']\n",
      "Redundant Columns: []\n"
     ]
    }
   ],
   "source": [
    "# Find irrelevant/redundant columns\n",
    "irrelevant_columns = [col for col in all_columns if col not in project_objectives]\n",
    "redundant_columns = [col for col in data.columns if data[col].nunique() == 1]\n",
    "print(\"\\nIrrelevant Columns:\", irrelevant_columns)\n",
    "print(\"Redundant Columns:\", redundant_columns)\n",
    "# Drop irrelevant/redundant columns (optional)\n",
    "data_cleaned = data.drop(columns=irrelevant_columns + redundant_columns, errors='ignore')\n",
    "\n"
   ]
  },
  {
   "cell_type": "code",
   "execution_count": 22,
   "metadata": {},
   "outputs": [
    {
     "name": "stdout",
     "output_type": "stream",
     "text": [
      "\n",
      "Missing Data Summary (per column):\n",
      "Series([], dtype: float64)\n",
      "Total Rows with Missing Data: 0\n"
     ]
    }
   ],
   "source": [
    "# Step 4: Missing Values Analysis\n",
    "missing_data_summary = data_cleaned.isnull().sum()\n",
    "missing_data_rows = data_cleaned.isnull().any(axis=1).sum()\n",
    "\n",
    "print(\"\\nMissing Data Summary (per column):\")\n",
    "print(missing_data_summary)\n",
    "print(f\"Total Rows with Missing Data: {missing_data_rows}\")"
   ]
  },
  {
   "cell_type": "code",
   "execution_count": 23,
   "metadata": {},
   "outputs": [
    {
     "name": "stdout",
     "output_type": "stream",
     "text": [
      "\n",
      "Critical Columns with Missing Data: []\n"
     ]
    }
   ],
   "source": [
    "# Step 5: Assess Impact (qualitative decision based on project objectives)\n",
    "critical_columns = [col for col in project_objectives if col in data_cleaned.columns and data_cleaned[col].isnull().any()]\n",
    "\n",
    "print(\"\\nCritical Columns with Missing Data:\", critical_columns)\n"
   ]
  },
  {
   "cell_type": "markdown",
   "metadata": {},
   "source": [
    "# Outlier Detection\n",
    "\n",
    "#### Tasks Completed\n",
    "* Perform an analysis to locate missing values in the dataset, identifying affected columns, rows, and patterns (e.g., random or systematic).\n",
    "* Assess the impact of missing data on the dataset's structure and relevance. Determine whether the missing data is critical to the project's objectives.\n",
    "* Implement appropriate methods to address missing data, such as mean/median imputation, interpolation, or dropping affected records. Document chosen techniques.\n",
    "* Validate the dataset after handling missing values to ensure completeness and consistency. Cross-check for any residual issues.\n",
    "* Validate Distribution Plots"
   ]
  },
  {
   "cell_type": "code",
   "execution_count": 24,
   "metadata": {},
   "outputs": [
    {
     "data": {
      "image/png": "[encoded data removed]",
      "text/plain": [
       "<Figure size 800x600 with 1 Axes>"
      ]
     },
     "metadata": {},
     "output_type": "display_data"
    },
    {
     "name": "stderr",
     "output_type": "stream",
     "text": [
      "C:\\Users\\roopadharshini\\AppData\\Local\\Temp\\ipykernel_3416\\533678280.py:43: UserWarning: Attempting to set identical left == right == 42 results in singular transformations; automatically expanding.\n",
      "  plt.xlim(from_min, from_max)\n",
      "C:\\Users\\roopadharshini\\AppData\\Local\\Temp\\ipykernel_3416\\533678280.py:53: UserWarning: Attempting to set identical left == right == 42 results in singular transformations; automatically expanding.\n",
      "  plt.xlim(to_min, to_max)\n"
     ]
    },
    {
     "data": {
      "image/png": "[encoded data removed]",
      "text/plain": [
       "<Figure size 1200x800 with 4 Axes>"
      ]
     },
     "metadata": {},
     "output_type": "display_data"
    }
   ],
   "source": [
    "plt.figure(figsize=(8, 6))\n",
    "sns.boxplot(x=data['Blockno'], color='skyblue')  # Changed 'df' to 'data'\n",
    "plt.title('Boxplot of Blockno', fontsize=16)\n",
    "plt.xlabel('Blockno', fontsize=14)\n",
    "plt.show()\n",
    "# Analyze the range of values in the dataset to set appropriate limits for visualization\n",
    "quantity_min, quantity_max = data['Quantity'].min(), data['Quantity'].max()  # Changed 'df' to 'data'\n",
    "blockno_min, blockno_max = data['Blockno'].min(), data['Blockno'].max()  # Changed 'df' to 'data'\n",
    "\n",
    "# Define reasonable limits to improve the visualization\n",
    "quantity_range = (quantity_min, quantity_max)\n",
    "blockno_range = (blockno_min, blockno_max)\n",
    "\n",
    "# Adjust scatterplots using appropriate limits\n",
    "plt.figure(figsize=(12, 8))\n",
    "\n",
    "# Scatterplot: Quantity vs Blockno\n",
    "plt.subplot(2, 2, 1)\n",
    "sns.scatterplot(x='Blockno', y='Quantity', data=data)  # Changed 'df' to 'data'\n",
    "plt.title('Quantity vs Block Number')\n",
    "plt.xlabel('Block Number')\n",
    "plt.ylabel('Quantity')\n",
    "plt.xlim(blockno_range)\n",
    "plt.ylim(quantity_range)\n",
    "\n",
    "# Scatterplot: Quantity vs UnixTimestamp\n",
    "timestamp_min, timestamp_max = data['UnixTimestamp'].min(), data['UnixTimestamp'].max()  # Changed 'df' to 'data'\n",
    "plt.subplot(2, 2, 2)\n",
    "sns.scatterplot(x='UnixTimestamp', y='Quantity', data=data)  # Changed 'df' to 'data'\n",
    "plt.title('Quantity vs Unix Timestamp')\n",
    "plt.xlabel('Unix Timestamp')\n",
    "plt.ylabel('Quantity')\n",
    "plt.xlim(timestamp_min, timestamp_max)\n",
    "plt.ylim(quantity_range)\n",
    "\n",
    "# Scatterplot: Quantity vs From\n",
    "from_min, from_max = data['From'].str.len().min(), data['From'].str.len().max()  # Example of numeric encoding # Changed 'df' to 'data'\n",
    "plt.subplot(2, 2, 3)\n",
    "sns.scatterplot(x=data['From'].str.len(), y='Quantity', data=data)  # Changed 'df' to 'data'\n",
    "plt.title('Quantity vs From Address')\n",
    "plt.xlabel('From Address Length')\n",
    "plt.ylabel('Quantity')\n",
    "plt.xlim(from_min, from_max)\n",
    "plt.ylim(quantity_range)\n",
    "\n",
    "# Scatterplot: Quantity vs To\n",
    "to_min, to_max = data['To'].str.len().min(), data['To'].str.len().max()  # Changed 'df' to 'data'\n",
    "plt.subplot(2, 2, 4)\n",
    "sns.scatterplot(x=data['To'].str.len(), y='Quantity', data=data)  # Changed 'df' to 'data'\n",
    "plt.title('Quantity vs To Address')\n",
    "plt.xlabel('To Address Length')\n",
    "plt.ylabel('Quantity')\n",
    "plt.xlim(to_min, to_max)\n",
    "plt.ylim(quantity_range)\n",
    "\n",
    "plt.tight_layout()\n",
    "plt.show()"
   ]
  },
  {
   "cell_type": "code",
   "execution_count": 25,
   "metadata": {},
   "outputs": [
    {
     "name": "stdout",
     "output_type": "stream",
     "text": [
      "\n",
      "Imputation Completed: Numerical (Mean), Categorical (Mode)\n"
     ]
    }
   ],
   "source": [
    "# Document chosen methods\n",
    "print(\"\\nImputation Completed: Numerical (Mean), Categorical (Mode)\")\n"
   ]
  },
  {
   "cell_type": "code",
   "execution_count": 26,
   "metadata": {},
   "outputs": [
    {
     "name": "stdout",
     "output_type": "stream",
     "text": [
      "\n",
      "Post-Cleanup Validation:\n",
      "<class 'pandas.core.frame.DataFrame'>\n",
      "Int64Index: 19829 entries, 0 to 19835\n",
      "Empty DataFrameNone\n"
     ]
    }
   ],
   "source": [
    "# Step 7: Validate Dataset\n",
    "print(\"\\nPost-Cleanup Validation:\")\n",
    "print(data_cleaned.info())\n"
   ]
  },
  {
   "cell_type": "code",
   "execution_count": 27,
   "metadata": {},
   "outputs": [
    {
     "name": "stdout",
     "output_type": "stream",
     "text": [
      "Cleaned dataset saved to /mnt/data/trans_cleaned.xlsx\n"
     ]
    }
   ],
   "source": [
    "import os\n",
    "\n",
    "# Save the cleaned dataset\n",
    "cleaned_file_path = '/mnt/data/trans_cleaned.xlsx'\n",
    "\n",
    "# Create the directory if it doesn't exist\n",
    "os.makedirs(os.path.dirname(cleaned_file_path), exist_ok=True)\n",
    "\n",
    "data_cleaned.to_excel(cleaned_file_path, index=False)\n",
    "print(f\"Cleaned dataset saved to {cleaned_file_path}\")"
   ]
  },
  {
   "cell_type": "code",
   "execution_count": 28,
   "metadata": {},
   "outputs": [
    {
     "data": {
      "image/png": "[encoded data removed]",
      "text/plain": [
       "<Figure size 640x480 with 1 Axes>"
      ]
     },
     "metadata": {},
     "output_type": "display_data"
    }
   ],
   "source": [
    "import seaborn as sns\n",
    "import matplotlib.pyplot as plt # Make sure to import matplotlib.pyplot\n",
    "\n",
    "# Assuming you want to use the original 'data' DataFrame if 'Blockno' was dropped:\n",
    "sns.histplot(data['Blockno'], bins=30, kde=False, color='blue')\n",
    "\n",
    "plt.title('Histogram of Blockno')\n",
    "plt.xlabel('Blockno')\n",
    "plt.ylabel('Frequency')\n",
    "plt.show()"
   ]
  },
  {
   "cell_type": "markdown",
   "metadata": {},
   "source": [
    "**Use statistical methods (e.g., Z-scores, IQR) or visualization techniques (e.g., box plots, scatter plots) to detect outliers in the dataset.**\n"
   ]
  },
  {
   "cell_type": "code",
   "execution_count": 29,
   "metadata": {},
   "outputs": [],
   "source": [
    "numeric_column = 'Quantity'\n",
    "values = data[numeric_column]\n"
   ]
  },
  {
   "cell_type": "code",
   "execution_count": 30,
   "metadata": {},
   "outputs": [
    {
     "name": "stdout",
     "output_type": "stream",
     "text": [
      "Outliers detected using Z-scores:\n",
      "                                        Transaction Hash   Blockno  \\\n",
      "1976   0x09283e242a0b4d1b3740877246264b96606e45a68a88...  19203973   \n",
      "2034   0x7cc9df3af3f99d48b57821c20d126f8e2581048eb50a...  19209187   \n",
      "6498   0x71d25e3f21a3a283fdc27a62177222b1fcb488b4d936...  19542502   \n",
      "6649   0x20c376dd3101e34cdd60a8faf1f102b67bf8548ecb18...  19552816   \n",
      "14099  0x45a7c424ef493d00bad7a353405e623869183c3237ec...  19904889   \n",
      "14108  0x582324c488320c47d0ca6f5dbeb52b61796255257873...  19905081   \n",
      "14109  0xcd0040eff828478f5561af9258c8fe2512236bfdc2da...  19905097   \n",
      "14110  0x4456a8565a49010beb06afee221c815e6cb2051f25aa...  19905105   \n",
      "14238  0xe0a84030e852d0522a6e8a2fc2ac0f35ce307d22de3e...  19911647   \n",
      "14239  0x88ee8181aba8d601d1972480b731b55a04b790befb67...  19911650   \n",
      "14334  0xe231a20bc24f88cbe2eb1955544e561ab2eb978fbd62...  19914915   \n",
      "14335  0xb8742b9fe11af2e8b8f3ea05bf1b877f27f3961cad38...  19914917   \n",
      "14336  0x4d9a14049cd09835e1c52b099bfff56b274eb881f8af...  19914920   \n",
      "15829  0xba58159d8b04eec426e274896f2480d57c3fa39ae54c...  19976465   \n",
      "15830  0xd76505df42906cf49ecd551c2cb19f728d1b5103fd6a...  19976471   \n",
      "\n",
      "       UnixTimestamp      DateTime (UTC)  \\\n",
      "1976      1707644195 2024-02-11 09:36:35   \n",
      "2034      1707707543 2024-02-12 03:12:23   \n",
      "6498      1711749887 2024-03-29 22:04:47   \n",
      "6649      1711875179 2024-03-31 08:52:59   \n",
      "14099     1716132659 2024-05-19 15:30:59   \n",
      "14108     1716134975 2024-05-19 16:09:35   \n",
      "14109     1716135167 2024-05-19 16:12:47   \n",
      "14110     1716135263 2024-05-19 16:14:23   \n",
      "14238     1716214259 2024-05-20 14:10:59   \n",
      "14239     1716214295 2024-05-20 14:11:35   \n",
      "14334     1716253871 2024-05-21 01:11:11   \n",
      "14335     1716253895 2024-05-21 01:11:35   \n",
      "14336     1716253931 2024-05-21 01:12:11   \n",
      "15829     1716997175 2024-05-29 15:39:35   \n",
      "15830     1716997247 2024-05-29 15:40:47   \n",
      "\n",
      "                                             From  \\\n",
      "1976   0x0000000000000000000000000000000000000000   \n",
      "2034   0xcc7344a557cdb86f7c713527c05eaf7906e1abab   \n",
      "6498   0x0000000000000000000000000000000000000000   \n",
      "6649   0xfbf30fc4ee985920fd6aa90f6dfe8db3c0e44763   \n",
      "14099  0x0000000000000000000000000000000000000000   \n",
      "14108  0xfbf9e10ebb9f3b518f3329fcb416821c35b720a5   \n",
      "14109  0xfbf9e10ebb9f3b518f3329fcb416821c35b720a5   \n",
      "14110  0x0d3808852473db55e5c0d6528483b2514f5ec680   \n",
      "14238  0x0000000000000000000000000000000000000000   \n",
      "14239  0x0000000000000000000000000000000000000000   \n",
      "14334  0x0000000000000000000000000000000000000000   \n",
      "14335  0x0000000000000000000000000000000000000000   \n",
      "14336  0x0000000000000000000000000000000000000000   \n",
      "15829  0xfbf9e10ebb9f3b518f3329fcb416821c35b720a5   \n",
      "15830  0x0d3808852473db55e5c0d6528483b2514f5ec680   \n",
      "\n",
      "                                               To       Quantity  \\\n",
      "1976   0xcc7344a557cdb86f7c713527c05eaf7906e1abab   40000.000000   \n",
      "2034   0x0000000000000000000000000000000000000000   40000.000000   \n",
      "6498   0xfbf30fc4ee985920fd6aa90f6dfe8db3c0e44763   45200.000000   \n",
      "6649   0xee8aaa362a75fbf8e0a38a50ddc27f38551e16ea   26353.968605   \n",
      "14099  0xfbf9e10ebb9f3b518f3329fcb416821c35b720a5   75170.000000   \n",
      "14108  0xfbf9e10ebb9f3b518f3329fcb416821c35b720a5   84956.000000   \n",
      "14109  0x0d3808852473db55e5c0d6528483b2514f5ec680   84956.000000   \n",
      "14110  0xfa7093cdd9ee6932b4eb2c9e1cde7ce00b1fa4b9   84744.585000   \n",
      "14238  0xfbf9e10ebb9f3b518f3329fcb416821c35b720a5  150000.000000   \n",
      "14239  0xfbf9e10ebb9f3b518f3329fcb416821c35b720a5  150000.000000   \n",
      "14334  0xfbf9e10ebb9f3b518f3329fcb416821c35b720a5  150000.000000   \n",
      "14335  0xfbf9e10ebb9f3b518f3329fcb416821c35b720a5  150000.000000   \n",
      "14336  0xfbf9e10ebb9f3b518f3329fcb416821c35b720a5  150000.000000   \n",
      "15829  0x0d3808852473db55e5c0d6528483b2514f5ec680  750000.000000   \n",
      "15830  0xfa7093cdd9ee6932b4eb2c9e1cde7ce00b1fa4b9  748125.000000   \n",
      "\n",
      "                              Method    Z-Score  \n",
      "1976   Finalise Near To Eth Transfer   4.947451  \n",
      "2034                Transfer To Near   4.947451  \n",
      "6498   Finalise Near To Eth Transfer   5.596757  \n",
      "6649                Exec Transaction   3.243519  \n",
      "14099  Finalise Near To Eth Transfer   9.339005  \n",
      "14108                       Transfer  10.560949  \n",
      "14109                       Transfer  10.560949  \n",
      "14110                         Shield  10.534550  \n",
      "14238  Finalise Near To Eth Transfer  18.682765  \n",
      "14239  Finalise Near To Eth Transfer  18.682765  \n",
      "14334  Finalise Near To Eth Transfer  18.682765  \n",
      "14335  Finalise Near To Eth Transfer  18.682765  \n",
      "14336  Finalise Near To Eth Transfer  18.682765  \n",
      "15829                       Transfer  93.602663  \n",
      "15830                         Shield  93.368539  \n"
     ]
    }
   ],
   "source": [
    "from scipy.stats import zscore\n",
    "\n",
    "data['Z-Score'] = zscore(data[numeric_column])\n",
    "z_threshold = 3  # Define a threshold\n",
    "outliers_z = data[abs(data['Z-Score']) > z_threshold]\n",
    "print(\"Outliers detected using Z-scores:\")\n",
    "print(outliers_z)\n"
   ]
  },
  {
   "cell_type": "code",
   "execution_count": 31,
   "metadata": {},
   "outputs": [
    {
     "name": "stdout",
     "output_type": "stream",
     "text": [
      "Outliers detected using IQR:\n",
      "                                        Transaction Hash   Blockno  \\\n",
      "42     0x5746abd96e36c5b453e29b286ba7bdda0822e0227e94...  18914142   \n",
      "48     0xaee54ba3c7462416f3ab76412a0f0dc2456492c5ffac...  18914652   \n",
      "50     0xaee54ba3c7462416f3ab76412a0f0dc2456492c5ffac...  18914652   \n",
      "76     0x1202d28ca9ef1cde927e4278cb3da6207dcc24f8d1d7...  18915600   \n",
      "77     0x1202d28ca9ef1cde927e4278cb3da6207dcc24f8d1d7...  18915600   \n",
      "...                                                  ...       ...   \n",
      "19706  0x446a1117c5075dfb70c6b521d7a5b2e814efe8ea545c...  20163467   \n",
      "19707  0x009ce1622470c4cd9f021619337cf4eae1b4ead7908f...  20163472   \n",
      "19712  0x1c8444fab9247f19dd84255210d3cea05f9d09a184eb...  20164395   \n",
      "19815  0x4a613ed0b5baae590ca416aa3f280167aa0ccf7b6b12...  20171387   \n",
      "19833  0x37dfd226ef55d464641ec94fc675ad3692d9af347132...  20171862   \n",
      "\n",
      "       UnixTimestamp      DateTime (UTC)  \\\n",
      "42        1704131003 2024-01-01 17:43:23   \n",
      "48        1704137195 2024-01-01 19:26:35   \n",
      "50        1704137195 2024-01-01 19:26:35   \n",
      "76        1704148715 2024-01-01 22:38:35   \n",
      "77        1704148715 2024-01-01 22:38:35   \n",
      "...              ...                 ...   \n",
      "19706     1719255347 2024-06-24 18:55:47   \n",
      "19707     1719255407 2024-06-24 18:56:47   \n",
      "19712     1719266543 2024-06-24 22:02:23   \n",
      "19815     1719350963 2024-06-25 21:29:23   \n",
      "19833     1719356675 2024-06-25 23:04:35   \n",
      "\n",
      "                                             From  \\\n",
      "42     0x65a8f07bd9a8598e1b5b6c0a88f4779dbc077675   \n",
      "48     0x983dfba1c0724786598af0e63a9a6f94aabd24a1   \n",
      "50     0x1111111254eeb25477b68fb85ed929f73a960582   \n",
      "76     0xbdbddce8a96e672beac70dec104566b5167db818   \n",
      "77     0x22f9dcf4647084d6c31b2765f6910cd85c178c18   \n",
      "...                                           ...   \n",
      "19706  0x1111111254eeb25477b68fb85ed929f73a960582   \n",
      "19707  0x6889de313803839ce3e15996a86167f639b4a634   \n",
      "19712  0xee8aaa362a75fbf8e0a38a50ddc27f38551e16ea   \n",
      "19815  0x6889de313803839ce3e15996a86167f639b4a634   \n",
      "19833  0xe4b7538c2e2bc683a3e84ea67aded2dff6c8cef5   \n",
      "\n",
      "                                               To     Quantity  \\\n",
      "42     0x22f9dcf4647084d6c31b2765f6910cd85c178c18   816.500000   \n",
      "48     0x1111111254eeb25477b68fb85ed929f73a960582   810.034476   \n",
      "50     0x6889de313803839ce3e15996a86167f639b4a634   810.034476   \n",
      "76     0x22f9dcf4647084d6c31b2765f6910cd85c178c18   991.532433   \n",
      "77     0x983dfba1c0724786598af0e63a9a6f94aabd24a1   991.532433   \n",
      "...                                           ...          ...   \n",
      "19706  0x6889de313803839ce3e15996a86167f639b4a634   758.799883   \n",
      "19707  0x0000000000000000000000000000000000000000  1720.940369   \n",
      "19712  0x6889de313803839ce3e15996a86167f639b4a634   746.305913   \n",
      "19815  0x5f515f6c524b18ca30f7783fb58dd4be2e9904ec   746.300000   \n",
      "19833  0x28104d4f703ee5b5011cefe106f54efd56f33f95  1198.366157   \n",
      "\n",
      "                 Method   Z-Score  \n",
      "42           0x415565b0  0.054744  \n",
      "48                 Swap  0.053937  \n",
      "50                 Swap  0.053937  \n",
      "76           0x415565b0  0.076600  \n",
      "77           0x415565b0  0.076600  \n",
      "...                 ...       ...  \n",
      "19706              Swap  0.047540  \n",
      "19707  Transfer To Near  0.167679  \n",
      "19712    Uniswap V3Swap  0.045980  \n",
      "19815              Swap  0.045979  \n",
      "19833      Swap Compact  0.102427  \n",
      "\n",
      "[1688 rows x 9 columns]\n"
     ]
    }
   ],
   "source": [
    "Q1 = values.quantile(0.25)\n",
    "Q3 = values.quantile(0.75)\n",
    "IQR = Q3 - Q1\n",
    "\n",
    "lower_bound = Q1 - 1.5 * IQR\n",
    "upper_bound = Q3 + 1.5 * IQR\n",
    "\n",
    "outliers_iqr = data[(values < lower_bound) | (values > upper_bound)]\n",
    "print(\"Outliers detected using IQR:\")\n",
    "print(outliers_iqr)\n"
   ]
  },
  {
   "cell_type": "code",
   "execution_count": 35,
   "metadata": {},
   "outputs": [],
   "source": [
    "outliers_iqr.to_csv('../../Data/outliers_iqr.csv', index=False)\n",
    "\n"
   ]
  },
  {
   "cell_type": "code",
   "execution_count": null,
   "metadata": {},
   "outputs": [],
   "source": []
  }
 ],
 "metadata": {
  "kernelspec": {
   "display_name": "base",
   "language": "python",
   "name": "python3"
  },
  "language_info": {
   "codemirror_mode": {
    "name": "ipython",
    "version": 3
   },
   "file_extension": ".py",
   "mimetype": "text/x-python",
   "name": "python",
   "nbconvert_exporter": "python",
   "pygments_lexer": "ipython3",
   "version": "3.9.13"
  }
 },
 "nbformat": 4,
 "nbformat_minor": 2
}
