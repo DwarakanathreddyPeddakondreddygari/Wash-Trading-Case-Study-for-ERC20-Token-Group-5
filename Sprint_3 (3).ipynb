{
  "nbformat": 4,
  "nbformat_minor": 0,
  "metadata": {
    "colab": {
      "provenance": []
    },
    "kernelspec": {
      "name": "python3",
      "display_name": "Python 3"
    },
    "language_info": {
      "name": "python"
    }
  },
  "cells": [
    {
      "cell_type": "markdown",
      "source": [
        "# ARIMA"
      ],
      "metadata": {
        "id": "-1xA4XQstIMP"
      }
    },
    {
      "cell_type": "code",
      "source": [
        "pip install statsmodels pmdarima\n"
      ],
      "metadata": {
        "id": "PKZ_UbPF0X9Y",
        "colab": {
          "base_uri": "https://localhost:8080/"
        },
        "outputId": "5ca55305-34e5-493f-a4a9-e566a848a3ad"
      },
      "execution_count": null,
      "outputs": [
        {
          "output_type": "stream",
          "name": "stdout",
          "text": [
            "Requirement already satisfied: statsmodels in /usr/local/lib/python3.11/dist-packages (0.14.4)\n",
            "Collecting pmdarima\n",
            "  Downloading pmdarima-2.0.4-cp311-cp311-manylinux_2_17_x86_64.manylinux2014_x86_64.manylinux_2_28_x86_64.whl.metadata (7.8 kB)\n",
            "Requirement already satisfied: numpy<3,>=1.22.3 in /usr/local/lib/python3.11/dist-packages (from statsmodels) (1.26.4)\n",
            "Requirement already satisfied: scipy!=1.9.2,>=1.8 in /usr/local/lib/python3.11/dist-packages (from statsmodels) (1.13.1)\n",
            "Requirement already satisfied: pandas!=2.1.0,>=1.4 in /usr/local/lib/python3.11/dist-packages (from statsmodels) (2.2.2)\n",
            "Requirement already satisfied: patsy>=0.5.6 in /usr/local/lib/python3.11/dist-packages (from statsmodels) (1.0.1)\n",
            "Requirement already satisfied: packaging>=21.3 in /usr/local/lib/python3.11/dist-packages (from statsmodels) (24.2)\n",
            "Requirement already satisfied: joblib>=0.11 in /usr/local/lib/python3.11/dist-packages (from pmdarima) (1.4.2)\n",
            "Requirement already satisfied: Cython!=0.29.18,!=0.29.31,>=0.29 in /usr/local/lib/python3.11/dist-packages (from pmdarima) (3.0.11)\n",
            "Requirement already satisfied: scikit-learn>=0.22 in /usr/local/lib/python3.11/dist-packages (from pmdarima) (1.6.1)\n",
            "Requirement already satisfied: urllib3 in /usr/local/lib/python3.11/dist-packages (from pmdarima) (2.3.0)\n",
            "Requirement already satisfied: setuptools!=50.0.0,>=38.6.0 in /usr/local/lib/python3.11/dist-packages (from pmdarima) (75.1.0)\n",
            "Requirement already satisfied: python-dateutil>=2.8.2 in /usr/local/lib/python3.11/dist-packages (from pandas!=2.1.0,>=1.4->statsmodels) (2.8.2)\n",
            "Requirement already satisfied: pytz>=2020.1 in /usr/local/lib/python3.11/dist-packages (from pandas!=2.1.0,>=1.4->statsmodels) (2024.2)\n",
            "Requirement already satisfied: tzdata>=2022.7 in /usr/local/lib/python3.11/dist-packages (from pandas!=2.1.0,>=1.4->statsmodels) (2025.1)\n",
            "Requirement already satisfied: threadpoolctl>=3.1.0 in /usr/local/lib/python3.11/dist-packages (from scikit-learn>=0.22->pmdarima) (3.5.0)\n",
            "Requirement already satisfied: six>=1.5 in /usr/local/lib/python3.11/dist-packages (from python-dateutil>=2.8.2->pandas!=2.1.0,>=1.4->statsmodels) (1.17.0)\n",
            "Downloading pmdarima-2.0.4-cp311-cp311-manylinux_2_17_x86_64.manylinux2014_x86_64.manylinux_2_28_x86_64.whl (2.2 MB)\n",
            "\u001b[2K   \u001b[90m━━━━━━━━━━━━━━━━━━━━━━━━━━━━━━━━━━━━━━━━\u001b[0m \u001b[32m2.2/2.2 MB\u001b[0m \u001b[31m16.0 MB/s\u001b[0m eta \u001b[36m0:00:00\u001b[0m\n",
            "\u001b[?25hInstalling collected packages: pmdarima\n",
            "Successfully installed pmdarima-2.0.4\n"
          ]
        }
      ]
    },
    {
      "cell_type": "code",
      "source": [
        "from statsmodels.tsa.arima.model import ARIMA\n",
        "from pmdarima import auto_arima\n",
        "import numpy as np\n",
        "import pandas as pd\n",
        "import matplotlib.pyplot as plt"
      ],
      "metadata": {
        "id": "0E09GJHotQQc"
      },
      "execution_count": null,
      "outputs": []
    },
    {
      "cell_type": "code",
      "source": [
        "df = pd.read_excel('/content/trans.xlsx')"
      ],
      "metadata": {
        "id": "doSNPkcptauR"
      },
      "execution_count": null,
      "outputs": []
    },
    {
      "cell_type": "code",
      "source": [
        "df['Quantity'].dropna(inplace = True)\n",
        "df[\"Quantity\"].drop_duplicates(inplace = True)"
      ],
      "metadata": {
        "id": "65zSzWk7tex9"
      },
      "execution_count": null,
      "outputs": []
    },
    {
      "cell_type": "code",
      "source": [
        "df['DateTime'] = pd.to_datetime(df['DateTime (UTC)'])\n",
        "df.set_index('DateTime', inplace=True)\n",
        "df = df.sort_index()\n"
      ],
      "metadata": {
        "id": "bD28pi_-tqQq"
      },
      "execution_count": null,
      "outputs": []
    },
    {
      "cell_type": "code",
      "source": [
        "df.head()"
      ],
      "metadata": {
        "colab": {
          "base_uri": "https://localhost:8080/",
          "height": 448
        },
        "id": "jDYn12G-tsR2",
        "outputId": "b9b601af-b6c5-4c2c-9cd4-1900e6bfd813"
      },
      "execution_count": null,
      "outputs": [
        {
          "output_type": "execute_result",
          "data": {
            "text/plain": [
              "                                                      Transaction Hash  \\\n",
              "DateTime                                                                 \n",
              "2024-01-01 00:25:35  0x27797428fc8aaf088cc707c8788b5d13580696418c79...   \n",
              "2024-01-01 00:36:11  0x1fba1d9d11ef9986478f1d964e37f0d1a5abdbc0503e...   \n",
              "2024-01-01 00:36:11  0x1fba1d9d11ef9986478f1d964e37f0d1a5abdbc0503e...   \n",
              "2024-01-01 00:36:11  0x1fba1d9d11ef9986478f1d964e37f0d1a5abdbc0503e...   \n",
              "2024-01-01 00:51:59  0xb8e2f84b80260aa1c1e975e27a59086285e6616ca9cc...   \n",
              "\n",
              "                      Blockno  UnixTimestamp      DateTime (UTC)  \\\n",
              "DateTime                                                           \n",
              "2024-01-01 00:25:35  18909018     1704068735 2024-01-01 00:25:35   \n",
              "2024-01-01 00:36:11  18909070     1704069371 2024-01-01 00:36:11   \n",
              "2024-01-01 00:36:11  18909070     1704069371 2024-01-01 00:36:11   \n",
              "2024-01-01 00:36:11  18909070     1704069371 2024-01-01 00:36:11   \n",
              "2024-01-01 00:51:59  18909149     1704070319 2024-01-01 00:51:59   \n",
              "\n",
              "                                                           From  \\\n",
              "DateTime                                                          \n",
              "2024-01-01 00:25:35  0x6469b34a2a4723163c4902dbbdea728d20693c12   \n",
              "2024-01-01 00:36:11  0x983dfba1c0724786598af0e63a9a6f94aabd24a1   \n",
              "2024-01-01 00:36:11  0x983dfba1c0724786598af0e63a9a6f94aabd24a1   \n",
              "2024-01-01 00:36:11  0x22f9dcf4647084d6c31b2765f6910cd85c178c18   \n",
              "2024-01-01 00:51:59  0x983dfba1c0724786598af0e63a9a6f94aabd24a1   \n",
              "\n",
              "                                                             To    Quantity  \\\n",
              "DateTime                                                                      \n",
              "2024-01-01 00:25:35  0x776a0725094cbf984e31b43d17e8aaec3c88294a   36.593837   \n",
              "2024-01-01 00:36:11  0x22f9dcf4647084d6c31b2765f6910cd85c178c18  104.984275   \n",
              "2024-01-01 00:36:11  0x95c4f5b83aa70810d4f142d58e5f7242bd891cb0    0.079035   \n",
              "2024-01-01 00:36:11  0xd98d9d8c5a70df5d5d8e39847ce254347a59816b  104.984275   \n",
              "2024-01-01 00:51:59  0x22f9dcf4647084d6c31b2765f6910cd85c178c18   10.247435   \n",
              "\n",
              "                              Method  \n",
              "DateTime                              \n",
              "2024-01-01 00:25:35  Sell To Uniswap  \n",
              "2024-01-01 00:36:11       0x415565b0  \n",
              "2024-01-01 00:36:11       0x415565b0  \n",
              "2024-01-01 00:36:11       0x415565b0  \n",
              "2024-01-01 00:51:59       0x415565b0  "
            ],
            "text/html": [
              "\n",
              "  <div id=\"df-22278da0-3285-4873-9106-3fa9b0cab89e\" class=\"colab-df-container\">\n",
              "    <div>\n",
              "<style scoped>\n",
              "    .dataframe tbody tr th:only-of-type {\n",
              "        vertical-align: middle;\n",
              "    }\n",
              "\n",
              "    .dataframe tbody tr th {\n",
              "        vertical-align: top;\n",
              "    }\n",
              "\n",
              "    .dataframe thead th {\n",
              "        text-align: right;\n",
              "    }\n",
              "</style>\n",
              "<table border=\"1\" class=\"dataframe\">\n",
              "  <thead>\n",
              "    <tr style=\"text-align: right;\">\n",
              "      <th></th>\n",
              "      <th>Transaction Hash</th>\n",
              "      <th>Blockno</th>\n",
              "      <th>UnixTimestamp</th>\n",
              "      <th>DateTime (UTC)</th>\n",
              "      <th>From</th>\n",
              "      <th>To</th>\n",
              "      <th>Quantity</th>\n",
              "      <th>Method</th>\n",
              "    </tr>\n",
              "    <tr>\n",
              "      <th>DateTime</th>\n",
              "      <th></th>\n",
              "      <th></th>\n",
              "      <th></th>\n",
              "      <th></th>\n",
              "      <th></th>\n",
              "      <th></th>\n",
              "      <th></th>\n",
              "      <th></th>\n",
              "    </tr>\n",
              "  </thead>\n",
              "  <tbody>\n",
              "    <tr>\n",
              "      <th>2024-01-01 00:25:35</th>\n",
              "      <td>0x27797428fc8aaf088cc707c8788b5d13580696418c79...</td>\n",
              "      <td>18909018</td>\n",
              "      <td>1704068735</td>\n",
              "      <td>2024-01-01 00:25:35</td>\n",
              "      <td>0x6469b34a2a4723163c4902dbbdea728d20693c12</td>\n",
              "      <td>0x776a0725094cbf984e31b43d17e8aaec3c88294a</td>\n",
              "      <td>36.593837</td>\n",
              "      <td>Sell To Uniswap</td>\n",
              "    </tr>\n",
              "    <tr>\n",
              "      <th>2024-01-01 00:36:11</th>\n",
              "      <td>0x1fba1d9d11ef9986478f1d964e37f0d1a5abdbc0503e...</td>\n",
              "      <td>18909070</td>\n",
              "      <td>1704069371</td>\n",
              "      <td>2024-01-01 00:36:11</td>\n",
              "      <td>0x983dfba1c0724786598af0e63a9a6f94aabd24a1</td>\n",
              "      <td>0x22f9dcf4647084d6c31b2765f6910cd85c178c18</td>\n",
              "      <td>104.984275</td>\n",
              "      <td>0x415565b0</td>\n",
              "    </tr>\n",
              "    <tr>\n",
              "      <th>2024-01-01 00:36:11</th>\n",
              "      <td>0x1fba1d9d11ef9986478f1d964e37f0d1a5abdbc0503e...</td>\n",
              "      <td>18909070</td>\n",
              "      <td>1704069371</td>\n",
              "      <td>2024-01-01 00:36:11</td>\n",
              "      <td>0x983dfba1c0724786598af0e63a9a6f94aabd24a1</td>\n",
              "      <td>0x95c4f5b83aa70810d4f142d58e5f7242bd891cb0</td>\n",
              "      <td>0.079035</td>\n",
              "      <td>0x415565b0</td>\n",
              "    </tr>\n",
              "    <tr>\n",
              "      <th>2024-01-01 00:36:11</th>\n",
              "      <td>0x1fba1d9d11ef9986478f1d964e37f0d1a5abdbc0503e...</td>\n",
              "      <td>18909070</td>\n",
              "      <td>1704069371</td>\n",
              "      <td>2024-01-01 00:36:11</td>\n",
              "      <td>0x22f9dcf4647084d6c31b2765f6910cd85c178c18</td>\n",
              "      <td>0xd98d9d8c5a70df5d5d8e39847ce254347a59816b</td>\n",
              "      <td>104.984275</td>\n",
              "      <td>0x415565b0</td>\n",
              "    </tr>\n",
              "    <tr>\n",
              "      <th>2024-01-01 00:51:59</th>\n",
              "      <td>0xb8e2f84b80260aa1c1e975e27a59086285e6616ca9cc...</td>\n",
              "      <td>18909149</td>\n",
              "      <td>1704070319</td>\n",
              "      <td>2024-01-01 00:51:59</td>\n",
              "      <td>0x983dfba1c0724786598af0e63a9a6f94aabd24a1</td>\n",
              "      <td>0x22f9dcf4647084d6c31b2765f6910cd85c178c18</td>\n",
              "      <td>10.247435</td>\n",
              "      <td>0x415565b0</td>\n",
              "    </tr>\n",
              "  </tbody>\n",
              "</table>\n",
              "</div>\n",
              "    <div class=\"colab-df-buttons\">\n",
              "\n",
              "  <div class=\"colab-df-container\">\n",
              "    <button class=\"colab-df-convert\" onclick=\"convertToInteractive('df-22278da0-3285-4873-9106-3fa9b0cab89e')\"\n",
              "            title=\"Convert this dataframe to an interactive table.\"\n",
              "            style=\"display:none;\">\n",
              "\n",
              "  <svg xmlns=\"http://www.w3.org/2000/svg\" height=\"24px\" viewBox=\"0 -960 960 960\">\n",
              "    <path d=\"M120-120v-720h720v720H120Zm60-500h600v-160H180v160Zm220 220h160v-160H400v160Zm0 220h160v-160H400v160ZM180-400h160v-160H180v160Zm440 0h160v-160H620v160ZM180-180h160v-160H180v160Zm440 0h160v-160H620v160Z\"/>\n",
              "  </svg>\n",
              "    </button>\n",
              "\n",
              "  <style>\n",
              "    .colab-df-container {\n",
              "      display:flex;\n",
              "      gap: 12px;\n",
              "    }\n",
              "\n",
              "    .colab-df-convert {\n",
              "      background-color: #E8F0FE;\n",
              "      border: none;\n",
              "      border-radius: 50%;\n",
              "      cursor: pointer;\n",
              "      display: none;\n",
              "      fill: #1967D2;\n",
              "      height: 32px;\n",
              "      padding: 0 0 0 0;\n",
              "      width: 32px;\n",
              "    }\n",
              "\n",
              "    .colab-df-convert:hover {\n",
              "      background-color: #E2EBFA;\n",
              "      box-shadow: 0px 1px 2px rgba(60, 64, 67, 0.3), 0px 1px 3px 1px rgba(60, 64, 67, 0.15);\n",
              "      fill: #174EA6;\n",
              "    }\n",
              "\n",
              "    .colab-df-buttons div {\n",
              "      margin-bottom: 4px;\n",
              "    }\n",
              "\n",
              "    [theme=dark] .colab-df-convert {\n",
              "      background-color: #3B4455;\n",
              "      fill: #D2E3FC;\n",
              "    }\n",
              "\n",
              "    [theme=dark] .colab-df-convert:hover {\n",
              "      background-color: #434B5C;\n",
              "      box-shadow: 0px 1px 3px 1px rgba(0, 0, 0, 0.15);\n",
              "      filter: drop-shadow(0px 1px 2px rgba(0, 0, 0, 0.3));\n",
              "      fill: #FFFFFF;\n",
              "    }\n",
              "  </style>\n",
              "\n",
              "    <script>\n",
              "      const buttonEl =\n",
              "        document.querySelector('#df-22278da0-3285-4873-9106-3fa9b0cab89e button.colab-df-convert');\n",
              "      buttonEl.style.display =\n",
              "        google.colab.kernel.accessAllowed ? 'block' : 'none';\n",
              "\n",
              "      async function convertToInteractive(key) {\n",
              "        const element = document.querySelector('#df-22278da0-3285-4873-9106-3fa9b0cab89e');\n",
              "        const dataTable =\n",
              "          await google.colab.kernel.invokeFunction('convertToInteractive',\n",
              "                                                    [key], {});\n",
              "        if (!dataTable) return;\n",
              "\n",
              "        const docLinkHtml = 'Like what you see? Visit the ' +\n",
              "          '<a target=\"_blank\" href=https://colab.research.google.com/notebooks/data_table.ipynb>data table notebook</a>'\n",
              "          + ' to learn more about interactive tables.';\n",
              "        element.innerHTML = '';\n",
              "        dataTable['output_type'] = 'display_data';\n",
              "        await google.colab.output.renderOutput(dataTable, element);\n",
              "        const docLink = document.createElement('div');\n",
              "        docLink.innerHTML = docLinkHtml;\n",
              "        element.appendChild(docLink);\n",
              "      }\n",
              "    </script>\n",
              "  </div>\n",
              "\n",
              "\n",
              "<div id=\"df-c625f87e-eda9-47a5-8633-8ea2ff40d518\">\n",
              "  <button class=\"colab-df-quickchart\" onclick=\"quickchart('df-c625f87e-eda9-47a5-8633-8ea2ff40d518')\"\n",
              "            title=\"Suggest charts\"\n",
              "            style=\"display:none;\">\n",
              "\n",
              "<svg xmlns=\"http://www.w3.org/2000/svg\" height=\"24px\"viewBox=\"0 0 24 24\"\n",
              "     width=\"24px\">\n",
              "    <g>\n",
              "        <path d=\"M19 3H5c-1.1 0-2 .9-2 2v14c0 1.1.9 2 2 2h14c1.1 0 2-.9 2-2V5c0-1.1-.9-2-2-2zM9 17H7v-7h2v7zm4 0h-2V7h2v10zm4 0h-2v-4h2v4z\"/>\n",
              "    </g>\n",
              "</svg>\n",
              "  </button>\n",
              "\n",
              "<style>\n",
              "  .colab-df-quickchart {\n",
              "      --bg-color: #E8F0FE;\n",
              "      --fill-color: #1967D2;\n",
              "      --hover-bg-color: #E2EBFA;\n",
              "      --hover-fill-color: #174EA6;\n",
              "      --disabled-fill-color: #AAA;\n",
              "      --disabled-bg-color: #DDD;\n",
              "  }\n",
              "\n",
              "  [theme=dark] .colab-df-quickchart {\n",
              "      --bg-color: #3B4455;\n",
              "      --fill-color: #D2E3FC;\n",
              "      --hover-bg-color: #434B5C;\n",
              "      --hover-fill-color: #FFFFFF;\n",
              "      --disabled-bg-color: #3B4455;\n",
              "      --disabled-fill-color: #666;\n",
              "  }\n",
              "\n",
              "  .colab-df-quickchart {\n",
              "    background-color: var(--bg-color);\n",
              "    border: none;\n",
              "    border-radius: 50%;\n",
              "    cursor: pointer;\n",
              "    display: none;\n",
              "    fill: var(--fill-color);\n",
              "    height: 32px;\n",
              "    padding: 0;\n",
              "    width: 32px;\n",
              "  }\n",
              "\n",
              "  .colab-df-quickchart:hover {\n",
              "    background-color: var(--hover-bg-color);\n",
              "    box-shadow: 0 1px 2px rgba(60, 64, 67, 0.3), 0 1px 3px 1px rgba(60, 64, 67, 0.15);\n",
              "    fill: var(--button-hover-fill-color);\n",
              "  }\n",
              "\n",
              "  .colab-df-quickchart-complete:disabled,\n",
              "  .colab-df-quickchart-complete:disabled:hover {\n",
              "    background-color: var(--disabled-bg-color);\n",
              "    fill: var(--disabled-fill-color);\n",
              "    box-shadow: none;\n",
              "  }\n",
              "\n",
              "  .colab-df-spinner {\n",
              "    border: 2px solid var(--fill-color);\n",
              "    border-color: transparent;\n",
              "    border-bottom-color: var(--fill-color);\n",
              "    animation:\n",
              "      spin 1s steps(1) infinite;\n",
              "  }\n",
              "\n",
              "  @keyframes spin {\n",
              "    0% {\n",
              "      border-color: transparent;\n",
              "      border-bottom-color: var(--fill-color);\n",
              "      border-left-color: var(--fill-color);\n",
              "    }\n",
              "    20% {\n",
              "      border-color: transparent;\n",
              "      border-left-color: var(--fill-color);\n",
              "      border-top-color: var(--fill-color);\n",
              "    }\n",
              "    30% {\n",
              "      border-color: transparent;\n",
              "      border-left-color: var(--fill-color);\n",
              "      border-top-color: var(--fill-color);\n",
              "      border-right-color: var(--fill-color);\n",
              "    }\n",
              "    40% {\n",
              "      border-color: transparent;\n",
              "      border-right-color: var(--fill-color);\n",
              "      border-top-color: var(--fill-color);\n",
              "    }\n",
              "    60% {\n",
              "      border-color: transparent;\n",
              "      border-right-color: var(--fill-color);\n",
              "    }\n",
              "    80% {\n",
              "      border-color: transparent;\n",
              "      border-right-color: var(--fill-color);\n",
              "      border-bottom-color: var(--fill-color);\n",
              "    }\n",
              "    90% {\n",
              "      border-color: transparent;\n",
              "      border-bottom-color: var(--fill-color);\n",
              "    }\n",
              "  }\n",
              "</style>\n",
              "\n",
              "  <script>\n",
              "    async function quickchart(key) {\n",
              "      const quickchartButtonEl =\n",
              "        document.querySelector('#' + key + ' button');\n",
              "      quickchartButtonEl.disabled = true;  // To prevent multiple clicks.\n",
              "      quickchartButtonEl.classList.add('colab-df-spinner');\n",
              "      try {\n",
              "        const charts = await google.colab.kernel.invokeFunction(\n",
              "            'suggestCharts', [key], {});\n",
              "      } catch (error) {\n",
              "        console.error('Error during call to suggestCharts:', error);\n",
              "      }\n",
              "      quickchartButtonEl.classList.remove('colab-df-spinner');\n",
              "      quickchartButtonEl.classList.add('colab-df-quickchart-complete');\n",
              "    }\n",
              "    (() => {\n",
              "      let quickchartButtonEl =\n",
              "        document.querySelector('#df-c625f87e-eda9-47a5-8633-8ea2ff40d518 button');\n",
              "      quickchartButtonEl.style.display =\n",
              "        google.colab.kernel.accessAllowed ? 'block' : 'none';\n",
              "    })();\n",
              "  </script>\n",
              "</div>\n",
              "\n",
              "    </div>\n",
              "  </div>\n"
            ],
            "application/vnd.google.colaboratory.intrinsic+json": {
              "type": "dataframe",
              "variable_name": "df",
              "summary": "{\n  \"name\": \"df\",\n  \"rows\": 19836,\n  \"fields\": [\n    {\n      \"column\": \"DateTime\",\n      \"properties\": {\n        \"dtype\": \"date\",\n        \"min\": \"2024-01-01 00:25:35\",\n        \"max\": \"2024-06-25 23:04:35\",\n        \"num_unique_values\": 8427,\n        \"samples\": [\n          \"2024-05-29 16:56:59\",\n          \"2024-05-23 04:00:47\",\n          \"2024-03-26 02:21:11\"\n        ],\n        \"semantic_type\": \"\",\n        \"description\": \"\"\n      }\n    },\n    {\n      \"column\": \"Transaction Hash\",\n      \"properties\": {\n        \"dtype\": \"category\",\n        \"num_unique_values\": 9787,\n        \"samples\": [\n          \"0x28c41619a0448fc4be1cd194a2f1f17434a0c72202756703a74202248ebb7a94\",\n          \"0x6aebd1aad53ae008b5ae08605c8460863a7737b45b5e408fe6bd487e8bb37ee2\",\n          \"0xfa55980718715d42725544bd783c73ebb8f083c50681195d82755ad5dcc9d1b1\"\n        ],\n        \"semantic_type\": \"\",\n        \"description\": \"\"\n      }\n    },\n    {\n      \"column\": \"Blockno\",\n      \"properties\": {\n        \"dtype\": \"number\",\n        \"std\": 322060,\n        \"min\": 18909018,\n        \"max\": 20171862,\n        \"num_unique_values\": 8427,\n        \"samples\": [\n          19976848,\n          19930058,\n          19515609\n        ],\n        \"semantic_type\": \"\",\n        \"description\": \"\"\n      }\n    },\n    {\n      \"column\": \"UnixTimestamp\",\n      \"properties\": {\n        \"dtype\": \"number\",\n        \"std\": 3898955,\n        \"min\": 1704068735,\n        \"max\": 1719356675,\n        \"num_unique_values\": 8427,\n        \"samples\": [\n          1717001819,\n          1716436847,\n          1711419671\n        ],\n        \"semantic_type\": \"\",\n        \"description\": \"\"\n      }\n    },\n    {\n      \"column\": \"DateTime (UTC)\",\n      \"properties\": {\n        \"dtype\": \"date\",\n        \"min\": \"2024-01-01 00:25:35\",\n        \"max\": \"2024-06-25 23:04:35\",\n        \"num_unique_values\": 8427,\n        \"samples\": [\n          \"2024-05-29 16:56:59\",\n          \"2024-05-23 04:00:47\",\n          \"2024-03-26 02:21:11\"\n        ],\n        \"semantic_type\": \"\",\n        \"description\": \"\"\n      }\n    },\n    {\n      \"column\": \"From\",\n      \"properties\": {\n        \"dtype\": \"category\",\n        \"num_unique_values\": 1823,\n        \"samples\": [\n          \"0x495a43b9aafcafaeec494943b3b0a16fa94b4b12\",\n          \"0x7a95f3d9a9506201796f3be311e3cfacceb82e3a\",\n          \"0x08131a77e31d0b86e60964b9b619f8fba1ef8c6c\"\n        ],\n        \"semantic_type\": \"\",\n        \"description\": \"\"\n      }\n    },\n    {\n      \"column\": \"To\",\n      \"properties\": {\n        \"dtype\": \"category\",\n        \"num_unique_values\": 3273,\n        \"samples\": [\n          \"0x490de36d5c39edc7fd06a98e14208f9b51e663e4\",\n          \"0xc594b6fbb381723c7434be51ac3e06057d488090\",\n          \"0x77451a0ace845fcba2c60e3c50f735acc8e76a5e\"\n        ],\n        \"semantic_type\": \"\",\n        \"description\": \"\"\n      }\n    },\n    {\n      \"column\": \"Quantity\",\n      \"properties\": {\n        \"dtype\": \"number\",\n        \"std\": 8007.345063364673,\n        \"min\": 0.0,\n        \"max\": 750000.0,\n        \"num_unique_values\": 13329,\n        \"samples\": [\n          69.40777582797787,\n          89.65760178169894,\n          0.536386192130422\n        ],\n        \"semantic_type\": \"\",\n        \"description\": \"\"\n      }\n    },\n    {\n      \"column\": \"Method\",\n      \"properties\": {\n        \"dtype\": \"category\",\n        \"num_unique_values\": 88,\n        \"samples\": [\n          \"Smart Swap By Order Id\",\n          \"Sell To Uniswap\",\n          \"Swap Tokens Generic\"\n        ],\n        \"semantic_type\": \"\",\n        \"description\": \"\"\n      }\n    }\n  ]\n}"
            }
          },
          "metadata": {},
          "execution_count": 7
        }
      ]
    },
    {
      "cell_type": "code",
      "source": [
        "target = df['Quantity'].resample('D').sum()\n",
        "\n",
        "train_data = target[:-30]\n",
        "test_data = target[-30:]\n",
        "\n",
        "print(len(train_data))\n",
        "print(len(test_data))"
      ],
      "metadata": {
        "colab": {
          "base_uri": "https://localhost:8080/"
        },
        "id": "9khCP3vftubs",
        "outputId": "6d7b3581-b23c-414e-e40e-245ad7fd8a2b"
      },
      "execution_count": null,
      "outputs": [
        {
          "output_type": "stream",
          "name": "stdout",
          "text": [
            "147\n",
            "30\n"
          ]
        }
      ]
    },
    {
      "cell_type": "code",
      "source": [
        "from statsmodels.tsa.stattools import adfuller\n",
        "\n",
        "adf_result = adfuller(train_data)\n",
        "\n",
        "print(f'ADF Statistic: {adf_result[0]}')\n",
        "print(f'p-value: {adf_result[1]}')\n",
        "\n",
        "if adf_result[1] <= 0.05:\n",
        "  print(\"Reject the null hypothesis (H0). The time series is stationary.\")\n",
        "else:\n",
        "  print(\"Fail to reject the null hypothesis (H0). The time series is not stationary.\")"
      ],
      "metadata": {
        "colab": {
          "base_uri": "https://localhost:8080/"
        },
        "id": "Q3AS2YSrtxDn",
        "outputId": "31820102-990d-495e-a0ac-6ceb34468dac"
      },
      "execution_count": null,
      "outputs": [
        {
          "output_type": "stream",
          "name": "stdout",
          "text": [
            "ADF Statistic: -4.43115581683401\n",
            "p-value: 0.0002613314766798959\n",
            "Reject the null hypothesis (H0). The time series is stationary.\n"
          ]
        }
      ]
    },
    {
      "cell_type": "code",
      "source": [
        "auto_model = auto_arima(\n",
        "    train_data,\n",
        "    seasonal=False,\n",
        "    trace=True,\n",
        "    suppress_warnings=True,\n",
        "    stepwise=True\n",
        ")\n",
        "\n",
        "print(auto_model.summary())"
      ],
      "metadata": {
        "colab": {
          "base_uri": "https://localhost:8080/"
        },
        "id": "x8lCAt2BtzTQ",
        "outputId": "26e33423-1118-40a2-80cf-4fc2b63e0ea4"
      },
      "execution_count": null,
      "outputs": [
        {
          "output_type": "stream",
          "name": "stderr",
          "text": [
            "/usr/local/lib/python3.11/dist-packages/sklearn/utils/deprecation.py:151: FutureWarning: 'force_all_finite' was renamed to 'ensure_all_finite' in 1.6 and will be removed in 1.8.\n",
            "  warnings.warn(\n",
            "/usr/local/lib/python3.11/dist-packages/sklearn/utils/deprecation.py:151: FutureWarning: 'force_all_finite' was renamed to 'ensure_all_finite' in 1.6 and will be removed in 1.8.\n",
            "  warnings.warn(\n",
            "/usr/local/lib/python3.11/dist-packages/sklearn/utils/deprecation.py:151: FutureWarning: 'force_all_finite' was renamed to 'ensure_all_finite' in 1.6 and will be removed in 1.8.\n",
            "  warnings.warn(\n",
            "/usr/local/lib/python3.11/dist-packages/sklearn/utils/deprecation.py:151: FutureWarning: 'force_all_finite' was renamed to 'ensure_all_finite' in 1.6 and will be removed in 1.8.\n",
            "  warnings.warn(\n",
            "/usr/local/lib/python3.11/dist-packages/sklearn/utils/deprecation.py:151: FutureWarning: 'force_all_finite' was renamed to 'ensure_all_finite' in 1.6 and will be removed in 1.8.\n",
            "  warnings.warn(\n",
            "/usr/local/lib/python3.11/dist-packages/sklearn/utils/deprecation.py:151: FutureWarning: 'force_all_finite' was renamed to 'ensure_all_finite' in 1.6 and will be removed in 1.8.\n",
            "  warnings.warn(\n",
            "/usr/local/lib/python3.11/dist-packages/sklearn/utils/deprecation.py:151: FutureWarning: 'force_all_finite' was renamed to 'ensure_all_finite' in 1.6 and will be removed in 1.8.\n",
            "  warnings.warn(\n",
            "/usr/local/lib/python3.11/dist-packages/sklearn/utils/deprecation.py:151: FutureWarning: 'force_all_finite' was renamed to 'ensure_all_finite' in 1.6 and will be removed in 1.8.\n",
            "  warnings.warn(\n",
            "/usr/local/lib/python3.11/dist-packages/sklearn/utils/deprecation.py:151: FutureWarning: 'force_all_finite' was renamed to 'ensure_all_finite' in 1.6 and will be removed in 1.8.\n",
            "  warnings.warn(\n"
          ]
        },
        {
          "output_type": "stream",
          "name": "stdout",
          "text": [
            "Performing stepwise search to minimize aic\n",
            " ARIMA(2,1,2)(0,0,0)[0] intercept   : AIC=3559.782, Time=1.10 sec\n",
            " ARIMA(0,1,0)(0,0,0)[0] intercept   : AIC=3592.855, Time=0.05 sec\n",
            " ARIMA(1,1,0)(0,0,0)[0] intercept   : AIC=3576.171, Time=0.08 sec\n"
          ]
        },
        {
          "output_type": "stream",
          "name": "stderr",
          "text": [
            "/usr/local/lib/python3.11/dist-packages/sklearn/utils/deprecation.py:151: FutureWarning: 'force_all_finite' was renamed to 'ensure_all_finite' in 1.6 and will be removed in 1.8.\n",
            "  warnings.warn(\n",
            "/usr/local/lib/python3.11/dist-packages/sklearn/utils/deprecation.py:151: FutureWarning: 'force_all_finite' was renamed to 'ensure_all_finite' in 1.6 and will be removed in 1.8.\n",
            "  warnings.warn(\n",
            "/usr/local/lib/python3.11/dist-packages/sklearn/utils/deprecation.py:151: FutureWarning: 'force_all_finite' was renamed to 'ensure_all_finite' in 1.6 and will be removed in 1.8.\n",
            "  warnings.warn(\n"
          ]
        },
        {
          "output_type": "stream",
          "name": "stdout",
          "text": [
            " ARIMA(0,1,1)(0,0,0)[0] intercept   : AIC=3577.191, Time=1.08 sec\n",
            " ARIMA(0,1,0)(0,0,0)[0]             : AIC=3590.858, Time=0.02 sec\n"
          ]
        },
        {
          "output_type": "stream",
          "name": "stderr",
          "text": [
            "/usr/local/lib/python3.11/dist-packages/sklearn/utils/deprecation.py:151: FutureWarning: 'force_all_finite' was renamed to 'ensure_all_finite' in 1.6 and will be removed in 1.8.\n",
            "  warnings.warn(\n",
            "/usr/local/lib/python3.11/dist-packages/sklearn/utils/deprecation.py:151: FutureWarning: 'force_all_finite' was renamed to 'ensure_all_finite' in 1.6 and will be removed in 1.8.\n",
            "  warnings.warn(\n"
          ]
        },
        {
          "output_type": "stream",
          "name": "stdout",
          "text": [
            " ARIMA(1,1,2)(0,0,0)[0] intercept   : AIC=3573.952, Time=1.86 sec\n"
          ]
        },
        {
          "output_type": "stream",
          "name": "stderr",
          "text": [
            "/usr/local/lib/python3.11/dist-packages/sklearn/utils/deprecation.py:151: FutureWarning: 'force_all_finite' was renamed to 'ensure_all_finite' in 1.6 and will be removed in 1.8.\n",
            "  warnings.warn(\n"
          ]
        },
        {
          "output_type": "stream",
          "name": "stdout",
          "text": [
            " ARIMA(2,1,1)(0,0,0)[0] intercept   : AIC=3573.851, Time=1.27 sec\n"
          ]
        },
        {
          "output_type": "stream",
          "name": "stderr",
          "text": [
            "/usr/local/lib/python3.11/dist-packages/sklearn/utils/deprecation.py:151: FutureWarning: 'force_all_finite' was renamed to 'ensure_all_finite' in 1.6 and will be removed in 1.8.\n",
            "  warnings.warn(\n"
          ]
        },
        {
          "output_type": "stream",
          "name": "stdout",
          "text": [
            " ARIMA(3,1,2)(0,0,0)[0] intercept   : AIC=3549.679, Time=1.29 sec\n"
          ]
        },
        {
          "output_type": "stream",
          "name": "stderr",
          "text": [
            "/usr/local/lib/python3.11/dist-packages/sklearn/utils/deprecation.py:151: FutureWarning: 'force_all_finite' was renamed to 'ensure_all_finite' in 1.6 and will be removed in 1.8.\n",
            "  warnings.warn(\n"
          ]
        },
        {
          "output_type": "stream",
          "name": "stdout",
          "text": [
            " ARIMA(3,1,1)(0,0,0)[0] intercept   : AIC=inf, Time=0.27 sec\n"
          ]
        },
        {
          "output_type": "stream",
          "name": "stderr",
          "text": [
            "/usr/local/lib/python3.11/dist-packages/sklearn/utils/deprecation.py:151: FutureWarning: 'force_all_finite' was renamed to 'ensure_all_finite' in 1.6 and will be removed in 1.8.\n",
            "  warnings.warn(\n"
          ]
        },
        {
          "output_type": "stream",
          "name": "stdout",
          "text": [
            " ARIMA(4,1,2)(0,0,0)[0] intercept   : AIC=3551.441, Time=0.43 sec\n"
          ]
        },
        {
          "output_type": "stream",
          "name": "stderr",
          "text": [
            "/usr/local/lib/python3.11/dist-packages/sklearn/utils/deprecation.py:151: FutureWarning: 'force_all_finite' was renamed to 'ensure_all_finite' in 1.6 and will be removed in 1.8.\n",
            "  warnings.warn(\n"
          ]
        },
        {
          "output_type": "stream",
          "name": "stdout",
          "text": [
            " ARIMA(3,1,3)(0,0,0)[0] intercept   : AIC=3555.235, Time=0.26 sec\n",
            " ARIMA(2,1,3)(0,0,0)[0] intercept   : AIC=3552.967, Time=0.18 sec\n"
          ]
        },
        {
          "output_type": "stream",
          "name": "stderr",
          "text": [
            "/usr/local/lib/python3.11/dist-packages/sklearn/utils/deprecation.py:151: FutureWarning: 'force_all_finite' was renamed to 'ensure_all_finite' in 1.6 and will be removed in 1.8.\n",
            "  warnings.warn(\n",
            "/usr/local/lib/python3.11/dist-packages/sklearn/utils/deprecation.py:151: FutureWarning: 'force_all_finite' was renamed to 'ensure_all_finite' in 1.6 and will be removed in 1.8.\n",
            "  warnings.warn(\n"
          ]
        },
        {
          "output_type": "stream",
          "name": "stdout",
          "text": [
            " ARIMA(4,1,1)(0,0,0)[0] intercept   : AIC=inf, Time=0.38 sec\n"
          ]
        },
        {
          "output_type": "stream",
          "name": "stderr",
          "text": [
            "/usr/local/lib/python3.11/dist-packages/sklearn/utils/deprecation.py:151: FutureWarning: 'force_all_finite' was renamed to 'ensure_all_finite' in 1.6 and will be removed in 1.8.\n",
            "  warnings.warn(\n"
          ]
        },
        {
          "output_type": "stream",
          "name": "stdout",
          "text": [
            " ARIMA(4,1,3)(0,0,0)[0] intercept   : AIC=3555.207, Time=0.57 sec\n",
            " ARIMA(3,1,2)(0,0,0)[0]             : AIC=3546.389, Time=0.16 sec\n"
          ]
        },
        {
          "output_type": "stream",
          "name": "stderr",
          "text": [
            "/usr/local/lib/python3.11/dist-packages/sklearn/utils/deprecation.py:151: FutureWarning: 'force_all_finite' was renamed to 'ensure_all_finite' in 1.6 and will be removed in 1.8.\n",
            "  warnings.warn(\n",
            "/usr/local/lib/python3.11/dist-packages/sklearn/utils/deprecation.py:151: FutureWarning: 'force_all_finite' was renamed to 'ensure_all_finite' in 1.6 and will be removed in 1.8.\n",
            "  warnings.warn(\n"
          ]
        },
        {
          "output_type": "stream",
          "name": "stdout",
          "text": [
            " ARIMA(2,1,2)(0,0,0)[0]             : AIC=3550.840, Time=0.27 sec\n",
            " ARIMA(3,1,1)(0,0,0)[0]             : AIC=3546.490, Time=0.15 sec\n"
          ]
        },
        {
          "output_type": "stream",
          "name": "stderr",
          "text": [
            "/usr/local/lib/python3.11/dist-packages/sklearn/utils/deprecation.py:151: FutureWarning: 'force_all_finite' was renamed to 'ensure_all_finite' in 1.6 and will be removed in 1.8.\n",
            "  warnings.warn(\n",
            "/usr/local/lib/python3.11/dist-packages/sklearn/utils/deprecation.py:151: FutureWarning: 'force_all_finite' was renamed to 'ensure_all_finite' in 1.6 and will be removed in 1.8.\n",
            "  warnings.warn(\n"
          ]
        },
        {
          "output_type": "stream",
          "name": "stdout",
          "text": [
            " ARIMA(4,1,2)(0,0,0)[0]             : AIC=3547.482, Time=0.43 sec\n"
          ]
        },
        {
          "output_type": "stream",
          "name": "stderr",
          "text": [
            "/usr/local/lib/python3.11/dist-packages/sklearn/utils/deprecation.py:151: FutureWarning: 'force_all_finite' was renamed to 'ensure_all_finite' in 1.6 and will be removed in 1.8.\n",
            "  warnings.warn(\n"
          ]
        },
        {
          "output_type": "stream",
          "name": "stdout",
          "text": [
            " ARIMA(3,1,3)(0,0,0)[0]             : AIC=3545.890, Time=0.28 sec\n",
            " ARIMA(2,1,3)(0,0,0)[0]             : AIC=3543.900, Time=0.19 sec\n"
          ]
        },
        {
          "output_type": "stream",
          "name": "stderr",
          "text": [
            "/usr/local/lib/python3.11/dist-packages/sklearn/utils/deprecation.py:151: FutureWarning: 'force_all_finite' was renamed to 'ensure_all_finite' in 1.6 and will be removed in 1.8.\n",
            "  warnings.warn(\n",
            "/usr/local/lib/python3.11/dist-packages/sklearn/utils/deprecation.py:151: FutureWarning: 'force_all_finite' was renamed to 'ensure_all_finite' in 1.6 and will be removed in 1.8.\n",
            "  warnings.warn(\n"
          ]
        },
        {
          "output_type": "stream",
          "name": "stdout",
          "text": [
            " ARIMA(1,1,3)(0,0,0)[0]             : AIC=3542.433, Time=0.12 sec\n",
            " ARIMA(0,1,3)(0,0,0)[0]             : AIC=3541.076, Time=0.08 sec\n",
            " ARIMA(0,1,2)(0,0,0)[0]             : AIC=3572.877, Time=0.07 sec\n"
          ]
        },
        {
          "output_type": "stream",
          "name": "stderr",
          "text": [
            "/usr/local/lib/python3.11/dist-packages/sklearn/utils/deprecation.py:151: FutureWarning: 'force_all_finite' was renamed to 'ensure_all_finite' in 1.6 and will be removed in 1.8.\n",
            "  warnings.warn(\n",
            "/usr/local/lib/python3.11/dist-packages/sklearn/utils/deprecation.py:151: FutureWarning: 'force_all_finite' was renamed to 'ensure_all_finite' in 1.6 and will be removed in 1.8.\n",
            "  warnings.warn(\n",
            "/usr/local/lib/python3.11/dist-packages/sklearn/utils/deprecation.py:151: FutureWarning: 'force_all_finite' was renamed to 'ensure_all_finite' in 1.6 and will be removed in 1.8.\n",
            "  warnings.warn(\n"
          ]
        },
        {
          "output_type": "stream",
          "name": "stdout",
          "text": [
            " ARIMA(0,1,4)(0,0,0)[0]             : AIC=3542.605, Time=0.15 sec\n",
            " ARIMA(1,1,2)(0,0,0)[0]             : AIC=3571.955, Time=0.11 sec\n"
          ]
        },
        {
          "output_type": "stream",
          "name": "stderr",
          "text": [
            "/usr/local/lib/python3.11/dist-packages/sklearn/utils/deprecation.py:151: FutureWarning: 'force_all_finite' was renamed to 'ensure_all_finite' in 1.6 and will be removed in 1.8.\n",
            "  warnings.warn(\n",
            "/usr/local/lib/python3.11/dist-packages/sklearn/utils/deprecation.py:151: FutureWarning: 'force_all_finite' was renamed to 'ensure_all_finite' in 1.6 and will be removed in 1.8.\n",
            "  warnings.warn(\n"
          ]
        },
        {
          "output_type": "stream",
          "name": "stdout",
          "text": [
            " ARIMA(1,1,4)(0,0,0)[0]             : AIC=3544.093, Time=0.28 sec\n",
            " ARIMA(0,1,3)(0,0,0)[0] intercept   : AIC=3549.764, Time=0.13 sec\n",
            "\n",
            "Best model:  ARIMA(0,1,3)(0,0,0)[0]          \n",
            "Total fit time: 11.375 seconds\n",
            "                               SARIMAX Results                                \n",
            "==============================================================================\n",
            "Dep. Variable:                      y   No. Observations:                  147\n",
            "Model:               SARIMAX(0, 1, 3)   Log Likelihood               -1766.538\n",
            "Date:                Fri, 17 Jan 2025   AIC                           3541.076\n",
            "Time:                        10:04:42   BIC                           3553.010\n",
            "Sample:                    01-01-2024   HQIC                          3545.925\n",
            "                         - 05-26-2024                                         \n",
            "Covariance Type:                  opg                                         \n",
            "==============================================================================\n",
            "                 coef    std err          z      P>|z|      [0.025      0.975]\n",
            "------------------------------------------------------------------------------\n",
            "ma.L1         -0.4198      0.051     -8.224      0.000      -0.520      -0.320\n",
            "ma.L2       -7.22e-05      0.046     -0.002      0.999      -0.090       0.090\n",
            "ma.L3         -0.5060      0.040    -12.671      0.000      -0.584      -0.428\n",
            "sigma2      2.089e+09    1.5e-11   1.39e+20      0.000    2.09e+09    2.09e+09\n",
            "===================================================================================\n",
            "Ljung-Box (L1) (Q):                   0.23   Jarque-Bera (JB):              4192.27\n",
            "Prob(Q):                              0.63   Prob(JB):                         0.00\n",
            "Heteroskedasticity (H):              18.50   Skew:                             2.77\n",
            "Prob(H) (two-sided):                  0.00   Kurtosis:                        28.66\n",
            "===================================================================================\n",
            "\n",
            "Warnings:\n",
            "[1] Covariance matrix calculated using the outer product of gradients (complex-step).\n",
            "[2] Covariance matrix is singular or near-singular, with condition number 1.48e+36. Standard errors may be unstable.\n"
          ]
        },
        {
          "output_type": "stream",
          "name": "stderr",
          "text": [
            "/usr/local/lib/python3.11/dist-packages/sklearn/utils/deprecation.py:151: FutureWarning: 'force_all_finite' was renamed to 'ensure_all_finite' in 1.6 and will be removed in 1.8.\n",
            "  warnings.warn(\n"
          ]
        }
      ]
    },
    {
      "cell_type": "code",
      "source": [
        "print(auto_model.order)   ## These parameters were yeilding poor result , so we use the (5,1,3) as parameters"
      ],
      "metadata": {
        "colab": {
          "base_uri": "https://localhost:8080/"
        },
        "id": "XtYWlraot2aR",
        "outputId": "b9b28e95-34b0-4926-9682-00759623b776"
      },
      "execution_count": null,
      "outputs": [
        {
          "output_type": "stream",
          "name": "stdout",
          "text": [
            "(0, 1, 3)\n"
          ]
        }
      ]
    },
    {
      "cell_type": "code",
      "source": [
        "arima = ARIMA(train_data, order=(5,1,3))\n",
        "model_fit = arima.fit()\n",
        "print(model_fit.summary())"
      ],
      "metadata": {
        "colab": {
          "base_uri": "https://localhost:8080/"
        },
        "id": "mornHMlwt9rT",
        "outputId": "4f39c0c1-f5b4-4649-aaaf-93b518bdea90"
      },
      "execution_count": null,
      "outputs": [
        {
          "output_type": "stream",
          "name": "stderr",
          "text": [
            "/usr/local/lib/python3.11/dist-packages/statsmodels/tsa/statespace/sarimax.py:966: UserWarning: Non-stationary starting autoregressive parameters found. Using zeros as starting parameters.\n",
            "  warn('Non-stationary starting autoregressive parameters'\n",
            "/usr/local/lib/python3.11/dist-packages/statsmodels/tsa/statespace/sarimax.py:978: UserWarning: Non-invertible starting MA parameters found. Using zeros as starting parameters.\n",
            "  warn('Non-invertible starting MA parameters found.'\n"
          ]
        },
        {
          "output_type": "stream",
          "name": "stdout",
          "text": [
            "                               SARIMAX Results                                \n",
            "==============================================================================\n",
            "Dep. Variable:               Quantity   No. Observations:                  147\n",
            "Model:                 ARIMA(5, 1, 3)   Log Likelihood               -1765.273\n",
            "Date:                Fri, 17 Jan 2025   AIC                           3548.547\n",
            "Time:                        10:05:12   BIC                           3575.399\n",
            "Sample:                    01-01-2024   HQIC                          3559.457\n",
            "                         - 05-26-2024                                         \n",
            "Covariance Type:                  opg                                         \n",
            "==============================================================================\n",
            "                 coef    std err          z      P>|z|      [0.025      0.975]\n",
            "------------------------------------------------------------------------------\n",
            "ar.L1          0.8637      1.135      0.761      0.447      -1.361       3.088\n",
            "ar.L2         -0.6580      1.030     -0.639      0.523      -2.676       1.360\n",
            "ar.L3         -0.1207      0.413     -0.292      0.770      -0.929       0.688\n",
            "ar.L4          0.4908      0.554      0.885      0.376      -0.596       1.578\n",
            "ar.L5         -0.2853      0.373     -0.765      0.444      -1.016       0.445\n",
            "ma.L1         -1.3028      1.148     -1.135      0.256      -3.552       0.946\n",
            "ma.L2          1.0805      1.428      0.757      0.449      -1.718       3.879\n",
            "ma.L3         -0.7221      0.676     -1.068      0.285      -2.047       0.603\n",
            "sigma2      1.994e+09   1.27e-08   1.56e+17      0.000    1.99e+09    1.99e+09\n",
            "===================================================================================\n",
            "Ljung-Box (L1) (Q):                   0.07   Jarque-Bera (JB):              3993.20\n",
            "Prob(Q):                              0.79   Prob(JB):                         0.00\n",
            "Heteroskedasticity (H):              18.26   Skew:                             2.62\n",
            "Prob(H) (two-sided):                  0.00   Kurtosis:                        28.08\n",
            "===================================================================================\n",
            "\n",
            "Warnings:\n",
            "[1] Covariance matrix calculated using the outer product of gradients (complex-step).\n",
            "[2] Covariance matrix is singular or near-singular, with condition number 7.88e+32. Standard errors may be unstable.\n"
          ]
        },
        {
          "output_type": "stream",
          "name": "stderr",
          "text": [
            "/usr/local/lib/python3.11/dist-packages/statsmodels/base/model.py:607: ConvergenceWarning: Maximum Likelihood optimization failed to converge. Check mle_retvals\n",
            "  warnings.warn(\"Maximum Likelihood optimization failed to \"\n"
          ]
        }
      ]
    },
    {
      "cell_type": "code",
      "source": [
        "forecast = model_fit.forecast(steps=len(test_data))\n",
        "print(forecast)"
      ],
      "metadata": {
        "colab": {
          "base_uri": "https://localhost:8080/"
        },
        "id": "Kzr_tRqQt_oT",
        "outputId": "1369297e-a3d1-4773-c0df-1b1e5385f836"
      },
      "execution_count": null,
      "outputs": [
        {
          "output_type": "stream",
          "name": "stdout",
          "text": [
            "2024-05-27      410.998569\n",
            "2024-05-28    22892.257943\n",
            "2024-05-29    77022.569428\n",
            "2024-05-30    92589.573648\n",
            "2024-05-31    66585.859330\n",
            "2024-06-01    43526.667361\n",
            "2024-06-02    58998.871740\n",
            "2024-06-03    82869.753307\n",
            "2024-06-04    78882.837360\n",
            "2024-06-05    53966.072675\n",
            "2024-06-06    46362.635270\n",
            "2024-06-07    63974.637745\n",
            "2024-06-08    78427.673506\n",
            "2024-06-09    69146.308951\n",
            "2024-06-10    52871.872187\n",
            "2024-06-11    53993.400139\n",
            "2024-06-12    68859.894820\n",
            "2024-06-13    74246.136808\n",
            "2024-06-14    63640.407830\n",
            "2024-06-15    54336.285691\n",
            "2024-06-16    59606.406466\n",
            "2024-06-17    69962.176033\n",
            "2024-06-18    69818.565932\n",
            "2024-06-19    60703.538754\n",
            "2024-06-20    56917.444212\n",
            "2024-06-21    63241.997683\n",
            "2024-06-22    69270.356242\n",
            "2024-06-23    66339.062738\n",
            "2024-06-24    59819.790023\n",
            "2024-06-25    59575.255496\n",
            "Freq: D, Name: predicted_mean, dtype: float64\n"
          ]
        }
      ]
    },
    {
      "cell_type": "code",
      "source": [
        "forecast.shape"
      ],
      "metadata": {
        "colab": {
          "base_uri": "https://localhost:8080/"
        },
        "id": "0q0t75mPuDRk",
        "outputId": "0ba5ce3f-da2b-4e68-eb65-271b3823ba33"
      },
      "execution_count": null,
      "outputs": [
        {
          "output_type": "execute_result",
          "data": {
            "text/plain": [
              "(30,)"
            ]
          },
          "metadata": {},
          "execution_count": 14
        }
      ]
    },
    {
      "cell_type": "code",
      "source": [
        "#Bollinger Bands\n",
        "rolling_mean = target.rolling(window=20).mean()\n",
        "rolling_std = target.rolling(window=20).std()\n",
        "upper_band = rolling_mean + (rolling_std * 2)\n",
        "lower_band = rolling_mean - (rolling_std * 2)"
      ],
      "metadata": {
        "id": "TE2H3bYkuF_G"
      },
      "execution_count": null,
      "outputs": []
    },
    {
      "cell_type": "code",
      "source": [
        "plt.figure(figsize = (12,6))\n",
        "plt.plot(target, label = 'Quantity', color = 'blue')\n",
        "plt.plot(rolling_mean, label = 'Rolling Mean', color = 'orange')\n",
        "plt.fill_between(target.index, upper_band, lower_band, color = 'grey', alpha = 0.2,label='Bollinger Bands')\n",
        "plt.plot(forecast, label = 'ARIMA forecast', color = 'red')\n",
        "plt.title('Quantity Time Series with Bollinger Bands')\n",
        "plt.xlabel('Date')\n",
        "plt.ylabel('Quantity')\n",
        "plt.legend()\n",
        "plt.grid(color='gray', linestyle='-.', linewidth=0.6, alpha=0.8)\n",
        "plt.show()"
      ],
      "metadata": {
        "colab": {
          "base_uri": "https://localhost:8080/",
          "height": 564
        },
        "id": "IrmObGT4uIQj",
        "outputId": "ad129e8b-fac1-422e-e4ae-310a969432a1"
      },
      "execution_count": null,
      "outputs": [
        {
          "output_type": "display_data",
          "data": {
            "text/plain": [
              "<Figure size 1200x600 with 1 Axes>"
            ],
            "image/png": "[encoded data removed]"
          },
          "metadata": {}
        }
      ]
    },
    {
      "cell_type": "markdown",
      "source": [
        "# Mann-Whitney U test\n"
      ],
      "metadata": {
        "id": "6srLllnDuQ07"
      }
    },
    {
      "cell_type": "code",
      "source": [
        "import numpy as np\n",
        "from scipy.stats import mannwhitneyu\n",
        "\n",
        "date = '2024-03-29'\n",
        "\n",
        "\n",
        "till_29_march = df[df['DateTime (UTC)'] < date]['Quantity']\n",
        "after_29_march = df[df['DateTime (UTC)'] >= date]['Quantity']\n",
        "\n",
        "# Perform Mann-Whitney U test\n",
        "stat, p_value = mannwhitneyu(till_29_march,after_29_march,alternative='two-sided')\n",
        "\n",
        "print(f\"Mann-Whitney U statistic: {stat}\")\n",
        "print(f\"p-value: {p_value}\")\n",
        "\n",
        "# Interpretation\n",
        "alpha = 0.05\n",
        "if p_value < alpha:\n",
        "    print(\"Reject null hypothesis - There is a significant difference in transaction volumes\")\n",
        "else:\n",
        "    print(\"Fail to reject null hypothesis - No significant difference in transaction volumes\")"
      ],
      "metadata": {
        "colab": {
          "base_uri": "https://localhost:8080/"
        },
        "id": "ig-aL85tuKMG",
        "outputId": "c6380560-8fd0-4bf6-f870-56a2e9f9a232"
      },
      "execution_count": null,
      "outputs": [
        {
          "output_type": "stream",
          "name": "stdout",
          "text": [
            "Mann-Whitney U statistic: 49655494.0\n",
            "p-value: 7.862244980785988e-73\n",
            "Reject null hypothesis - There is a significant difference in transaction volumes\n"
          ]
        }
      ]
    },
    {
      "cell_type": "code",
      "source": [
        "from scipy import stats\n",
        "import numpy as np\n",
        "\n",
        "# Split data into before and after March 30, 2024\n",
        "event_date = pd.to_datetime('2024-03-29')\n",
        "\n",
        "# Get quantities for before and after\n",
        "before_event = df[df['DateTime (UTC)'] < event_date]['Quantity']\n",
        "after_event = df[df['DateTime (UTC)'] >= event_date]['Quantity']\n",
        "\n",
        "# Perform Mann-Whitney U test\n",
        "statistic, p_value = stats.mannwhitneyu(before_event,\n",
        "                                      after_event,\n",
        "                                      alternative='two-sided')\n",
        "\n",
        "print(f\"Mann-Whitney U statistic: {statistic}\")\n",
        "print(f\"p-value: {p_value}\")\n",
        "\n",
        "# Test interpretation\n",
        "alpha = 0.05\n",
        "if p_value < alpha:\n",
        "    print(\"Reject null hypothesis - There is a significant difference in transaction volumes\")\n",
        "else:\n",
        "    print(\"Fail to reject null hypothesis - No significant difference in transaction volumes\")"
      ],
      "metadata": {
        "colab": {
          "base_uri": "https://localhost:8080/"
        },
        "id": "-gQmcI25xZC8",
        "outputId": "5c9edb48-ba3d-4ecb-dedb-aa2abe530c56"
      },
      "execution_count": null,
      "outputs": [
        {
          "output_type": "stream",
          "name": "stdout",
          "text": [
            "Mann-Whitney U statistic: 49655494.0\n",
            "p-value: 7.862244980785988e-73\n",
            "Reject null hypothesis - There is a significant difference in transaction volumes\n"
          ]
        }
      ]
    },
    {
      "cell_type": "markdown",
      "source": [
        "# LSTM"
      ],
      "metadata": {
        "id": "GVSPOcDjubuS"
      }
    },
    {
      "cell_type": "markdown",
      "source": [
        "# Clean and Preprocess Sequence Data"
      ],
      "metadata": {
        "id": "OTb1NDh0cIxs"
      }
    },
    {
      "cell_type": "code",
      "source": [
        "from sklearn.preprocessing import MinMaxScaler\n",
        "import numpy as np\n",
        "import pandas as pd\n",
        "df = pd.read_excel('/content/trans.xlsx')\n",
        "# Handle missing values (if any) by interpolation\n",
        "df['Quantity'] = df['Quantity'].interpolate(method='linear')\n",
        "\n",
        "# Normalize the 'Quantity' column for LSTM input\n",
        "scaler = MinMaxScaler(feature_range=(0, 1))\n",
        "df['Quantity_normalized'] = scaler.fit_transform(df[['Quantity']])\n",
        "\n",
        "# Prepare sequences for LSTM (window size of 30, adjust as needed)\n",
        "window_size = 30\n",
        "sequences = []\n",
        "for i in range(len(df) - window_size):\n",
        "    seq = df['Quantity_normalized'].iloc[i:i + window_size].values\n",
        "    sequences.append(seq)\n",
        "\n",
        "# Convert to numpy arrays for LSTM input\n",
        "X = np.array(sequences)\n",
        "y = df['Quantity_normalized'].iloc[window_size:].values  # Target values for prediction\n"
      ],
      "metadata": {
        "id": "7PMjSDZIcCVN"
      },
      "execution_count": null,
      "outputs": []
    },
    {
      "cell_type": "code",
      "source": [
        "import pandas as pd\n",
        "import numpy as np\n",
        "from sklearn.preprocessing import MinMaxScaler\n",
        "\n",
        "# Load data\n",
        "df = pd.read_excel('/content/trans.xlsx')\n",
        "df['DateTime (UTC)'] = pd.to_datetime(df['DateTime (UTC)'])\n",
        "df.set_index('DateTime (UTC)', inplace=True)\n",
        "df = df.sort_index()\n",
        "\n",
        "# Resample data (if needed)\n",
        "df_daily = df['Quantity'].resample('D').sum()\n",
        "\n",
        "# Normalize data\n",
        "scaler = MinMaxScaler()\n",
        "df_daily_scaled = scaler.fit_transform(df_daily.values.reshape(-1, 1))\n",
        "\n",
        "# Prepare sequences for LSTM\n",
        "sequence_length = 30\n",
        "X, y = [], []\n",
        "for i in range(sequence_length, len(df_daily_scaled)):\n",
        "    X.append(df_daily_scaled[i-sequence_length:i])\n",
        "    y.append(df_daily_scaled[i])\n",
        "\n",
        "X, y = np.array(X), np.array(y)\n",
        "\n",
        "# Split data into train and test sets\n",
        "train_size = int(len(X) * 0.8)\n",
        "X_train, X_test = X[:train_size], X[train_size:]\n",
        "y_train, y_test = y[:train_size], y[train_size:]\n"
      ],
      "metadata": {
        "id": "KnvlkvR3uVIG"
      },
      "execution_count": null,
      "outputs": []
    },
    {
      "cell_type": "code",
      "source": [
        "from tensorflow.keras.models import Sequential\n",
        "from tensorflow.keras.layers import LSTM, Dense, Dropout\n",
        "\n",
        "# Define LSTM model\n",
        "model = Sequential([\n",
        "    LSTM(50, activation='relu', input_shape=(sequence_length, 1), return_sequences=True),\n",
        "    Dropout(0.2),\n",
        "    LSTM(50, activation='relu', return_sequences=False),\n",
        "    Dropout(0.2),\n",
        "    Dense(1)\n",
        "])\n",
        "\n",
        "model.compile(optimizer='adam', loss='mse')\n",
        "\n",
        "# Train the model\n",
        "model.fit(X_train, y_train, epochs=50, batch_size=32, validation_data=(X_test, y_test))\n"
      ],
      "metadata": {
        "colab": {
          "base_uri": "https://localhost:8080/"
        },
        "id": "pSS7H4MYuhN6",
        "outputId": "ed07a642-f4b4-46dc-85e2-2aaa91f154fc"
      },
      "execution_count": null,
      "outputs": [
        {
          "output_type": "stream",
          "name": "stdout",
          "text": [
            "Epoch 1/50\n"
          ]
        },
        {
          "output_type": "stream",
          "name": "stderr",
          "text": [
            "/usr/local/lib/python3.11/dist-packages/keras/src/layers/rnn/rnn.py:204: UserWarning: Do not pass an `input_shape`/`input_dim` argument to a layer. When using Sequential models, prefer using an `Input(shape)` object as the first layer in the model instead.\n",
            "  super().__init__(**kwargs)\n"
          ]
        },
        {
          "output_type": "stream",
          "name": "stdout",
          "text": [
            "\u001b[1m4/4\u001b[0m \u001b[32m━━━━━━━━━━━━━━━━━━━━\u001b[0m\u001b[37m\u001b[0m \u001b[1m5s\u001b[0m 190ms/step - loss: 0.0022 - val_loss: 0.0317\n",
            "Epoch 2/50\n",
            "\u001b[1m4/4\u001b[0m \u001b[32m━━━━━━━━━━━━━━━━━━━━\u001b[0m\u001b[37m\u001b[0m \u001b[1m1s\u001b[0m 84ms/step - loss: 0.0012 - val_loss: 0.0313\n",
            "Epoch 3/50\n",
            "\u001b[1m4/4\u001b[0m \u001b[32m━━━━━━━━━━━━━━━━━━━━\u001b[0m\u001b[37m\u001b[0m \u001b[1m0s\u001b[0m 85ms/step - loss: 0.0023 - val_loss: 0.0315\n",
            "Epoch 4/50\n",
            "\u001b[1m4/4\u001b[0m \u001b[32m━━━━━━━━━━━━━━━━━━━━\u001b[0m\u001b[37m\u001b[0m \u001b[1m0s\u001b[0m 110ms/step - loss: 0.0011 - val_loss: 0.0319\n",
            "Epoch 5/50\n",
            "\u001b[1m4/4\u001b[0m \u001b[32m━━━━━━━━━━━━━━━━━━━━\u001b[0m\u001b[37m\u001b[0m \u001b[1m1s\u001b[0m 82ms/step - loss: 0.0014 - val_loss: 0.0319\n",
            "Epoch 6/50\n",
            "\u001b[1m4/4\u001b[0m \u001b[32m━━━━━━━━━━━━━━━━━━━━\u001b[0m\u001b[37m\u001b[0m \u001b[1m0s\u001b[0m 98ms/step - loss: 0.0011 - val_loss: 0.0316\n",
            "Epoch 7/50\n",
            "\u001b[1m4/4\u001b[0m \u001b[32m━━━━━━━━━━━━━━━━━━━━\u001b[0m\u001b[37m\u001b[0m \u001b[1m1s\u001b[0m 79ms/step - loss: 0.0017 - val_loss: 0.0315\n",
            "Epoch 8/50\n",
            "\u001b[1m4/4\u001b[0m \u001b[32m━━━━━━━━━━━━━━━━━━━━\u001b[0m\u001b[37m\u001b[0m \u001b[1m1s\u001b[0m 95ms/step - loss: 0.0019 - val_loss: 0.0314\n",
            "Epoch 9/50\n",
            "\u001b[1m4/4\u001b[0m \u001b[32m━━━━━━━━━━━━━━━━━━━━\u001b[0m\u001b[37m\u001b[0m \u001b[1m0s\u001b[0m 91ms/step - loss: 0.0018 - val_loss: 0.0316\n",
            "Epoch 10/50\n",
            "\u001b[1m4/4\u001b[0m \u001b[32m━━━━━━━━━━━━━━━━━━━━\u001b[0m\u001b[37m\u001b[0m \u001b[1m1s\u001b[0m 147ms/step - loss: 9.3784e-04 - val_loss: 0.0318\n",
            "Epoch 11/50\n",
            "\u001b[1m4/4\u001b[0m \u001b[32m━━━━━━━━━━━━━━━━━━━━\u001b[0m\u001b[37m\u001b[0m \u001b[1m1s\u001b[0m 102ms/step - loss: 0.0017 - val_loss: 0.0316\n",
            "Epoch 12/50\n",
            "\u001b[1m4/4\u001b[0m \u001b[32m━━━━━━━━━━━━━━━━━━━━\u001b[0m\u001b[37m\u001b[0m \u001b[1m0s\u001b[0m 96ms/step - loss: 0.0016 - val_loss: 0.0315\n",
            "Epoch 13/50\n",
            "\u001b[1m4/4\u001b[0m \u001b[32m━━━━━━━━━━━━━━━━━━━━\u001b[0m\u001b[37m\u001b[0m \u001b[1m1s\u001b[0m 134ms/step - loss: 0.0017 - val_loss: 0.0315\n",
            "Epoch 14/50\n",
            "\u001b[1m4/4\u001b[0m \u001b[32m━━━━━━━━━━━━━━━━━━━━\u001b[0m\u001b[37m\u001b[0m \u001b[1m1s\u001b[0m 127ms/step - loss: 0.0021 - val_loss: 0.0316\n",
            "Epoch 15/50\n",
            "\u001b[1m4/4\u001b[0m \u001b[32m━━━━━━━━━━━━━━━━━━━━\u001b[0m\u001b[37m\u001b[0m \u001b[1m1s\u001b[0m 184ms/step - loss: 0.0018 - val_loss: 0.0316\n",
            "Epoch 16/50\n",
            "\u001b[1m4/4\u001b[0m \u001b[32m━━━━━━━━━━━━━━━━━━━━\u001b[0m\u001b[37m\u001b[0m \u001b[1m1s\u001b[0m 228ms/step - loss: 0.0014 - val_loss: 0.0316\n",
            "Epoch 17/50\n",
            "\u001b[1m4/4\u001b[0m \u001b[32m━━━━━━━━━━━━━━━━━━━━\u001b[0m\u001b[37m\u001b[0m \u001b[1m1s\u001b[0m 37ms/step - loss: 0.0021 - val_loss: 0.0316\n",
            "Epoch 18/50\n",
            "\u001b[1m4/4\u001b[0m \u001b[32m━━━━━━━━━━━━━━━━━━━━\u001b[0m\u001b[37m\u001b[0m \u001b[1m0s\u001b[0m 40ms/step - loss: 0.0016 - val_loss: 0.0316\n",
            "Epoch 19/50\n",
            "\u001b[1m4/4\u001b[0m \u001b[32m━━━━━━━━━━━━━━━━━━━━\u001b[0m\u001b[37m\u001b[0m \u001b[1m0s\u001b[0m 40ms/step - loss: 0.0015 - val_loss: 0.0316\n",
            "Epoch 20/50\n",
            "\u001b[1m4/4\u001b[0m \u001b[32m━━━━━━━━━━━━━━━━━━━━\u001b[0m\u001b[37m\u001b[0m \u001b[1m0s\u001b[0m 42ms/step - loss: 0.0013 - val_loss: 0.0316\n",
            "Epoch 21/50\n",
            "\u001b[1m4/4\u001b[0m \u001b[32m━━━━━━━━━━━━━━━━━━━━\u001b[0m\u001b[37m\u001b[0m \u001b[1m0s\u001b[0m 40ms/step - loss: 0.0021 - val_loss: 0.0315\n",
            "Epoch 22/50\n",
            "\u001b[1m4/4\u001b[0m \u001b[32m━━━━━━━━━━━━━━━━━━━━\u001b[0m\u001b[37m\u001b[0m \u001b[1m0s\u001b[0m 40ms/step - loss: 9.5444e-04 - val_loss: 0.0316\n",
            "Epoch 23/50\n",
            "\u001b[1m4/4\u001b[0m \u001b[32m━━━━━━━━━━━━━━━━━━━━\u001b[0m\u001b[37m\u001b[0m \u001b[1m0s\u001b[0m 47ms/step - loss: 0.0021 - val_loss: 0.0315\n",
            "Epoch 24/50\n",
            "\u001b[1m4/4\u001b[0m \u001b[32m━━━━━━━━━━━━━━━━━━━━\u001b[0m\u001b[37m\u001b[0m \u001b[1m0s\u001b[0m 47ms/step - loss: 0.0015 - val_loss: 0.0315\n",
            "Epoch 25/50\n",
            "\u001b[1m4/4\u001b[0m \u001b[32m━━━━━━━━━━━━━━━━━━━━\u001b[0m\u001b[37m\u001b[0m \u001b[1m0s\u001b[0m 39ms/step - loss: 0.0015 - val_loss: 0.0316\n",
            "Epoch 26/50\n",
            "\u001b[1m4/4\u001b[0m \u001b[32m━━━━━━━━━━━━━━━━━━━━\u001b[0m\u001b[37m\u001b[0m \u001b[1m0s\u001b[0m 37ms/step - loss: 0.0013 - val_loss: 0.0316\n",
            "Epoch 27/50\n",
            "\u001b[1m4/4\u001b[0m \u001b[32m━━━━━━━━━━━━━━━━━━━━\u001b[0m\u001b[37m\u001b[0m \u001b[1m0s\u001b[0m 46ms/step - loss: 0.0012 - val_loss: 0.0316\n",
            "Epoch 28/50\n",
            "\u001b[1m4/4\u001b[0m \u001b[32m━━━━━━━━━━━━━━━━━━━━\u001b[0m\u001b[37m\u001b[0m \u001b[1m0s\u001b[0m 47ms/step - loss: 0.0022 - val_loss: 0.0315\n",
            "Epoch 29/50\n",
            "\u001b[1m4/4\u001b[0m \u001b[32m━━━━━━━━━━━━━━━━━━━━\u001b[0m\u001b[37m\u001b[0m \u001b[1m0s\u001b[0m 41ms/step - loss: 0.0018 - val_loss: 0.0317\n",
            "Epoch 30/50\n",
            "\u001b[1m4/4\u001b[0m \u001b[32m━━━━━━━━━━━━━━━━━━━━\u001b[0m\u001b[37m\u001b[0m \u001b[1m0s\u001b[0m 39ms/step - loss: 0.0014 - val_loss: 0.0318\n",
            "Epoch 31/50\n",
            "\u001b[1m4/4\u001b[0m \u001b[32m━━━━━━━━━━━━━━━━━━━━\u001b[0m\u001b[37m\u001b[0m \u001b[1m0s\u001b[0m 41ms/step - loss: 0.0013 - val_loss: 0.0317\n",
            "Epoch 32/50\n",
            "\u001b[1m4/4\u001b[0m \u001b[32m━━━━━━━━━━━━━━━━━━━━\u001b[0m\u001b[37m\u001b[0m \u001b[1m0s\u001b[0m 40ms/step - loss: 0.0014 - val_loss: 0.0316\n",
            "Epoch 33/50\n",
            "\u001b[1m4/4\u001b[0m \u001b[32m━━━━━━━━━━━━━━━━━━━━\u001b[0m\u001b[37m\u001b[0m \u001b[1m0s\u001b[0m 38ms/step - loss: 0.0018 - val_loss: 0.0316\n",
            "Epoch 34/50\n",
            "\u001b[1m4/4\u001b[0m \u001b[32m━━━━━━━━━━━━━━━━━━━━\u001b[0m\u001b[37m\u001b[0m \u001b[1m0s\u001b[0m 40ms/step - loss: 0.0017 - val_loss: 0.0317\n",
            "Epoch 35/50\n",
            "\u001b[1m4/4\u001b[0m \u001b[32m━━━━━━━━━━━━━━━━━━━━\u001b[0m\u001b[37m\u001b[0m \u001b[1m0s\u001b[0m 47ms/step - loss: 0.0011 - val_loss: 0.0318\n",
            "Epoch 36/50\n",
            "\u001b[1m4/4\u001b[0m \u001b[32m━━━━━━━━━━━━━━━━━━━━\u001b[0m\u001b[37m\u001b[0m \u001b[1m0s\u001b[0m 38ms/step - loss: 0.0013 - val_loss: 0.0317\n",
            "Epoch 37/50\n",
            "\u001b[1m4/4\u001b[0m \u001b[32m━━━━━━━━━━━━━━━━━━━━\u001b[0m\u001b[37m\u001b[0m \u001b[1m0s\u001b[0m 40ms/step - loss: 0.0012 - val_loss: 0.0316\n",
            "Epoch 38/50\n",
            "\u001b[1m4/4\u001b[0m \u001b[32m━━━━━━━━━━━━━━━━━━━━\u001b[0m\u001b[37m\u001b[0m \u001b[1m0s\u001b[0m 39ms/step - loss: 0.0012 - val_loss: 0.0316\n",
            "Epoch 39/50\n",
            "\u001b[1m4/4\u001b[0m \u001b[32m━━━━━━━━━━━━━━━━━━━━\u001b[0m\u001b[37m\u001b[0m \u001b[1m0s\u001b[0m 40ms/step - loss: 0.0021 - val_loss: 0.0316\n",
            "Epoch 40/50\n",
            "\u001b[1m4/4\u001b[0m \u001b[32m━━━━━━━━━━━━━━━━━━━━\u001b[0m\u001b[37m\u001b[0m \u001b[1m0s\u001b[0m 46ms/step - loss: 0.0015 - val_loss: 0.0318\n",
            "Epoch 41/50\n",
            "\u001b[1m4/4\u001b[0m \u001b[32m━━━━━━━━━━━━━━━━━━━━\u001b[0m\u001b[37m\u001b[0m \u001b[1m0s\u001b[0m 38ms/step - loss: 0.0012 - val_loss: 0.0319\n",
            "Epoch 42/50\n",
            "\u001b[1m4/4\u001b[0m \u001b[32m━━━━━━━━━━━━━━━━━━━━\u001b[0m\u001b[37m\u001b[0m \u001b[1m0s\u001b[0m 38ms/step - loss: 9.9018e-04 - val_loss: 0.0317\n",
            "Epoch 43/50\n",
            "\u001b[1m4/4\u001b[0m \u001b[32m━━━━━━━━━━━━━━━━━━━━\u001b[0m\u001b[37m\u001b[0m \u001b[1m0s\u001b[0m 38ms/step - loss: 0.0011 - val_loss: 0.0317\n",
            "Epoch 44/50\n",
            "\u001b[1m4/4\u001b[0m \u001b[32m━━━━━━━━━━━━━━━━━━━━\u001b[0m\u001b[37m\u001b[0m \u001b[1m0s\u001b[0m 46ms/step - loss: 0.0011 - val_loss: 0.0318\n",
            "Epoch 45/50\n",
            "\u001b[1m4/4\u001b[0m \u001b[32m━━━━━━━━━━━━━━━━━━━━\u001b[0m\u001b[37m\u001b[0m \u001b[1m0s\u001b[0m 39ms/step - loss: 0.0020 - val_loss: 0.0319\n",
            "Epoch 46/50\n",
            "\u001b[1m4/4\u001b[0m \u001b[32m━━━━━━━━━━━━━━━━━━━━\u001b[0m\u001b[37m\u001b[0m \u001b[1m0s\u001b[0m 38ms/step - loss: 9.9892e-04 - val_loss: 0.0320\n",
            "Epoch 47/50\n",
            "\u001b[1m4/4\u001b[0m \u001b[32m━━━━━━━━━━━━━━━━━━━━\u001b[0m\u001b[37m\u001b[0m \u001b[1m0s\u001b[0m 40ms/step - loss: 0.0013 - val_loss: 0.0319\n",
            "Epoch 48/50\n",
            "\u001b[1m4/4\u001b[0m \u001b[32m━━━━━━━━━━━━━━━━━━━━\u001b[0m\u001b[37m\u001b[0m \u001b[1m0s\u001b[0m 42ms/step - loss: 0.0013 - val_loss: 0.0319\n",
            "Epoch 49/50\n",
            "\u001b[1m4/4\u001b[0m \u001b[32m━━━━━━━━━━━━━━━━━━━━\u001b[0m\u001b[37m\u001b[0m \u001b[1m0s\u001b[0m 39ms/step - loss: 0.0011 - val_loss: 0.0320\n",
            "Epoch 50/50\n",
            "\u001b[1m4/4\u001b[0m \u001b[32m━━━━━━━━━━━━━━━━━━━━\u001b[0m\u001b[37m\u001b[0m \u001b[1m0s\u001b[0m 39ms/step - loss: 9.0466e-04 - val_loss: 0.0321\n"
          ]
        },
        {
          "output_type": "execute_result",
          "data": {
            "text/plain": [
              "<keras.src.callbacks.history.History at 0x7977b18d9bd0>"
            ]
          },
          "metadata": {},
          "execution_count": 20
        }
      ]
    },
    {
      "cell_type": "code",
      "source": [
        "# Make predictions\n",
        "y_pred = model.predict(X_test)\n"
      ],
      "metadata": {
        "colab": {
          "base_uri": "https://localhost:8080/"
        },
        "id": "CJhA7Mvcup1f",
        "outputId": "70465ae1-a861-4f3e-d5cc-1dd27019a8b3"
      },
      "execution_count": null,
      "outputs": [
        {
          "output_type": "stream",
          "name": "stdout",
          "text": [
            "\u001b[1m1/1\u001b[0m \u001b[32m━━━━━━━━━━━━━━━━━━━━\u001b[0m\u001b[37m\u001b[0m \u001b[1m1s\u001b[0m 693ms/step\n"
          ]
        }
      ]
    },
    {
      "cell_type": "code",
      "source": [
        "    # Calculate the forecast error\n",
        "    forecast_error = np.abs(y_test - y_pred.flatten())\n",
        "\n",
        "    # Visualize results\n",
        "    import matplotlib.pyplot as plt\n",
        "\n",
        "    plt.plot(y_test, label='Actual')\n",
        "    plt.plot(y_pred, label='Predicted')\n",
        "    plt.legend()\n",
        "    plt.show()\n"
      ],
      "metadata": {
        "colab": {
          "base_uri": "https://localhost:8080/",
          "height": 430
        },
        "id": "ptpZ-IgUuyip",
        "outputId": "3cf39c7d-e73c-4bfd-a3b1-78016ffc373c"
      },
      "execution_count": null,
      "outputs": [
        {
          "output_type": "display_data",
          "data": {
            "text/plain": [
              "<Figure size 640x480 with 1 Axes>"
            ],
            "image/png": "[encoded data removed]"
          },
          "metadata": {}
        }
      ]
    },
    {
      "cell_type": "code",
      "source": [
        "# Calculate anomaly threshold using Bollinger Bands\n",
        "mean_error = np.mean(forecast_error)\n",
        "std_error = np.std(forecast_error)\n",
        "threshold = mean_error + 3 * std_error\n",
        "\n",
        "anomalies = forecast_error > threshold\n",
        "print(f\"Total anomalies detected: {np.sum(anomalies)}\")\n"
      ],
      "metadata": {
        "colab": {
          "base_uri": "https://localhost:8080/"
        },
        "id": "jfJCpmHWuzMa",
        "outputId": "97341a87-c78d-4be6-d992-4032dbd3dd27"
      },
      "execution_count": null,
      "outputs": [
        {
          "output_type": "stream",
          "name": "stdout",
          "text": [
            "Total anomalies detected: 30\n"
          ]
        }
      ]
    },
    {
      "cell_type": "code",
      "source": [
        "from scipy.stats import mannwhitneyu\n",
        "\n",
        "# Split into anomalies and normal based on the threshold\n",
        "group_anomalies = forecast_error[anomalies]\n",
        "group_normal = forecast_error[~anomalies]\n",
        "\n",
        "# Perform Mann-Whitney U test\n",
        "stat, p_value = mannwhitneyu(group_anomalies, group_normal)\n",
        "print(f\"Mann-Whitney U Test Statistic: {stat}, P-value: {p_value}\")\n"
      ],
      "metadata": {
        "colab": {
          "base_uri": "https://localhost:8080/"
        },
        "id": "Vb76S7kIu1oc",
        "outputId": "9283bbaa-1f7d-485d-da94-efdf740a38cc"
      },
      "execution_count": null,
      "outputs": [
        {
          "output_type": "stream",
          "name": "stdout",
          "text": [
            "Mann-Whitney U Test Statistic: 26100.0, P-value: 1.143352856769428e-20\n"
          ]
        }
      ]
    },
    {
      "cell_type": "code",
      "source": [
        "import numpy as np\n",
        "import pandas as pd\n",
        "from sklearn.metrics import mean_squared_error, mean_absolute_error\n",
        "import matplotlib.pyplot as plt\n",
        "from scipy.stats import mannwhitneyu\n",
        "\n",
        "# Assuming the trained ARIMA and LSTM models are already present in the script\n",
        "# ARIMA forecast on the test data\n",
        "arima_forecast = model_fit.forecast(steps=len(test_data))\n",
        "\n",
        "# Inverse transform ARIMA predictions (if needed)\n",
        "arima_forecast = scaler.inverse_transform(arima_forecast.values.reshape(-1, 1))\n",
        "\n",
        "# LSTM predictions are already obtained in `y_pred`\n",
        "# Inverse transform LSTM predictions\n",
        "lstm_pred_inv = scaler.inverse_transform(y_pred)\n",
        "\n",
        "# Calculate metrics for ARIMA\n",
        "arima_rmse = np.sqrt(mean_squared_error(test_data, arima_forecast))\n",
        "arima_mae = mean_absolute_error(test_data, arima_forecast)\n",
        "\n",
        "# Calculate metrics for LSTM\n",
        "lstm_rmse = np.sqrt(mean_squared_error(scaler.inverse_transform(y_test), lstm_pred_inv))\n",
        "lstm_mae = mean_absolute_error(scaler.inverse_transform(y_test), lstm_pred_inv)\n",
        "\n",
        "print(f\"ARIMA RMSE: {arima_rmse}, MAE: {arima_mae}\")\n",
        "print(f\"LSTM RMSE: {lstm_rmse}, MAE: {lstm_mae}\")\n",
        "\n",
        "# Plot actual vs predicted for ARIMA and LSTM\n",
        "plt.figure(figsize=(14, 7))\n",
        "plt.plot(df.index[-30:], test_data, label='Actual')\n",
        "plt.plot(df.index[-30:], arima_forecast, label='ARIMA Forecast')\n",
        "plt.plot(df.index[-30:], lstm_pred_inv, label='LSTM Forecast')\n",
        "plt.legend()\n",
        "plt.title('ARIMA vs LSTM Forecasts')\n",
        "plt.show()\n",
        "\n",
        "# Anomaly detection\n",
        "arima_errors = np.abs(test_data - arima_forecast.flatten())\n",
        "lstm_errors = np.abs(scaler.inverse_transform(y_test) - lstm_pred_inv.flatten())\n",
        "\n",
        "# Set anomaly detection thresholds\n",
        "arima_threshold = arima_errors.mean() + 3 * arima_errors.std()\n",
        "lstm_threshold = lstm_errors.mean() + 3 * lstm_errors.std()\n",
        "\n",
        "# Detect anomalies\n",
        "arima_anomalies = arima_errors > arima_threshold\n",
        "lstm_anomalies = lstm_errors > lstm_threshold\n",
        "\n",
        "print(f\"ARIMA Anomalies Detected: {np.sum(arima_anomalies)}\")\n",
        "print(f\"LSTM Anomalies Detected: {np.sum(lstm_anomalies)}\")\n",
        "\n",
        "# Perform Mann-Whitney U Test\n",
        "stat, p_value = mannwhitneyu(arima_errors, lstm_errors, alternative='two-sided')  # Explicitly set alternative\n",
        "print(f\"Mann-Whitney U Test Statistic: {stat}, P-value: {p_value}\")\n",
        "\n",
        "# Interpretation of Mann-Whitney U Test\n",
        "alpha = 0.05\n",
        "#Check if p_value is an array. If so, use any() or all() based on your use case\n",
        "if isinstance(p_value, np.ndarray):\n",
        "  if p_value.any() < alpha:  # Use any() if you want to check if any p-value is less than alpha\n",
        "      print(\"Reject the null hypothesis - Significant difference in errors\")\n",
        "  else:\n",
        "      print(\"Fail to reject the null hypothesis - No significant difference in errors\")\n",
        "else:\n",
        "  if p_value < alpha:  # If p_value is a single value, compare directly\n",
        "    print(\"Reject the null hypothesis - Significant difference in errors\")\n",
        "  else:\n",
        "    print(\"Fail to reject the null hypothesis - No significant difference in errors\")"
      ],
      "metadata": {
        "colab": {
          "base_uri": "https://localhost:8080/",
          "height": 813
        },
        "id": "gLOiVFCwu4ag",
        "outputId": "a48dcb6c-74e8-4b05-f05b-d39b69ef5c1d"
      },
      "execution_count": null,
      "outputs": [
        {
          "output_type": "stream",
          "name": "stdout",
          "text": [
            "ARIMA RMSE: 97102079008.57376, MAE: 93503630327.50897\n",
            "LSTM RMSE: 273176.1314284132, MAE: 70398.3311581626\n"
          ]
        },
        {
          "output_type": "display_data",
          "data": {
            "text/plain": [
              "<Figure size 1400x700 with 1 Axes>"
            ],
            "image/png": "[encoded data removed]"
          },
          "metadata": {}
        },
        {
          "output_type": "stream",
          "name": "stdout",
          "text": [
            "ARIMA Anomalies Detected: 0\n",
            "LSTM Anomalies Detected: 30\n",
            "Mann-Whitney U Test Statistic: [30. 30. 30. 30. 30. 30. 30. 30. 30. 30. 30. 30. 30. 30. 30. 30. 30. 30.\n",
            " 30. 30. 30. 30. 30. 30. 30. 30. 30. 30. 30. 30.], P-value: [0.06451613 0.06451613 0.06451613 0.06451613 0.06451613 0.06451613\n",
            " 0.06451613 0.06451613 0.06451613 0.06451613 0.06451613 0.06451613\n",
            " 0.06451613 0.06451613 0.06451613 0.06451613 0.06451613 0.06451613\n",
            " 0.06451613 0.06451613 0.06451613 0.06451613 0.06451613 0.06451613\n",
            " 0.06451613 0.06451613 0.06451613 0.06451613 0.06451613 0.06451613]\n",
            "Fail to reject the null hypothesis - No significant difference in errors\n"
          ]
        }
      ]
    },
    {
      "cell_type": "code",
      "source": [
        "import pandas as pd\n",
        "import numpy as np\n",
        "import matplotlib.pyplot as plt\n",
        "from sklearn.decomposition import PCA\n",
        "from sklearn.preprocessing import StandardScaler\n",
        "\n",
        "\n",
        "# Preprocess the data: Standardize and handle missing values\n",
        "data.fillna(data.mean(), inplace=True)  # Fill missing values with column means\n",
        "scaler = StandardScaler()\n",
        "data_scaled = scaler.fit_transform(data)\n",
        "\n",
        "# Apply PCA for dimensionality reduction\n",
        "n_components = 2  # Number of components to retain\n",
        "pca = PCA(n_components=n_components)\n",
        "data_reduced = pca.fit_transform(data_scaled)\n",
        "\n",
        "# Reconstruct the data from the reduced representation\n",
        "data_reconstructed = pca.inverse_transform(data_reduced)\n",
        "\n",
        "# Calculate reconstruction error (mean squared error for each sample)\n",
        "reconstruction_error = np.mean((data_scaled - data_reconstructed) ** 2, axis=1)\n",
        "\n",
        "# Visualize the reconstruction error\n",
        "plt.figure(figsize=(10, 6))\n",
        "plt.hist(reconstruction_error, bins=30, alpha=0.7, color='blue', edgecolor='black')\n",
        "plt.title(\"Reconstruction Error Distribution\")\n",
        "plt.xlabel(\"Reconstruction Error\")\n",
        "plt.ylabel(\"Frequency\")\n",
        "plt.grid(True)\n",
        "plt.show()\n",
        "\n",
        "# Optional: Save the reconstruction error to a file\n",
        "output_file = 'reconstruction_error.xlsx'\n",
        "pd.DataFrame({'Reconstruction Error': reconstruction_error}).to_excel(output_file, index=False)\n",
        "print(f\"Reconstruction error saved to {output_file}\")\n"
      ],
      "metadata": {
        "colab": {
          "base_uri": "https://localhost:8080/",
          "height": 581
        },
        "id": "D7UEnaaUpBF-",
        "outputId": "4301dd70-4de0-4051-e508-8746a0068b19"
      },
      "execution_count": null,
      "outputs": [
        {
          "output_type": "display_data",
          "data": {
            "text/plain": [
              "<Figure size 1000x600 with 1 Axes>"
            ],
            "image/png": "[encoded data removed]"
          },
          "metadata": {}
        },
        {
          "output_type": "stream",
          "name": "stdout",
          "text": [
            "Reconstruction error saved to reconstruction_error.xlsx\n"
          ]
        }
      ]
    },
    {
      "cell_type": "markdown",
      "source": [
        "# Define the LSTM Model Architecture"
      ],
      "metadata": {
        "id": "Bqc7VM78z0CI"
      }
    },
    {
      "cell_type": "code",
      "source": [
        "from tensorflow.keras.models import Sequential\n",
        "from tensorflow.keras.layers import LSTM, Dense, Dropout\n",
        "\n",
        "# Define the LSTM model\n",
        "model = Sequential([\n",
        "    LSTM(64, activation='relu', input_shape=(window_size, 1), return_sequences=True),\n",
        "    Dropout(0.2),\n",
        "    LSTM(32, activation='relu', return_sequences=False),\n",
        "    Dropout(0.2),\n",
        "    Dense(1)  # Output layer for regression\n",
        "])\n",
        "\n",
        "# Compile the model\n",
        "model.compile(optimizer='adam', loss='mean_squared_error')\n",
        "model.summary()\n"
      ],
      "metadata": {
        "colab": {
          "base_uri": "https://localhost:8080/",
          "height": 344
        },
        "id": "99d8eKDgzwMS",
        "outputId": "ba549b4d-cf97-45e9-cba1-22c56cfefe70"
      },
      "execution_count": null,
      "outputs": [
        {
          "output_type": "stream",
          "name": "stderr",
          "text": [
            "/usr/local/lib/python3.11/dist-packages/keras/src/layers/rnn/rnn.py:204: UserWarning: Do not pass an `input_shape`/`input_dim` argument to a layer. When using Sequential models, prefer using an `Input(shape)` object as the first layer in the model instead.\n",
            "  super().__init__(**kwargs)\n"
          ]
        },
        {
          "output_type": "display_data",
          "data": {
            "text/plain": [
              "\u001b[1mModel: \"sequential\"\u001b[0m\n"
            ],
            "text/html": [
              "<pre style=\"white-space:pre;overflow-x:auto;line-height:normal;font-family:Menlo,'DejaVu Sans Mono',consolas,'Courier New',monospace\"><span style=\"font-weight: bold\">Model: \"sequential\"</span>\n",
              "</pre>\n"
            ]
          },
          "metadata": {}
        },
        {
          "output_type": "display_data",
          "data": {
            "text/plain": [
              "┏━━━━━━━━━━━━━━━━━━━━━━━━━━━━━━━━━━━━━━┳━━━━━━━━━━━━━━━━━━━━━━━━━━━━━┳━━━━━━━━━━━━━━━━━┓\n",
              "┃\u001b[1m \u001b[0m\u001b[1mLayer (type)                        \u001b[0m\u001b[1m \u001b[0m┃\u001b[1m \u001b[0m\u001b[1mOutput Shape               \u001b[0m\u001b[1m \u001b[0m┃\u001b[1m \u001b[0m\u001b[1m        Param #\u001b[0m\u001b[1m \u001b[0m┃\n",
              "┡━━━━━━━━━━━━━━━━━━━━━━━━━━━━━━━━━━━━━━╇━━━━━━━━━━━━━━━━━━━━━━━━━━━━━╇━━━━━━━━━━━━━━━━━┩\n",
              "│ lstm (\u001b[38;5;33mLSTM\u001b[0m)                          │ (\u001b[38;5;45mNone\u001b[0m, \u001b[38;5;34m30\u001b[0m, \u001b[38;5;34m64\u001b[0m)              │          \u001b[38;5;34m16,896\u001b[0m │\n",
              "├──────────────────────────────────────┼─────────────────────────────┼─────────────────┤\n",
              "│ dropout (\u001b[38;5;33mDropout\u001b[0m)                    │ (\u001b[38;5;45mNone\u001b[0m, \u001b[38;5;34m30\u001b[0m, \u001b[38;5;34m64\u001b[0m)              │               \u001b[38;5;34m0\u001b[0m │\n",
              "├──────────────────────────────────────┼─────────────────────────────┼─────────────────┤\n",
              "│ lstm_1 (\u001b[38;5;33mLSTM\u001b[0m)                        │ (\u001b[38;5;45mNone\u001b[0m, \u001b[38;5;34m32\u001b[0m)                  │          \u001b[38;5;34m12,416\u001b[0m │\n",
              "├──────────────────────────────────────┼─────────────────────────────┼─────────────────┤\n",
              "│ dropout_1 (\u001b[38;5;33mDropout\u001b[0m)                  │ (\u001b[38;5;45mNone\u001b[0m, \u001b[38;5;34m32\u001b[0m)                  │               \u001b[38;5;34m0\u001b[0m │\n",
              "├──────────────────────────────────────┼─────────────────────────────┼─────────────────┤\n",
              "│ dense (\u001b[38;5;33mDense\u001b[0m)                        │ (\u001b[38;5;45mNone\u001b[0m, \u001b[38;5;34m1\u001b[0m)                   │              \u001b[38;5;34m33\u001b[0m │\n",
              "└──────────────────────────────────────┴─────────────────────────────┴─────────────────┘\n"
            ],
            "text/html": [
              "<pre style=\"white-space:pre;overflow-x:auto;line-height:normal;font-family:Menlo,'DejaVu Sans Mono',consolas,'Courier New',monospace\">┏━━━━━━━━━━━━━━━━━━━━━━━━━━━━━━━━━━━━━━┳━━━━━━━━━━━━━━━━━━━━━━━━━━━━━┳━━━━━━━━━━━━━━━━━┓\n",
              "┃<span style=\"font-weight: bold\"> Layer (type)                         </span>┃<span style=\"font-weight: bold\"> Output Shape                </span>┃<span style=\"font-weight: bold\">         Param # </span>┃\n",
              "┡━━━━━━━━━━━━━━━━━━━━━━━━━━━━━━━━━━━━━━╇━━━━━━━━━━━━━━━━━━━━━━━━━━━━━╇━━━━━━━━━━━━━━━━━┩\n",
              "│ lstm (<span style=\"color: #0087ff; text-decoration-color: #0087ff\">LSTM</span>)                          │ (<span style=\"color: #00d7ff; text-decoration-color: #00d7ff\">None</span>, <span style=\"color: #00af00; text-decoration-color: #00af00\">30</span>, <span style=\"color: #00af00; text-decoration-color: #00af00\">64</span>)              │          <span style=\"color: #00af00; text-decoration-color: #00af00\">16,896</span> │\n",
              "├──────────────────────────────────────┼─────────────────────────────┼─────────────────┤\n",
              "│ dropout (<span style=\"color: #0087ff; text-decoration-color: #0087ff\">Dropout</span>)                    │ (<span style=\"color: #00d7ff; text-decoration-color: #00d7ff\">None</span>, <span style=\"color: #00af00; text-decoration-color: #00af00\">30</span>, <span style=\"color: #00af00; text-decoration-color: #00af00\">64</span>)              │               <span style=\"color: #00af00; text-decoration-color: #00af00\">0</span> │\n",
              "├──────────────────────────────────────┼─────────────────────────────┼─────────────────┤\n",
              "│ lstm_1 (<span style=\"color: #0087ff; text-decoration-color: #0087ff\">LSTM</span>)                        │ (<span style=\"color: #00d7ff; text-decoration-color: #00d7ff\">None</span>, <span style=\"color: #00af00; text-decoration-color: #00af00\">32</span>)                  │          <span style=\"color: #00af00; text-decoration-color: #00af00\">12,416</span> │\n",
              "├──────────────────────────────────────┼─────────────────────────────┼─────────────────┤\n",
              "│ dropout_1 (<span style=\"color: #0087ff; text-decoration-color: #0087ff\">Dropout</span>)                  │ (<span style=\"color: #00d7ff; text-decoration-color: #00d7ff\">None</span>, <span style=\"color: #00af00; text-decoration-color: #00af00\">32</span>)                  │               <span style=\"color: #00af00; text-decoration-color: #00af00\">0</span> │\n",
              "├──────────────────────────────────────┼─────────────────────────────┼─────────────────┤\n",
              "│ dense (<span style=\"color: #0087ff; text-decoration-color: #0087ff\">Dense</span>)                        │ (<span style=\"color: #00d7ff; text-decoration-color: #00d7ff\">None</span>, <span style=\"color: #00af00; text-decoration-color: #00af00\">1</span>)                   │              <span style=\"color: #00af00; text-decoration-color: #00af00\">33</span> │\n",
              "└──────────────────────────────────────┴─────────────────────────────┴─────────────────┘\n",
              "</pre>\n"
            ]
          },
          "metadata": {}
        },
        {
          "output_type": "display_data",
          "data": {
            "text/plain": [
              "\u001b[1m Total params: \u001b[0m\u001b[38;5;34m29,345\u001b[0m (114.63 KB)\n"
            ],
            "text/html": [
              "<pre style=\"white-space:pre;overflow-x:auto;line-height:normal;font-family:Menlo,'DejaVu Sans Mono',consolas,'Courier New',monospace\"><span style=\"font-weight: bold\"> Total params: </span><span style=\"color: #00af00; text-decoration-color: #00af00\">29,345</span> (114.63 KB)\n",
              "</pre>\n"
            ]
          },
          "metadata": {}
        },
        {
          "output_type": "display_data",
          "data": {
            "text/plain": [
              "\u001b[1m Trainable params: \u001b[0m\u001b[38;5;34m29,345\u001b[0m (114.63 KB)\n"
            ],
            "text/html": [
              "<pre style=\"white-space:pre;overflow-x:auto;line-height:normal;font-family:Menlo,'DejaVu Sans Mono',consolas,'Courier New',monospace\"><span style=\"font-weight: bold\"> Trainable params: </span><span style=\"color: #00af00; text-decoration-color: #00af00\">29,345</span> (114.63 KB)\n",
              "</pre>\n"
            ]
          },
          "metadata": {}
        },
        {
          "output_type": "display_data",
          "data": {
            "text/plain": [
              "\u001b[1m Non-trainable params: \u001b[0m\u001b[38;5;34m0\u001b[0m (0.00 B)\n"
            ],
            "text/html": [
              "<pre style=\"white-space:pre;overflow-x:auto;line-height:normal;font-family:Menlo,'DejaVu Sans Mono',consolas,'Courier New',monospace\"><span style=\"font-weight: bold\"> Non-trainable params: </span><span style=\"color: #00af00; text-decoration-color: #00af00\">0</span> (0.00 B)\n",
              "</pre>\n"
            ]
          },
          "metadata": {}
        }
      ]
    },
    {
      "cell_type": "markdown",
      "source": [
        "# Train the LSTM Model"
      ],
      "metadata": {
        "id": "Yq-0CCuaz_ke"
      }
    },
    {
      "cell_type": "code",
      "source": [
        "from tensorflow.keras.callbacks import EarlyStopping, ModelCheckpoint\n",
        "\n",
        "# Split data into training and validation sets\n",
        "split = int(len(X) * 0.8)\n",
        "X_train, X_val = X[:split], X[split:]\n",
        "y_train, y_val = y[:split], y[split:]\n",
        "\n",
        "# Define callbacks\n",
        "early_stopping = EarlyStopping(monitor='val_loss', patience=5, restore_best_weights=True)\n",
        "model_checkpoint = ModelCheckpoint('best_lstm_model.keras', save_best_only=True)  # Updated extension\n",
        "\n",
        "# Train the model\n",
        "history = model.fit(\n",
        "    X_train, y_train,\n",
        "    validation_data=(X_val, y_val),\n",
        "    epochs=50,\n",
        "    batch_size=32,\n",
        "    callbacks=[early_stopping, model_checkpoint],\n",
        "    verbose=1\n",
        ")\n"
      ],
      "metadata": {
        "id": "wwBjnSddz2BY",
        "colab": {
          "base_uri": "https://localhost:8080/"
        },
        "outputId": "04267488-db0b-432e-837f-206885fa7142"
      },
      "execution_count": null,
      "outputs": [
        {
          "output_type": "stream",
          "name": "stdout",
          "text": [
            "Epoch 1/50\n",
            "\u001b[1m496/496\u001b[0m \u001b[32m━━━━━━━━━━━━━━━━━━━━\u001b[0m\u001b[37m\u001b[0m \u001b[1m27s\u001b[0m 35ms/step - loss: 1.3380e-04 - val_loss: 1.9128e-06\n",
            "Epoch 2/50\n",
            "\u001b[1m496/496\u001b[0m \u001b[32m━━━━━━━━━━━━━━━━━━━━\u001b[0m\u001b[37m\u001b[0m \u001b[1m20s\u001b[0m 41ms/step - loss: 2.1445e-04 - val_loss: 2.9369e-07\n",
            "Epoch 3/50\n",
            "\u001b[1m496/496\u001b[0m \u001b[32m━━━━━━━━━━━━━━━━━━━━\u001b[0m\u001b[37m\u001b[0m \u001b[1m27s\u001b[0m 55ms/step - loss: 5.9660e-05 - val_loss: 3.7129e-07\n",
            "Epoch 4/50\n",
            "\u001b[1m496/496\u001b[0m \u001b[32m━━━━━━━━━━━━━━━━━━━━\u001b[0m\u001b[37m\u001b[0m \u001b[1m35s\u001b[0m 43ms/step - loss: 1.2091e-04 - val_loss: 6.3053e-07\n",
            "Epoch 5/50\n",
            "\u001b[1m496/496\u001b[0m \u001b[32m━━━━━━━━━━━━━━━━━━━━\u001b[0m\u001b[37m\u001b[0m \u001b[1m44s\u001b[0m 49ms/step - loss: 2.6663e-04 - val_loss: 9.1633e-07\n",
            "Epoch 6/50\n",
            "\u001b[1m496/496\u001b[0m \u001b[32m━━━━━━━━━━━━━━━━━━━━\u001b[0m\u001b[37m\u001b[0m \u001b[1m30s\u001b[0m 60ms/step - loss: 1.6112e-04 - val_loss: 2.2952e-06\n",
            "Epoch 7/50\n",
            "\u001b[1m496/496\u001b[0m \u001b[32m━━━━━━━━━━━━━━━━━━━━\u001b[0m\u001b[37m\u001b[0m \u001b[1m20s\u001b[0m 40ms/step - loss: 2.8826e-04 - val_loss: 3.0063e-07\n"
          ]
        }
      ]
    },
    {
      "cell_type": "markdown",
      "source": [
        "# Evaluate the LSTM Model"
      ],
      "metadata": {
        "id": "K1WS1ZuY0F1s"
      }
    },
    {
      "cell_type": "code",
      "source": [
        "# Evaluate on validation data\n",
        "val_loss = model.evaluate(X_val, y_val)\n",
        "print(f\"Validation Loss: {val_loss}\")\n",
        "\n",
        "# Hyperparameter tuning can be done manually or with libraries like Optuna or GridSearch.\n"
      ],
      "metadata": {
        "id": "jMw3jvEx0AzF",
        "colab": {
          "base_uri": "https://localhost:8080/"
        },
        "outputId": "b77afcf4-ab7e-425d-86b0-89871b67bb54"
      },
      "execution_count": null,
      "outputs": [
        {
          "output_type": "stream",
          "name": "stdout",
          "text": [
            "\u001b[1m124/124\u001b[0m \u001b[32m━━━━━━━━━━━━━━━━━━━━\u001b[0m\u001b[37m\u001b[0m \u001b[1m1s\u001b[0m 9ms/step - loss: 2.8484e-07\n",
            "Validation Loss: 2.936896521532617e-07\n"
          ]
        }
      ]
    },
    {
      "cell_type": "markdown",
      "source": [
        "# Predict and Detect Anomalies"
      ],
      "metadata": {
        "id": "HEfmjGcy0Jqv"
      }
    },
    {
      "cell_type": "code",
      "source": [
        "import matplotlib.pyplot as plt\n",
        "\n",
        "# Predict future values\n",
        "predicted = model.predict(X_val)\n",
        "\n",
        "# Calculate prediction errors\n",
        "errors = np.abs(predicted.flatten() - y_val)\n",
        "\n",
        "# Define an anomaly threshold (e.g., 95th percentile of errors)\n",
        "threshold = np.percentile(errors, 95)\n",
        "anomalies = errors > threshold\n",
        "\n",
        "# Visualize results\n",
        "plt.figure(figsize=(12, 6))\n",
        "plt.plot(y_val, label=\"Actual\")\n",
        "plt.plot(predicted.flatten(), label=\"Predicted\")\n",
        "plt.scatter(np.arange(len(errors))[anomalies], y_val[anomalies], color='red', label='Anomalies')\n",
        "plt.legend()\n",
        "plt.title(\"Anomaly Detection with LSTM\")\n",
        "plt.show()\n"
      ],
      "metadata": {
        "id": "KxNG8AET0Htf",
        "colab": {
          "base_uri": "https://localhost:8080/",
          "height": 375
        },
        "outputId": "c90032d6-e54e-4897-f78c-5f1f0e13e6b5"
      },
      "execution_count": null,
      "outputs": [
        {
          "output_type": "stream",
          "name": "stdout",
          "text": [
            "\u001b[1m124/124\u001b[0m \u001b[32m━━━━━━━━━━━━━━━━━━━━\u001b[0m\u001b[37m\u001b[0m \u001b[1m2s\u001b[0m 12ms/step\n"
          ]
        },
        {
          "output_type": "display_data",
          "data": {
            "text/plain": [
              "<Figure size 1200x600 with 1 Axes>"
            ],
            "image/png": "[encoded data removed]"
          },
          "metadata": {}
        }
      ]
    },
    {
      "cell_type": "markdown",
      "source": [
        "# Temporal Feature Engineering: Create features for time-series anomaly detection"
      ],
      "metadata": {
        "id": "a3Pm3XSG0unf"
      }
    },
    {
      "cell_type": "code",
      "source": [],
      "metadata": {
        "id": "CybxQCfQw_6D"
      },
      "execution_count": null,
      "outputs": []
    },
    {
      "cell_type": "code",
      "source": [
        "from google.colab import drive\n",
        "drive.mount('/content/drive')"
      ],
      "metadata": {
        "colab": {
          "base_uri": "https://localhost:8080/"
        },
        "id": "d5wBqNq7xBcg",
        "outputId": "5efe2dd8-a152-419e-8052-e988f7689eb3"
      },
      "execution_count": null,
      "outputs": [
        {
          "output_type": "stream",
          "name": "stdout",
          "text": [
            "Mounted at /content/drive\n"
          ]
        }
      ]
    },
    {
      "cell_type": "markdown",
      "source": [
        "Recursive Feature Engineering\n"
      ],
      "metadata": {
        "id": "FXNgqNOMw2vR"
      }
    },
    {
      "cell_type": "code",
      "source": [
        "import pandas as pd\n",
        "from sklearn.ensemble import RandomForestClassifier\n",
        "from sklearn.feature_selection import RFE\n",
        "from sklearn.model_selection import train_test_split\n",
        "from sklearn.preprocessing import LabelEncoder, StandardScaler\n",
        "\n",
        "\n",
        "# Load your dataset\n",
        "# Replace 'your_dataset.csv' with the actual path to your dataset\n",
        "df = pd.read_excel('/content/drive/MyDrive/Infosys Springboard Wash Trading Group 5/DATASET/Cleaned_NEAR_token_transaction_data.xlsx')\n",
        "\n",
        "df['UnixTimestamp'] = pd.to_datetime(df['UnixTimestamp'], unit='s')\n",
        "\n",
        "# Encode categorical features ('From', 'To', 'Method') using Label Encoding\n",
        "encoder = LabelEncoder()\n",
        "df['From'] = encoder.fit_transform(df['From'])\n",
        "df['To'] = encoder.fit_transform(df['To'])\n",
        "df['Method'] = encoder.fit_transform(df['Method'])\n",
        "\n",
        "# Define features (X)\n",
        "X = df.drop(columns=['Transaction Hash', 'DateTime (UTC)'])  # Remove irrelevant columns\n",
        "\n",
        "# Scale numerical features (optional)\n",
        "scaler = StandardScaler()\n",
        "X_scaled = scaler.fit_transform(X)\n",
        "\n",
        "# Generate a pseudo-target using KMeans clustering\n",
        "kmeans = KMeans(n_clusters=3, random_state=42)  # Choose the number of clusters based on domain knowledge\n",
        "pseudo_target = kmeans.fit_predict(X_scaled)\n",
        "\n",
        "# Perform Recursive Feature Elimination (RFE) using the pseudo-target\n",
        "model = RandomForestClassifier(random_state=42)\n",
        "rfe = RFE(estimator=model, n_features_to_select=5)  # Select 5 features\n",
        "X_rfe = rfe.fit_transform(X_scaled, pseudo_target)\n",
        "\n",
        "# Get the selected features\n",
        "selected_features = X.columns[rfe.support_]\n",
        "print(\"Selected Features:\", selected_features)"
      ],
      "metadata": {
        "id": "Sdi6t2MbCXbC",
        "colab": {
          "base_uri": "https://localhost:8080/",
          "height": 425
        },
        "outputId": "bd692bd6-08ca-48fc-83fb-6870a62bf9c3"
      },
      "execution_count": null,
      "outputs": [
        {
          "output_type": "error",
          "ename": "DTypePromotionError",
          "evalue": "The DType <class 'numpy.dtypes.DateTime64DType'> could not be promoted by <class 'numpy.dtypes.Float64DType'>. This means that no common DType exists for the given inputs. For example they cannot be stored in a single array unless the dtype is `object`. The full list of DTypes is: (<class 'numpy.dtypes.Int64DType'>, <class 'numpy.dtypes.DateTime64DType'>, <class 'numpy.dtypes.Int64DType'>, <class 'numpy.dtypes.Int64DType'>, <class 'numpy.dtypes.Float64DType'>, <class 'numpy.dtypes.Int64DType'>, <class 'numpy.dtypes.Float64DType'>)",
          "traceback": [
            "\u001b[0;31m---------------------------------------------------------------------------\u001b[0m",
            "\u001b[0;31mDTypePromotionError\u001b[0m                       Traceback (most recent call last)",
            "\u001b[0;32m<ipython-input-4-b2079e221140>\u001b[0m in \u001b[0;36m<cell line: 0>\u001b[0;34m()\u001b[0m\n\u001b[1;32m     23\u001b[0m \u001b[0;31m# Scale numerical features (optional)\u001b[0m\u001b[0;34m\u001b[0m\u001b[0;34m\u001b[0m\u001b[0m\n\u001b[1;32m     24\u001b[0m \u001b[0mscaler\u001b[0m \u001b[0;34m=\u001b[0m \u001b[0mStandardScaler\u001b[0m\u001b[0;34m(\u001b[0m\u001b[0;34m)\u001b[0m\u001b[0;34m\u001b[0m\u001b[0;34m\u001b[0m\u001b[0m\n\u001b[0;32m---> 25\u001b[0;31m \u001b[0mX_scaled\u001b[0m \u001b[0;34m=\u001b[0m \u001b[0mscaler\u001b[0m\u001b[0;34m.\u001b[0m\u001b[0mfit_transform\u001b[0m\u001b[0;34m(\u001b[0m\u001b[0mX\u001b[0m\u001b[0;34m)\u001b[0m\u001b[0;34m\u001b[0m\u001b[0;34m\u001b[0m\u001b[0m\n\u001b[0m\u001b[1;32m     26\u001b[0m \u001b[0;34m\u001b[0m\u001b[0m\n\u001b[1;32m     27\u001b[0m \u001b[0;31m# Generate a pseudo-target using KMeans clustering\u001b[0m\u001b[0;34m\u001b[0m\u001b[0;34m\u001b[0m\u001b[0m\n",
            "\u001b[0;32m/usr/local/lib/python3.11/dist-packages/sklearn/utils/_set_output.py\u001b[0m in \u001b[0;36mwrapped\u001b[0;34m(self, X, *args, **kwargs)\u001b[0m\n\u001b[1;32m    317\u001b[0m     \u001b[0;34m@\u001b[0m\u001b[0mwraps\u001b[0m\u001b[0;34m(\u001b[0m\u001b[0mf\u001b[0m\u001b[0;34m)\u001b[0m\u001b[0;34m\u001b[0m\u001b[0;34m\u001b[0m\u001b[0m\n\u001b[1;32m    318\u001b[0m     \u001b[0;32mdef\u001b[0m \u001b[0mwrapped\u001b[0m\u001b[0;34m(\u001b[0m\u001b[0mself\u001b[0m\u001b[0;34m,\u001b[0m \u001b[0mX\u001b[0m\u001b[0;34m,\u001b[0m \u001b[0;34m*\u001b[0m\u001b[0margs\u001b[0m\u001b[0;34m,\u001b[0m \u001b[0;34m**\u001b[0m\u001b[0mkwargs\u001b[0m\u001b[0;34m)\u001b[0m\u001b[0;34m:\u001b[0m\u001b[0;34m\u001b[0m\u001b[0;34m\u001b[0m\u001b[0m\n\u001b[0;32m--> 319\u001b[0;31m         \u001b[0mdata_to_wrap\u001b[0m \u001b[0;34m=\u001b[0m \u001b[0mf\u001b[0m\u001b[0;34m(\u001b[0m\u001b[0mself\u001b[0m\u001b[0;34m,\u001b[0m \u001b[0mX\u001b[0m\u001b[0;34m,\u001b[0m \u001b[0;34m*\u001b[0m\u001b[0margs\u001b[0m\u001b[0;34m,\u001b[0m \u001b[0;34m**\u001b[0m\u001b[0mkwargs\u001b[0m\u001b[0;34m)\u001b[0m\u001b[0;34m\u001b[0m\u001b[0;34m\u001b[0m\u001b[0m\n\u001b[0m\u001b[1;32m    320\u001b[0m         \u001b[0;32mif\u001b[0m \u001b[0misinstance\u001b[0m\u001b[0;34m(\u001b[0m\u001b[0mdata_to_wrap\u001b[0m\u001b[0;34m,\u001b[0m \u001b[0mtuple\u001b[0m\u001b[0;34m)\u001b[0m\u001b[0;34m:\u001b[0m\u001b[0;34m\u001b[0m\u001b[0;34m\u001b[0m\u001b[0m\n\u001b[1;32m    321\u001b[0m             \u001b[0;31m# only wrap the first output for cross decomposition\u001b[0m\u001b[0;34m\u001b[0m\u001b[0;34m\u001b[0m\u001b[0m\n",
            "\u001b[0;32m/usr/local/lib/python3.11/dist-packages/sklearn/base.py\u001b[0m in \u001b[0;36mfit_transform\u001b[0;34m(self, X, y, **fit_params)\u001b[0m\n\u001b[1;32m    916\u001b[0m         \u001b[0;32mif\u001b[0m \u001b[0my\u001b[0m \u001b[0;32mis\u001b[0m \u001b[0;32mNone\u001b[0m\u001b[0;34m:\u001b[0m\u001b[0;34m\u001b[0m\u001b[0;34m\u001b[0m\u001b[0m\n\u001b[1;32m    917\u001b[0m             \u001b[0;31m# fit method of arity 1 (unsupervised transformation)\u001b[0m\u001b[0;34m\u001b[0m\u001b[0;34m\u001b[0m\u001b[0m\n\u001b[0;32m--> 918\u001b[0;31m             \u001b[0;32mreturn\u001b[0m \u001b[0mself\u001b[0m\u001b[0;34m.\u001b[0m\u001b[0mfit\u001b[0m\u001b[0;34m(\u001b[0m\u001b[0mX\u001b[0m\u001b[0;34m,\u001b[0m \u001b[0;34m**\u001b[0m\u001b[0mfit_params\u001b[0m\u001b[0;34m)\u001b[0m\u001b[0;34m.\u001b[0m\u001b[0mtransform\u001b[0m\u001b[0;34m(\u001b[0m\u001b[0mX\u001b[0m\u001b[0;34m)\u001b[0m\u001b[0;34m\u001b[0m\u001b[0;34m\u001b[0m\u001b[0m\n\u001b[0m\u001b[1;32m    919\u001b[0m         \u001b[0;32melse\u001b[0m\u001b[0;34m:\u001b[0m\u001b[0;34m\u001b[0m\u001b[0;34m\u001b[0m\u001b[0m\n\u001b[1;32m    920\u001b[0m             \u001b[0;31m# fit method of arity 2 (supervised transformation)\u001b[0m\u001b[0;34m\u001b[0m\u001b[0;34m\u001b[0m\u001b[0m\n",
            "\u001b[0;32m/usr/local/lib/python3.11/dist-packages/sklearn/preprocessing/_data.py\u001b[0m in \u001b[0;36mfit\u001b[0;34m(self, X, y, sample_weight)\u001b[0m\n\u001b[1;32m    892\u001b[0m         \u001b[0;31m# Reset internal state before fitting\u001b[0m\u001b[0;34m\u001b[0m\u001b[0;34m\u001b[0m\u001b[0m\n\u001b[1;32m    893\u001b[0m         \u001b[0mself\u001b[0m\u001b[0;34m.\u001b[0m\u001b[0m_reset\u001b[0m\u001b[0;34m(\u001b[0m\u001b[0;34m)\u001b[0m\u001b[0;34m\u001b[0m\u001b[0;34m\u001b[0m\u001b[0m\n\u001b[0;32m--> 894\u001b[0;31m         \u001b[0;32mreturn\u001b[0m \u001b[0mself\u001b[0m\u001b[0;34m.\u001b[0m\u001b[0mpartial_fit\u001b[0m\u001b[0;34m(\u001b[0m\u001b[0mX\u001b[0m\u001b[0;34m,\u001b[0m \u001b[0my\u001b[0m\u001b[0;34m,\u001b[0m \u001b[0msample_weight\u001b[0m\u001b[0;34m)\u001b[0m\u001b[0;34m\u001b[0m\u001b[0;34m\u001b[0m\u001b[0m\n\u001b[0m\u001b[1;32m    895\u001b[0m \u001b[0;34m\u001b[0m\u001b[0m\n\u001b[1;32m    896\u001b[0m     \u001b[0;34m@\u001b[0m\u001b[0m_fit_context\u001b[0m\u001b[0;34m(\u001b[0m\u001b[0mprefer_skip_nested_validation\u001b[0m\u001b[0;34m=\u001b[0m\u001b[0;32mTrue\u001b[0m\u001b[0;34m)\u001b[0m\u001b[0;34m\u001b[0m\u001b[0;34m\u001b[0m\u001b[0m\n",
            "\u001b[0;32m/usr/local/lib/python3.11/dist-packages/sklearn/base.py\u001b[0m in \u001b[0;36mwrapper\u001b[0;34m(estimator, *args, **kwargs)\u001b[0m\n\u001b[1;32m   1387\u001b[0m                 )\n\u001b[1;32m   1388\u001b[0m             ):\n\u001b[0;32m-> 1389\u001b[0;31m                 \u001b[0;32mreturn\u001b[0m \u001b[0mfit_method\u001b[0m\u001b[0;34m(\u001b[0m\u001b[0mestimator\u001b[0m\u001b[0;34m,\u001b[0m \u001b[0;34m*\u001b[0m\u001b[0margs\u001b[0m\u001b[0;34m,\u001b[0m \u001b[0;34m**\u001b[0m\u001b[0mkwargs\u001b[0m\u001b[0;34m)\u001b[0m\u001b[0;34m\u001b[0m\u001b[0;34m\u001b[0m\u001b[0m\n\u001b[0m\u001b[1;32m   1390\u001b[0m \u001b[0;34m\u001b[0m\u001b[0m\n\u001b[1;32m   1391\u001b[0m         \u001b[0;32mreturn\u001b[0m \u001b[0mwrapper\u001b[0m\u001b[0;34m\u001b[0m\u001b[0;34m\u001b[0m\u001b[0m\n",
            "\u001b[0;32m/usr/local/lib/python3.11/dist-packages/sklearn/preprocessing/_data.py\u001b[0m in \u001b[0;36mpartial_fit\u001b[0;34m(self, X, y, sample_weight)\u001b[0m\n\u001b[1;32m    928\u001b[0m         \"\"\"\n\u001b[1;32m    929\u001b[0m         \u001b[0mfirst_call\u001b[0m \u001b[0;34m=\u001b[0m \u001b[0;32mnot\u001b[0m \u001b[0mhasattr\u001b[0m\u001b[0;34m(\u001b[0m\u001b[0mself\u001b[0m\u001b[0;34m,\u001b[0m \u001b[0;34m\"n_samples_seen_\"\u001b[0m\u001b[0;34m)\u001b[0m\u001b[0;34m\u001b[0m\u001b[0;34m\u001b[0m\u001b[0m\n\u001b[0;32m--> 930\u001b[0;31m         X = validate_data(\n\u001b[0m\u001b[1;32m    931\u001b[0m             \u001b[0mself\u001b[0m\u001b[0;34m,\u001b[0m\u001b[0;34m\u001b[0m\u001b[0;34m\u001b[0m\u001b[0m\n\u001b[1;32m    932\u001b[0m             \u001b[0mX\u001b[0m\u001b[0;34m,\u001b[0m\u001b[0;34m\u001b[0m\u001b[0;34m\u001b[0m\u001b[0m\n",
            "\u001b[0;32m/usr/local/lib/python3.11/dist-packages/sklearn/utils/validation.py\u001b[0m in \u001b[0;36mvalidate_data\u001b[0;34m(_estimator, X, y, reset, validate_separately, skip_check_array, **check_params)\u001b[0m\n\u001b[1;32m   2942\u001b[0m             \u001b[0mout\u001b[0m \u001b[0;34m=\u001b[0m \u001b[0mX\u001b[0m\u001b[0;34m,\u001b[0m \u001b[0my\u001b[0m\u001b[0;34m\u001b[0m\u001b[0;34m\u001b[0m\u001b[0m\n\u001b[1;32m   2943\u001b[0m     \u001b[0;32melif\u001b[0m \u001b[0;32mnot\u001b[0m \u001b[0mno_val_X\u001b[0m \u001b[0;32mand\u001b[0m \u001b[0mno_val_y\u001b[0m\u001b[0;34m:\u001b[0m\u001b[0;34m\u001b[0m\u001b[0;34m\u001b[0m\u001b[0m\n\u001b[0;32m-> 2944\u001b[0;31m         \u001b[0mout\u001b[0m \u001b[0;34m=\u001b[0m \u001b[0mcheck_array\u001b[0m\u001b[0;34m(\u001b[0m\u001b[0mX\u001b[0m\u001b[0;34m,\u001b[0m \u001b[0minput_name\u001b[0m\u001b[0;34m=\u001b[0m\u001b[0;34m\"X\"\u001b[0m\u001b[0;34m,\u001b[0m \u001b[0;34m**\u001b[0m\u001b[0mcheck_params\u001b[0m\u001b[0;34m)\u001b[0m\u001b[0;34m\u001b[0m\u001b[0;34m\u001b[0m\u001b[0m\n\u001b[0m\u001b[1;32m   2945\u001b[0m     \u001b[0;32melif\u001b[0m \u001b[0mno_val_X\u001b[0m \u001b[0;32mand\u001b[0m \u001b[0;32mnot\u001b[0m \u001b[0mno_val_y\u001b[0m\u001b[0;34m:\u001b[0m\u001b[0;34m\u001b[0m\u001b[0;34m\u001b[0m\u001b[0m\n\u001b[1;32m   2946\u001b[0m         \u001b[0mout\u001b[0m \u001b[0;34m=\u001b[0m \u001b[0m_check_y\u001b[0m\u001b[0;34m(\u001b[0m\u001b[0my\u001b[0m\u001b[0;34m,\u001b[0m \u001b[0;34m**\u001b[0m\u001b[0mcheck_params\u001b[0m\u001b[0;34m)\u001b[0m\u001b[0;34m\u001b[0m\u001b[0;34m\u001b[0m\u001b[0m\n",
            "\u001b[0;32m/usr/local/lib/python3.11/dist-packages/sklearn/utils/validation.py\u001b[0m in \u001b[0;36mcheck_array\u001b[0;34m(array, accept_sparse, accept_large_sparse, dtype, order, copy, force_writeable, force_all_finite, ensure_all_finite, ensure_non_negative, ensure_2d, allow_nd, ensure_min_samples, ensure_min_features, estimator, input_name)\u001b[0m\n\u001b[1;32m    929\u001b[0m         )\n\u001b[1;32m    930\u001b[0m         \u001b[0;32mif\u001b[0m \u001b[0mall\u001b[0m\u001b[0;34m(\u001b[0m\u001b[0misinstance\u001b[0m\u001b[0;34m(\u001b[0m\u001b[0mdtype_iter\u001b[0m\u001b[0;34m,\u001b[0m \u001b[0mnp\u001b[0m\u001b[0;34m.\u001b[0m\u001b[0mdtype\u001b[0m\u001b[0;34m)\u001b[0m \u001b[0;32mfor\u001b[0m \u001b[0mdtype_iter\u001b[0m \u001b[0;32min\u001b[0m \u001b[0mdtypes_orig\u001b[0m\u001b[0;34m)\u001b[0m\u001b[0;34m:\u001b[0m\u001b[0;34m\u001b[0m\u001b[0;34m\u001b[0m\u001b[0m\n\u001b[0;32m--> 931\u001b[0;31m             \u001b[0mdtype_orig\u001b[0m \u001b[0;34m=\u001b[0m \u001b[0mnp\u001b[0m\u001b[0;34m.\u001b[0m\u001b[0mresult_type\u001b[0m\u001b[0;34m(\u001b[0m\u001b[0;34m*\u001b[0m\u001b[0mdtypes_orig\u001b[0m\u001b[0;34m)\u001b[0m\u001b[0;34m\u001b[0m\u001b[0;34m\u001b[0m\u001b[0m\n\u001b[0m\u001b[1;32m    932\u001b[0m         \u001b[0;32melif\u001b[0m \u001b[0mpandas_requires_conversion\u001b[0m \u001b[0;32mand\u001b[0m \u001b[0many\u001b[0m\u001b[0;34m(\u001b[0m\u001b[0md\u001b[0m \u001b[0;34m==\u001b[0m \u001b[0mobject\u001b[0m \u001b[0;32mfor\u001b[0m \u001b[0md\u001b[0m \u001b[0;32min\u001b[0m \u001b[0mdtypes_orig\u001b[0m\u001b[0;34m)\u001b[0m\u001b[0;34m:\u001b[0m\u001b[0;34m\u001b[0m\u001b[0;34m\u001b[0m\u001b[0m\n\u001b[1;32m    933\u001b[0m             \u001b[0;31m# Force object if any of the dtypes is an object\u001b[0m\u001b[0;34m\u001b[0m\u001b[0;34m\u001b[0m\u001b[0m\n",
            "\u001b[0;31mDTypePromotionError\u001b[0m: The DType <class 'numpy.dtypes.DateTime64DType'> could not be promoted by <class 'numpy.dtypes.Float64DType'>. This means that no common DType exists for the given inputs. For example they cannot be stored in a single array unless the dtype is `object`. The full list of DTypes is: (<class 'numpy.dtypes.Int64DType'>, <class 'numpy.dtypes.DateTime64DType'>, <class 'numpy.dtypes.Int64DType'>, <class 'numpy.dtypes.Int64DType'>, <class 'numpy.dtypes.Float64DType'>, <class 'numpy.dtypes.Int64DType'>, <class 'numpy.dtypes.Float64DType'>)"
          ]
        }
      ]
    },
    {
      "cell_type": "markdown",
      "source": [
        "# Analyze Temporal Attributes"
      ],
      "metadata": {
        "id": "kczRZDlE1VyR"
      }
    },
    {
      "cell_type": "code",
      "source": [
        "# Analyze key temporal attributes of the dataset\n",
        "time_attributes = {\n",
        "    \"start_time\": df.index.min(),\n",
        "    \"end_time\": df.index.max(),\n",
        "    \"total_records\": len(df),\n",
        "    \"time_span\": df.index.max() - df.index.min(),\n",
        "}\n",
        "print(time_attributes)\n"
      ],
      "metadata": {
        "colab": {
          "base_uri": "https://localhost:8080/"
        },
        "id": "iYjUAgYp1Z9d",
        "outputId": "44ba22ab-f182-4423-b107-a4595a6ed938"
      },
      "execution_count": null,
      "outputs": [
        {
          "output_type": "stream",
          "name": "stdout",
          "text": [
            "{'start_time': Timestamp('2024-01-01 00:25:35'), 'end_time': Timestamp('2024-06-25 23:04:35'), 'total_records': 19836, 'time_span': Timedelta('176 days 22:39:00')}\n"
          ]
        }
      ]
    },
    {
      "cell_type": "markdown",
      "source": [
        "# Compute Statistical Features"
      ],
      "metadata": {
        "id": "szv83eS-1dXI"
      }
    },
    {
      "cell_type": "code",
      "source": [
        "# Import necessary functions\n",
        "from scipy.stats import skew, kurtosis\n",
        "\n",
        "# Function to compute rolling statistical features\n",
        "def compute_stats(df, column, windows):\n",
        "    stats = {}\n",
        "    for window in windows:\n",
        "        rolling = df[column].rolling(window=window)\n",
        "        stats[f\"mean_{window}\"] = rolling.mean()\n",
        "        stats[f\"median_{window}\"] = rolling.median()\n",
        "        stats[f\"std_{window}\"] = rolling.std()\n",
        "        stats[f\"skewness_{window}\"] = rolling.apply(skew, raw=True)\n",
        "        stats[f\"kurtosis_{window}\"] = rolling.apply(kurtosis, raw=True)\n",
        "    return pd.DataFrame(stats, index=df.index)\n",
        "\n",
        "# Specify rolling windows and compute features\n",
        "windows = [3, 5, 7]  # Example windows\n",
        "statistical_features = compute_stats(df, 'Quantity', windows)\n",
        "print(statistical_features.head())\n"
      ],
      "metadata": {
        "colab": {
          "base_uri": "https://localhost:8080/"
        },
        "id": "r764J84-1jZH",
        "outputId": "4d48f5b1-8e5b-44a2-98f3-18e3fc1a1ba5"
      },
      "execution_count": null,
      "outputs": [
        {
          "output_type": "stream",
          "name": "stderr",
          "text": [
            "/usr/local/lib/python3.11/dist-packages/pandas/core/window/rolling.py:1535: RuntimeWarning: Precision loss occurred in moment calculation due to catastrophic cancellation. This occurs when the data are nearly identical. Results may be unreliable.\n",
            "  return window_func(values, begin, end, min_periods)\n"
          ]
        },
        {
          "output_type": "stream",
          "name": "stdout",
          "text": [
            "                        mean_3    median_3      std_3  skewness_3  kurtosis_3  \\\n",
            "DateTime (UTC)                                                                  \n",
            "2024-01-01 00:25:35        NaN         NaN        NaN         NaN         NaN   \n",
            "2024-01-01 00:36:11        NaN         NaN        NaN         NaN         NaN   \n",
            "2024-01-01 00:36:11  47.219049   36.593837  53.253626    0.351952        -1.5   \n",
            "2024-01-01 00:36:11  70.015862  104.984275  60.567069   -0.707107        -1.5   \n",
            "2024-01-01 00:51:59  38.436915   10.247435  57.855531    0.682613        -1.5   \n",
            "\n",
            "                        mean_5   median_5      std_5  skewness_5  kurtosis_5  \\\n",
            "DateTime (UTC)                                                                 \n",
            "2024-01-01 00:25:35        NaN        NaN        NaN         NaN         NaN   \n",
            "2024-01-01 00:36:11        NaN        NaN        NaN         NaN         NaN   \n",
            "2024-01-01 00:36:11        NaN        NaN        NaN         NaN         NaN   \n",
            "2024-01-01 00:36:11        NaN        NaN        NaN         NaN         NaN   \n",
            "2024-01-01 00:51:59  51.377771  36.593837  50.717709    0.214861   -1.755482   \n",
            "\n",
            "                     mean_7  median_7  std_7  skewness_7  kurtosis_7  \n",
            "DateTime (UTC)                                                        \n",
            "2024-01-01 00:25:35     NaN       NaN    NaN         NaN         NaN  \n",
            "2024-01-01 00:36:11     NaN       NaN    NaN         NaN         NaN  \n",
            "2024-01-01 00:36:11     NaN       NaN    NaN         NaN         NaN  \n",
            "2024-01-01 00:36:11     NaN       NaN    NaN         NaN         NaN  \n",
            "2024-01-01 00:51:59     NaN       NaN    NaN         NaN         NaN  \n"
          ]
        }
      ]
    },
    {
      "cell_type": "markdown",
      "source": [
        "# Generate Lagged Features"
      ],
      "metadata": {
        "id": "ii621TXI1mhL"
      }
    },
    {
      "cell_type": "code",
      "source": [
        "# Generate lagged features\n",
        "lagged_features = pd.DataFrame({\n",
        "    f\"lag_{lag}\": df['Quantity'].shift(lag) for lag in range(1, 4)  # Lags 1 to 3\n",
        "})\n",
        "print(lagged_features.head())\n"
      ],
      "metadata": {
        "colab": {
          "base_uri": "https://localhost:8080/"
        },
        "id": "RYjON9hL1oc8",
        "outputId": "16df46eb-34cb-4350-81ec-3207896a6ec5"
      },
      "execution_count": null,
      "outputs": [
        {
          "output_type": "stream",
          "name": "stdout",
          "text": [
            "                          lag_1       lag_2       lag_3\n",
            "DateTime (UTC)                                         \n",
            "2024-01-01 00:25:35         NaN         NaN         NaN\n",
            "2024-01-01 00:36:11   36.593837         NaN         NaN\n",
            "2024-01-01 00:36:11  104.984275   36.593837         NaN\n",
            "2024-01-01 00:36:11    0.079035  104.984275   36.593837\n",
            "2024-01-01 00:51:59  104.984275    0.079035  104.984275\n"
          ]
        }
      ]
    },
    {
      "cell_type": "markdown",
      "source": [
        "# Decompose Time Series"
      ],
      "metadata": {
        "id": "cc2enGAr1trV"
      }
    },
    {
      "cell_type": "code",
      "source": [
        "from statsmodels.tsa.seasonal import seasonal_decompose\n",
        "\n",
        "# Decompose the time series (set period approximately to daily cycles or known periodicity)\n",
        "decomposed = seasonal_decompose(df['Quantity'], model='additive', period=30)\n",
        "decomposed_features = pd.DataFrame({\n",
        "    \"trend\": decomposed.trend,\n",
        "    \"seasonal\": decomposed.seasonal,\n",
        "    \"residual\": decomposed.resid,\n",
        "})\n",
        "print(decomposed_features.head())\n"
      ],
      "metadata": {
        "colab": {
          "base_uri": "https://localhost:8080/"
        },
        "id": "7wNTmGtc1r9S",
        "outputId": "a87d8092-47df-430c-bebe-e2cb7cf12f12"
      },
      "execution_count": null,
      "outputs": [
        {
          "output_type": "stream",
          "name": "stdout",
          "text": [
            "                     trend    seasonal  residual\n",
            "DateTime (UTC)                                  \n",
            "2024-01-01 00:25:35    NaN -161.540382       NaN\n",
            "2024-01-01 00:36:11    NaN -146.466059       NaN\n",
            "2024-01-01 00:36:11    NaN -141.747558       NaN\n",
            "2024-01-01 00:36:11    NaN -101.213517       NaN\n",
            "2024-01-01 00:51:59    NaN -143.623757       NaN\n"
          ]
        }
      ]
    },
    {
      "cell_type": "markdown",
      "source": [
        "# Create Event-Based Features"
      ],
      "metadata": {
        "id": "YiLB4rPt125f"
      }
    },
    {
      "cell_type": "code",
      "source": [
        "# Compute time differences and domain-specific features\n",
        "df['time_diff'] = df.index.to_series().diff().dt.total_seconds()  # Time difference in seconds\n",
        "event_features = pd.DataFrame({\n",
        "    \"is_high_quantity\": df['Quantity'] > df['Quantity'].quantile(0.95)  # Top 5% values\n",
        "})\n",
        "print(df[['time_diff']].head())\n",
        "print(event_features.head())\n"
      ],
      "metadata": {
        "colab": {
          "base_uri": "https://localhost:8080/"
        },
        "id": "kgK6KBgw14of",
        "outputId": "0fc5dc4b-ec9d-4680-b87c-5a539353803a"
      },
      "execution_count": null,
      "outputs": [
        {
          "output_type": "stream",
          "name": "stdout",
          "text": [
            "                     time_diff\n",
            "DateTime (UTC)                \n",
            "2024-01-01 00:25:35        NaN\n",
            "2024-01-01 00:36:11      636.0\n",
            "2024-01-01 00:36:11        0.0\n",
            "2024-01-01 00:36:11        0.0\n",
            "2024-01-01 00:51:59      948.0\n",
            "                     is_high_quantity\n",
            "DateTime (UTC)                       \n",
            "2024-01-01 00:25:35             False\n",
            "2024-01-01 00:36:11             False\n",
            "2024-01-01 00:36:11             False\n",
            "2024-01-01 00:36:11             False\n",
            "2024-01-01 00:51:59             False\n"
          ]
        }
      ]
    },
    {
      "cell_type": "code",
      "source": [
        "import pandas as pd\n",
        "import numpy as np\n",
        "from sklearn.feature_selection import RFE\n",
        "from sklearn.ensemble import RandomForestClassifier\n",
        "from sklearn.inspection import permutation_importance\n",
        "from sklearn.decomposition import PCA\n",
        "from sklearn.discriminant_analysis import LinearDiscriminantAnalysis as LDA\n",
        "from sklearn.model_selection import train_test_split, GridSearchCV, RandomizedSearchCV\n",
        "import optuna\n",
        "from hyperopt import hp, fmin, tpe, Trials, STATUS_OK\n",
        "from tensorflow.keras.models import Sequential\n",
        "from tensorflow.keras.layers import LSTM, Dense\n",
        "from keras_tuner.tuners import RandomSearch\n",
        "from pmdarima import auto_arima\n",
        "\n",
        "# Load dataset\n",
        "file_path = '/content/trans.xlsx'\n",
        "data = pd.read_excel(file_path)\n",
        "\n",
        "# Initial Data Inspection\n",
        "print(\"Data Information:\")\n",
        "print(data.info())\n",
        "print(\"First Few Rows of Data:\")\n",
        "print(data.head())\n",
        "\n",
        "# Ensure the dataset contains numeric columns and preprocess accordingly\n",
        "if 'irrelevant_column_name' in data.columns:  # Replace with actual irrelevant column name\n",
        "    data = data.drop(['irrelevant_column_name'], axis=1)\n",
        "\n",
        "# Encode categorical columns\n",
        "from sklearn.preprocessing import LabelEncoder\n",
        "label_encoder = LabelEncoder()\n",
        "\n",
        "for col in data.select_dtypes(include=['object']).columns:\n",
        "    data[col] = label_encoder.fit_transform(data[col])\n",
        "\n",
        "# Check if all columns are numeric now\n",
        "data = data.select_dtypes(include=[np.number])\n",
        "\n",
        "# Handle missing values\n",
        "data = data.dropna()\n",
        "\n",
        "# Separate features and target\n",
        "if data.shape[1] < 2:\n",
        "    raise ValueError(\"Dataset must contain at least one feature column and one target column.\")\n",
        "X = data.iloc[:, :-1]\n",
        "y = data.iloc[:, -1]\n",
        "\n",
        "# Train-Test Split\n",
        "X_train, X_test, y_train, y_test = train_test_split(X, y, test_size=0.2, random_state=42)\n",
        "\n",
        "### Feature Engineering ###\n",
        "\n",
        "# RFE (Recursive Feature Elimination)\n",
        "rfe_model = RandomForestClassifier(random_state=42)\n",
        "rfe = RFE(estimator=rfe_model, n_features_to_select=min(5, X_train.shape[1]))\n",
        "X_train_rfe = rfe.fit_transform(X_train, y_train)\n",
        "X_test_rfe = rfe.transform(X_test)\n",
        "\n",
        "# Permutation Importance\n",
        "rf_model = RandomForestClassifier(random_state=42).fit(X_train, y_train)\n",
        "perm_importance = permutation_importance(rf_model, X_test, y_test)\n",
        "print(\"Permutation Importance:\", perm_importance.importances_mean)\n",
        "\n",
        "# PCA\n",
        "n_components = min(5, X_train.shape[1])  # Ensure we don't exceed the number of features\n",
        "pca = PCA(n_components=n_components)\n",
        "X_train_pca = pca.fit_transform(X_train)\n",
        "X_test_pca = pca.transform(X_test)\n",
        "\n",
        "# LDA\n",
        "lda = LDA(n_components=min(1, len(np.unique(y)) - 1))  # n_classes - 1 for LDA\n",
        "X_train_lda = lda.fit_transform(X_train, y_train)\n",
        "X_test_lda = lda.transform(X_test)\n",
        "\n"
      ],
      "metadata": {
        "colab": {
          "base_uri": "https://localhost:8080/"
        },
        "id": "0wguvqxLllQw",
        "outputId": "7ec7b4ae-299e-4a48-f48c-61081f1aa6b6"
      },
      "execution_count": null,
      "outputs": [
        {
          "output_type": "stream",
          "name": "stdout",
          "text": [
            "Data Information:\n",
            "<class 'pandas.core.frame.DataFrame'>\n",
            "RangeIndex: 19836 entries, 0 to 19835\n",
            "Data columns (total 8 columns):\n",
            " #   Column            Non-Null Count  Dtype         \n",
            "---  ------            --------------  -----         \n",
            " 0   Transaction Hash  19836 non-null  object        \n",
            " 1   Blockno           19836 non-null  int64         \n",
            " 2   UnixTimestamp     19836 non-null  int64         \n",
            " 3   DateTime (UTC)    19836 non-null  datetime64[ns]\n",
            " 4   From              19836 non-null  object        \n",
            " 5   To                19836 non-null  object        \n",
            " 6   Quantity          19836 non-null  float64       \n",
            " 7   Method            19836 non-null  object        \n",
            "dtypes: datetime64[ns](1), float64(1), int64(2), object(4)\n",
            "memory usage: 1.2+ MB\n",
            "None\n",
            "First Few Rows of Data:\n",
            "                                    Transaction Hash   Blockno  UnixTimestamp  \\\n",
            "0  0x27797428fc8aaf088cc707c8788b5d13580696418c79...  18909018     1704068735   \n",
            "1  0x1fba1d9d11ef9986478f1d964e37f0d1a5abdbc0503e...  18909070     1704069371   \n",
            "2  0x1fba1d9d11ef9986478f1d964e37f0d1a5abdbc0503e...  18909070     1704069371   \n",
            "3  0x1fba1d9d11ef9986478f1d964e37f0d1a5abdbc0503e...  18909070     1704069371   \n",
            "4  0xb8e2f84b80260aa1c1e975e27a59086285e6616ca9cc...  18909149     1704070319   \n",
            "\n",
            "       DateTime (UTC)                                        From  \\\n",
            "0 2024-01-01 00:25:35  0x6469b34a2a4723163c4902dbbdea728d20693c12   \n",
            "1 2024-01-01 00:36:11  0x983dfba1c0724786598af0e63a9a6f94aabd24a1   \n",
            "2 2024-01-01 00:36:11  0x983dfba1c0724786598af0e63a9a6f94aabd24a1   \n",
            "3 2024-01-01 00:36:11  0x22f9dcf4647084d6c31b2765f6910cd85c178c18   \n",
            "4 2024-01-01 00:51:59  0x983dfba1c0724786598af0e63a9a6f94aabd24a1   \n",
            "\n",
            "                                           To    Quantity           Method  \n",
            "0  0x776a0725094cbf984e31b43d17e8aaec3c88294a   36.593837  Sell To Uniswap  \n",
            "1  0x22f9dcf4647084d6c31b2765f6910cd85c178c18  104.984275       0x415565b0  \n",
            "2  0x95c4f5b83aa70810d4f142d58e5f7242bd891cb0    0.079035       0x415565b0  \n",
            "3  0xd98d9d8c5a70df5d5d8e39847ce254347a59816b  104.984275       0x415565b0  \n",
            "4  0x22f9dcf4647084d6c31b2765f6910cd85c178c18   10.247435       0x415565b0  \n",
            "Permutation Importance: [0.00040323 0.03392137 0.02479839 0.35705645 0.26441532 0.09254032]\n"
          ]
        }
      ]
    },
    {
      "cell_type": "code",
      "source": [
        "!pip install optuna\n",
        "!pip install hyperopt\n",
        "!pip install pmdarima\n",
        "!pip install keras-tuner\n"
      ],
      "metadata": {
        "colab": {
          "base_uri": "https://localhost:8080/"
        },
        "id": "444-OLwVjRZh",
        "outputId": "850844d5-fb36-42bc-fd8b-9acd78c2e7ca"
      },
      "execution_count": null,
      "outputs": [
        {
          "output_type": "stream",
          "name": "stdout",
          "text": [
            "Requirement already satisfied: optuna in /usr/local/lib/python3.11/dist-packages (4.2.0)\n",
            "Requirement already satisfied: alembic>=1.5.0 in /usr/local/lib/python3.11/dist-packages (from optuna) (1.14.1)\n",
            "Requirement already satisfied: colorlog in /usr/local/lib/python3.11/dist-packages (from optuna) (6.9.0)\n",
            "Requirement already satisfied: numpy in /usr/local/lib/python3.11/dist-packages (from optuna) (1.26.4)\n",
            "Requirement already satisfied: packaging>=20.0 in /usr/local/lib/python3.11/dist-packages (from optuna) (24.2)\n",
            "Requirement already satisfied: sqlalchemy>=1.4.2 in /usr/local/lib/python3.11/dist-packages (from optuna) (2.0.37)\n",
            "Requirement already satisfied: tqdm in /usr/local/lib/python3.11/dist-packages (from optuna) (4.67.1)\n",
            "Requirement already satisfied: PyYAML in /usr/local/lib/python3.11/dist-packages (from optuna) (6.0.2)\n",
            "Requirement already satisfied: Mako in /usr/local/lib/python3.11/dist-packages (from alembic>=1.5.0->optuna) (1.3.8)\n",
            "Requirement already satisfied: typing-extensions>=4 in /usr/local/lib/python3.11/dist-packages (from alembic>=1.5.0->optuna) (4.12.2)\n",
            "Requirement already satisfied: greenlet!=0.4.17 in /usr/local/lib/python3.11/dist-packages (from sqlalchemy>=1.4.2->optuna) (3.1.1)\n",
            "Requirement already satisfied: MarkupSafe>=0.9.2 in /usr/local/lib/python3.11/dist-packages (from Mako->alembic>=1.5.0->optuna) (3.0.2)\n",
            "Requirement already satisfied: hyperopt in /usr/local/lib/python3.11/dist-packages (0.2.7)\n",
            "Requirement already satisfied: numpy in /usr/local/lib/python3.11/dist-packages (from hyperopt) (1.26.4)\n",
            "Requirement already satisfied: scipy in /usr/local/lib/python3.11/dist-packages (from hyperopt) (1.13.1)\n",
            "Requirement already satisfied: six in /usr/local/lib/python3.11/dist-packages (from hyperopt) (1.17.0)\n",
            "Requirement already satisfied: networkx>=2.2 in /usr/local/lib/python3.11/dist-packages (from hyperopt) (3.4.2)\n",
            "Requirement already satisfied: future in /usr/local/lib/python3.11/dist-packages (from hyperopt) (1.0.0)\n",
            "Requirement already satisfied: tqdm in /usr/local/lib/python3.11/dist-packages (from hyperopt) (4.67.1)\n",
            "Requirement already satisfied: cloudpickle in /usr/local/lib/python3.11/dist-packages (from hyperopt) (3.1.0)\n",
            "Requirement already satisfied: py4j in /usr/local/lib/python3.11/dist-packages (from hyperopt) (0.10.9.7)\n",
            "Collecting pmdarima\n",
            "  Downloading pmdarima-2.0.4-cp311-cp311-manylinux_2_17_x86_64.manylinux2014_x86_64.manylinux_2_28_x86_64.whl.metadata (7.8 kB)\n",
            "Requirement already satisfied: joblib>=0.11 in /usr/local/lib/python3.11/dist-packages (from pmdarima) (1.4.2)\n",
            "Requirement already satisfied: Cython!=0.29.18,!=0.29.31,>=0.29 in /usr/local/lib/python3.11/dist-packages (from pmdarima) (3.0.11)\n",
            "Requirement already satisfied: numpy>=1.21.2 in /usr/local/lib/python3.11/dist-packages (from pmdarima) (1.26.4)\n",
            "Requirement already satisfied: pandas>=0.19 in /usr/local/lib/python3.11/dist-packages (from pmdarima) (2.2.2)\n",
            "Requirement already satisfied: scikit-learn>=0.22 in /usr/local/lib/python3.11/dist-packages (from pmdarima) (1.6.0)\n",
            "Requirement already satisfied: scipy>=1.3.2 in /usr/local/lib/python3.11/dist-packages (from pmdarima) (1.13.1)\n",
            "Requirement already satisfied: statsmodels>=0.13.2 in /usr/local/lib/python3.11/dist-packages (from pmdarima) (0.14.4)\n",
            "Requirement already satisfied: urllib3 in /usr/local/lib/python3.11/dist-packages (from pmdarima) (2.3.0)\n",
            "Requirement already satisfied: setuptools!=50.0.0,>=38.6.0 in /usr/local/lib/python3.11/dist-packages (from pmdarima) (75.1.0)\n",
            "Requirement already satisfied: packaging>=17.1 in /usr/local/lib/python3.11/dist-packages (from pmdarima) (24.2)\n",
            "Requirement already satisfied: python-dateutil>=2.8.2 in /usr/local/lib/python3.11/dist-packages (from pandas>=0.19->pmdarima) (2.8.2)\n",
            "Requirement already satisfied: pytz>=2020.1 in /usr/local/lib/python3.11/dist-packages (from pandas>=0.19->pmdarima) (2024.2)\n",
            "Requirement already satisfied: tzdata>=2022.7 in /usr/local/lib/python3.11/dist-packages (from pandas>=0.19->pmdarima) (2024.2)\n",
            "Requirement already satisfied: threadpoolctl>=3.1.0 in /usr/local/lib/python3.11/dist-packages (from scikit-learn>=0.22->pmdarima) (3.5.0)\n",
            "Requirement already satisfied: patsy>=0.5.6 in /usr/local/lib/python3.11/dist-packages (from statsmodels>=0.13.2->pmdarima) (1.0.1)\n",
            "Requirement already satisfied: six>=1.5 in /usr/local/lib/python3.11/dist-packages (from python-dateutil>=2.8.2->pandas>=0.19->pmdarima) (1.17.0)\n",
            "Downloading pmdarima-2.0.4-cp311-cp311-manylinux_2_17_x86_64.manylinux2014_x86_64.manylinux_2_28_x86_64.whl (2.2 MB)\n",
            "\u001b[2K   \u001b[90m━━━━━━━━━━━━━━━━━━━━━━━━━━━━━━━━━━━━━━━━\u001b[0m \u001b[32m2.2/2.2 MB\u001b[0m \u001b[31m28.4 MB/s\u001b[0m eta \u001b[36m0:00:00\u001b[0m\n",
            "\u001b[?25hInstalling collected packages: pmdarima\n",
            "Successfully installed pmdarima-2.0.4\n",
            "Collecting keras-tuner\n",
            "  Downloading keras_tuner-1.4.7-py3-none-any.whl.metadata (5.4 kB)\n",
            "Requirement already satisfied: keras in /usr/local/lib/python3.11/dist-packages (from keras-tuner) (3.5.0)\n",
            "Requirement already satisfied: packaging in /usr/local/lib/python3.11/dist-packages (from keras-tuner) (24.2)\n",
            "Requirement already satisfied: requests in /usr/local/lib/python3.11/dist-packages (from keras-tuner) (2.32.3)\n",
            "Collecting kt-legacy (from keras-tuner)\n",
            "  Downloading kt_legacy-1.0.5-py3-none-any.whl.metadata (221 bytes)\n",
            "Requirement already satisfied: absl-py in /usr/local/lib/python3.11/dist-packages (from keras->keras-tuner) (1.4.0)\n",
            "Requirement already satisfied: numpy in /usr/local/lib/python3.11/dist-packages (from keras->keras-tuner) (1.26.4)\n",
            "Requirement already satisfied: rich in /usr/local/lib/python3.11/dist-packages (from keras->keras-tuner) (13.9.4)\n",
            "Requirement already satisfied: namex in /usr/local/lib/python3.11/dist-packages (from keras->keras-tuner) (0.0.8)\n",
            "Requirement already satisfied: h5py in /usr/local/lib/python3.11/dist-packages (from keras->keras-tuner) (3.12.1)\n",
            "Requirement already satisfied: optree in /usr/local/lib/python3.11/dist-packages (from keras->keras-tuner) (0.13.1)\n",
            "Requirement already satisfied: ml-dtypes in /usr/local/lib/python3.11/dist-packages (from keras->keras-tuner) (0.4.1)\n",
            "Requirement already satisfied: charset-normalizer<4,>=2 in /usr/local/lib/python3.11/dist-packages (from requests->keras-tuner) (3.4.1)\n",
            "Requirement already satisfied: idna<4,>=2.5 in /usr/local/lib/python3.11/dist-packages (from requests->keras-tuner) (3.10)\n",
            "Requirement already satisfied: urllib3<3,>=1.21.1 in /usr/local/lib/python3.11/dist-packages (from requests->keras-tuner) (2.3.0)\n",
            "Requirement already satisfied: certifi>=2017.4.17 in /usr/local/lib/python3.11/dist-packages (from requests->keras-tuner) (2024.12.14)\n",
            "Requirement already satisfied: typing-extensions>=4.5.0 in /usr/local/lib/python3.11/dist-packages (from optree->keras->keras-tuner) (4.12.2)\n",
            "Requirement already satisfied: markdown-it-py>=2.2.0 in /usr/local/lib/python3.11/dist-packages (from rich->keras->keras-tuner) (3.0.0)\n",
            "Requirement already satisfied: pygments<3.0.0,>=2.13.0 in /usr/local/lib/python3.11/dist-packages (from rich->keras->keras-tuner) (2.18.0)\n",
            "Requirement already satisfied: mdurl~=0.1 in /usr/local/lib/python3.11/dist-packages (from markdown-it-py>=2.2.0->rich->keras->keras-tuner) (0.1.2)\n",
            "Downloading keras_tuner-1.4.7-py3-none-any.whl (129 kB)\n",
            "\u001b[2K   \u001b[90m━━━━━━━━━━━━━━━━━━━━━━━━━━━━━━━━━━━━━━━━\u001b[0m \u001b[32m129.1/129.1 kB\u001b[0m \u001b[31m9.7 MB/s\u001b[0m eta \u001b[36m0:00:00\u001b[0m\n",
            "\u001b[?25hDownloading kt_legacy-1.0.5-py3-none-any.whl (9.6 kB)\n",
            "Installing collected packages: kt-legacy, keras-tuner\n",
            "Successfully installed keras-tuner-1.4.7 kt-legacy-1.0.5\n"
          ]
        }
      ]
    },
    {
      "cell_type": "markdown",
      "source": [
        "# Hyperparameter Tuning"
      ],
      "metadata": {
        "id": "JIjQlzaHl17u"
      }
    },
    {
      "cell_type": "code",
      "source": [
        "!pip install optuna\n",
        "!pip install hyperopt\n",
        "!pip install pmdarima\n",
        "!pip install keras-tuner\n",
        "import pandas as pd\n",
        "import numpy as np\n",
        "from sklearn.model_selection import train_test_split, RandomizedSearchCV, GridSearchCV\n",
        "import optuna\n",
        "from hyperopt import hp, fmin, tpe, Trials, STATUS_OK\n",
        "from tensorflow.keras.models import Sequential\n",
        "from tensorflow.keras.layers import LSTM, Dense\n",
        "from keras_tuner.tuners import RandomSearch\n",
        "from pmdarima import auto_arima\n",
        "from scipy.stats import mannwhitneyu\n",
        "\n",
        "# Load Dataset\n",
        "file_path = '/content/trans.xlsx'  # Update with the correct file path\n",
        "data = pd.read_excel(file_path)\n",
        "\n",
        "# Preprocessing (assume dataset has 'DateTime (UTC)' and 'Quantity' columns)\n",
        "# Rename the timestamp column to 'timestamp' for consistency\n",
        "data = data.rename(columns={'DateTime (UTC)': 'timestamp'})\n",
        "data['timestamp'] = pd.to_datetime(data['timestamp'])\n",
        "data.set_index('timestamp', inplace=True)\n",
        "\n",
        "# Ensure 'Quantity' column exists for ARIMA and LSTM\n",
        "# Assuming your value column is named 'Quantity'\n",
        "if 'Quantity' not in data.columns:\n",
        "    raise ValueError(\"The dataset must contain a 'Quantity' column.\")\n",
        "\n",
        "# Split data\n",
        "train_data, test_data = train_test_split(data['Quantity'], test_size=0.2, random_state=42)\n"
      ],
      "metadata": {
        "colab": {
          "base_uri": "https://localhost:8080/"
        },
        "id": "NS6czWXzUK-j",
        "outputId": "f1b07678-08c6-4845-f7ed-2d1ce85c9110"
      },
      "execution_count": null,
      "outputs": [
        {
          "output_type": "stream",
          "name": "stdout",
          "text": [
            "Collecting optuna\n",
            "  Downloading optuna-4.2.0-py3-none-any.whl.metadata (17 kB)\n",
            "Collecting alembic>=1.5.0 (from optuna)\n",
            "  Downloading alembic-1.14.1-py3-none-any.whl.metadata (7.4 kB)\n",
            "Collecting colorlog (from optuna)\n",
            "  Downloading colorlog-6.9.0-py3-none-any.whl.metadata (10 kB)\n",
            "Requirement already satisfied: numpy in /usr/local/lib/python3.11/dist-packages (from optuna) (1.26.4)\n",
            "Requirement already satisfied: packaging>=20.0 in /usr/local/lib/python3.11/dist-packages (from optuna) (24.2)\n",
            "Requirement already satisfied: sqlalchemy>=1.4.2 in /usr/local/lib/python3.11/dist-packages (from optuna) (2.0.37)\n",
            "Requirement already satisfied: tqdm in /usr/local/lib/python3.11/dist-packages (from optuna) (4.67.1)\n",
            "Requirement already satisfied: PyYAML in /usr/local/lib/python3.11/dist-packages (from optuna) (6.0.2)\n",
            "Collecting Mako (from alembic>=1.5.0->optuna)\n",
            "  Downloading Mako-1.3.8-py3-none-any.whl.metadata (2.9 kB)\n",
            "Requirement already satisfied: typing-extensions>=4 in /usr/local/lib/python3.11/dist-packages (from alembic>=1.5.0->optuna) (4.12.2)\n",
            "Requirement already satisfied: greenlet!=0.4.17 in /usr/local/lib/python3.11/dist-packages (from sqlalchemy>=1.4.2->optuna) (3.1.1)\n",
            "Requirement already satisfied: MarkupSafe>=0.9.2 in /usr/local/lib/python3.11/dist-packages (from Mako->alembic>=1.5.0->optuna) (3.0.2)\n",
            "Downloading optuna-4.2.0-py3-none-any.whl (383 kB)\n",
            "\u001b[2K   \u001b[90m━━━━━━━━━━━━━━━━━━━━━━━━━━━━━━━━━━━━━━━━\u001b[0m \u001b[32m383.4/383.4 kB\u001b[0m \u001b[31m15.8 MB/s\u001b[0m eta \u001b[36m0:00:00\u001b[0m\n",
            "\u001b[?25hDownloading alembic-1.14.1-py3-none-any.whl (233 kB)\n",
            "\u001b[2K   \u001b[90m━━━━━━━━━━━━━━━━━━━━━━━━━━━━━━━━━━━━━━━━\u001b[0m \u001b[32m233.6/233.6 kB\u001b[0m \u001b[31m12.5 MB/s\u001b[0m eta \u001b[36m0:00:00\u001b[0m\n",
            "\u001b[?25hDownloading colorlog-6.9.0-py3-none-any.whl (11 kB)\n",
            "Downloading Mako-1.3.8-py3-none-any.whl (78 kB)\n",
            "\u001b[2K   \u001b[90m━━━━━━━━━━━━━━━━━━━━━━━━━━━━━━━━━━━━━━━━\u001b[0m \u001b[32m78.6/78.6 kB\u001b[0m \u001b[31m6.7 MB/s\u001b[0m eta \u001b[36m0:00:00\u001b[0m\n",
            "\u001b[?25hInstalling collected packages: Mako, colorlog, alembic, optuna\n",
            "Successfully installed Mako-1.3.8 alembic-1.14.1 colorlog-6.9.0 optuna-4.2.0\n",
            "Requirement already satisfied: hyperopt in /usr/local/lib/python3.11/dist-packages (0.2.7)\n",
            "Requirement already satisfied: numpy in /usr/local/lib/python3.11/dist-packages (from hyperopt) (1.26.4)\n",
            "Requirement already satisfied: scipy in /usr/local/lib/python3.11/dist-packages (from hyperopt) (1.13.1)\n",
            "Requirement already satisfied: six in /usr/local/lib/python3.11/dist-packages (from hyperopt) (1.17.0)\n",
            "Requirement already satisfied: networkx>=2.2 in /usr/local/lib/python3.11/dist-packages (from hyperopt) (3.4.2)\n",
            "Requirement already satisfied: future in /usr/local/lib/python3.11/dist-packages (from hyperopt) (1.0.0)\n",
            "Requirement already satisfied: tqdm in /usr/local/lib/python3.11/dist-packages (from hyperopt) (4.67.1)\n",
            "Requirement already satisfied: cloudpickle in /usr/local/lib/python3.11/dist-packages (from hyperopt) (3.1.0)\n",
            "Requirement already satisfied: py4j in /usr/local/lib/python3.11/dist-packages (from hyperopt) (0.10.9.7)\n",
            "Collecting pmdarima\n",
            "  Downloading pmdarima-2.0.4-cp311-cp311-manylinux_2_17_x86_64.manylinux2014_x86_64.manylinux_2_28_x86_64.whl.metadata (7.8 kB)\n",
            "Requirement already satisfied: joblib>=0.11 in /usr/local/lib/python3.11/dist-packages (from pmdarima) (1.4.2)\n",
            "Requirement already satisfied: Cython!=0.29.18,!=0.29.31,>=0.29 in /usr/local/lib/python3.11/dist-packages (from pmdarima) (3.0.11)\n",
            "Requirement already satisfied: numpy>=1.21.2 in /usr/local/lib/python3.11/dist-packages (from pmdarima) (1.26.4)\n",
            "Requirement already satisfied: pandas>=0.19 in /usr/local/lib/python3.11/dist-packages (from pmdarima) (2.2.2)\n",
            "Requirement already satisfied: scikit-learn>=0.22 in /usr/local/lib/python3.11/dist-packages (from pmdarima) (1.6.0)\n",
            "Requirement already satisfied: scipy>=1.3.2 in /usr/local/lib/python3.11/dist-packages (from pmdarima) (1.13.1)\n",
            "Requirement already satisfied: statsmodels>=0.13.2 in /usr/local/lib/python3.11/dist-packages (from pmdarima) (0.14.4)\n",
            "Requirement already satisfied: urllib3 in /usr/local/lib/python3.11/dist-packages (from pmdarima) (2.3.0)\n",
            "Requirement already satisfied: setuptools!=50.0.0,>=38.6.0 in /usr/local/lib/python3.11/dist-packages (from pmdarima) (75.1.0)\n",
            "Requirement already satisfied: packaging>=17.1 in /usr/local/lib/python3.11/dist-packages (from pmdarima) (24.2)\n",
            "Requirement already satisfied: python-dateutil>=2.8.2 in /usr/local/lib/python3.11/dist-packages (from pandas>=0.19->pmdarima) (2.8.2)\n",
            "Requirement already satisfied: pytz>=2020.1 in /usr/local/lib/python3.11/dist-packages (from pandas>=0.19->pmdarima) (2024.2)\n",
            "Requirement already satisfied: tzdata>=2022.7 in /usr/local/lib/python3.11/dist-packages (from pandas>=0.19->pmdarima) (2024.2)\n",
            "Requirement already satisfied: threadpoolctl>=3.1.0 in /usr/local/lib/python3.11/dist-packages (from scikit-learn>=0.22->pmdarima) (3.5.0)\n",
            "Requirement already satisfied: patsy>=0.5.6 in /usr/local/lib/python3.11/dist-packages (from statsmodels>=0.13.2->pmdarima) (1.0.1)\n",
            "Requirement already satisfied: six>=1.5 in /usr/local/lib/python3.11/dist-packages (from python-dateutil>=2.8.2->pandas>=0.19->pmdarima) (1.17.0)\n",
            "Downloading pmdarima-2.0.4-cp311-cp311-manylinux_2_17_x86_64.manylinux2014_x86_64.manylinux_2_28_x86_64.whl (2.2 MB)\n",
            "\u001b[2K   \u001b[90m━━━━━━━━━━━━━━━━━━━━━━━━━━━━━━━━━━━━━━━━\u001b[0m \u001b[32m2.2/2.2 MB\u001b[0m \u001b[31m22.3 MB/s\u001b[0m eta \u001b[36m0:00:00\u001b[0m\n",
            "\u001b[?25hInstalling collected packages: pmdarima\n",
            "Successfully installed pmdarima-2.0.4\n",
            "Collecting keras-tuner\n",
            "  Downloading keras_tuner-1.4.7-py3-none-any.whl.metadata (5.4 kB)\n",
            "Requirement already satisfied: keras in /usr/local/lib/python3.11/dist-packages (from keras-tuner) (3.5.0)\n",
            "Requirement already satisfied: packaging in /usr/local/lib/python3.11/dist-packages (from keras-tuner) (24.2)\n",
            "Requirement already satisfied: requests in /usr/local/lib/python3.11/dist-packages (from keras-tuner) (2.32.3)\n",
            "Collecting kt-legacy (from keras-tuner)\n",
            "  Downloading kt_legacy-1.0.5-py3-none-any.whl.metadata (221 bytes)\n",
            "Requirement already satisfied: absl-py in /usr/local/lib/python3.11/dist-packages (from keras->keras-tuner) (1.4.0)\n",
            "Requirement already satisfied: numpy in /usr/local/lib/python3.11/dist-packages (from keras->keras-tuner) (1.26.4)\n",
            "Requirement already satisfied: rich in /usr/local/lib/python3.11/dist-packages (from keras->keras-tuner) (13.9.4)\n",
            "Requirement already satisfied: namex in /usr/local/lib/python3.11/dist-packages (from keras->keras-tuner) (0.0.8)\n",
            "Requirement already satisfied: h5py in /usr/local/lib/python3.11/dist-packages (from keras->keras-tuner) (3.12.1)\n",
            "Requirement already satisfied: optree in /usr/local/lib/python3.11/dist-packages (from keras->keras-tuner) (0.13.1)\n",
            "Requirement already satisfied: ml-dtypes in /usr/local/lib/python3.11/dist-packages (from keras->keras-tuner) (0.4.1)\n",
            "Requirement already satisfied: charset-normalizer<4,>=2 in /usr/local/lib/python3.11/dist-packages (from requests->keras-tuner) (3.4.1)\n",
            "Requirement already satisfied: idna<4,>=2.5 in /usr/local/lib/python3.11/dist-packages (from requests->keras-tuner) (3.10)\n",
            "Requirement already satisfied: urllib3<3,>=1.21.1 in /usr/local/lib/python3.11/dist-packages (from requests->keras-tuner) (2.3.0)\n",
            "Requirement already satisfied: certifi>=2017.4.17 in /usr/local/lib/python3.11/dist-packages (from requests->keras-tuner) (2024.12.14)\n",
            "Requirement already satisfied: typing-extensions>=4.5.0 in /usr/local/lib/python3.11/dist-packages (from optree->keras->keras-tuner) (4.12.2)\n",
            "Requirement already satisfied: markdown-it-py>=2.2.0 in /usr/local/lib/python3.11/dist-packages (from rich->keras->keras-tuner) (3.0.0)\n",
            "Requirement already satisfied: pygments<3.0.0,>=2.13.0 in /usr/local/lib/python3.11/dist-packages (from rich->keras->keras-tuner) (2.18.0)\n",
            "Requirement already satisfied: mdurl~=0.1 in /usr/local/lib/python3.11/dist-packages (from markdown-it-py>=2.2.0->rich->keras->keras-tuner) (0.1.2)\n",
            "Downloading keras_tuner-1.4.7-py3-none-any.whl (129 kB)\n",
            "\u001b[2K   \u001b[90m━━━━━━━━━━━━━━━━━━━━━━━━━━━━━━━━━━━━━━━━\u001b[0m \u001b[32m129.1/129.1 kB\u001b[0m \u001b[31m5.8 MB/s\u001b[0m eta \u001b[36m0:00:00\u001b[0m\n",
            "\u001b[?25hDownloading kt_legacy-1.0.5-py3-none-any.whl (9.6 kB)\n",
            "Installing collected packages: kt-legacy, keras-tuner\n",
            "Successfully installed keras-tuner-1.4.7 kt-legacy-1.0.5\n"
          ]
        }
      ]
    },
    {
      "cell_type": "code",
      "source": [
        "### 1. ARIMA Hyperparameter Tuning ###\n",
        "\n",
        "# Random Search for ARIMA\n",
        "def random_search_arima(train_data):\n",
        "    random_results = []\n",
        "    for i in range(20):  # Number of random combinations\n",
        "        params = {\n",
        "            'order': (np.random.randint(0, 5), np.random.randint(0, 2), np.random.randint(0, 5)),\n",
        "            'seasonal_order': (np.random.randint(0, 2), np.random.randint(0, 2), np.random.randint(0, 2), 12),  # Assuming seasonality of 12\n",
        "            'suppress_warnings': True,\n",
        "            'trace': False,\n",
        "            'error_action': 'ignore'  # Handle potential errors during fitting\n",
        "        }\n",
        "        try:\n",
        "            model = auto_arima(train_data, **params)\n",
        "            aic = model.aic()\n",
        "            random_results.append((params, aic))\n",
        "        except Exception as e:\n",
        "            print(f\"Error during ARIMA fitting: {e}\")  # Log the error\n",
        "            continue\n",
        "    best_params = min(random_results, key=lambda x: x[1])\n",
        "    return best_params\n",
        "\n",
        "# Optuna for ARIMA\n",
        "def objective_arima(trial):\n",
        "    params = {\n",
        "        'order': (trial.suggest_int('p', 0, 5), trial.suggest_int('d', 0, 2), trial.suggest_int('q', 0, 5)),\n",
        "        'seasonal_order': (trial.suggest_int('P', 0, 2), trial.suggest_int('D', 0, 2), trial.suggest_int('Q', 0, 2), 12),\n",
        "        'suppress_warnings': True,\n",
        "        'trace': False,\n",
        "        'error_action': 'ignore'\n",
        "    }\n",
        "    try:\n",
        "        model = auto_arima(train_data, **params)\n",
        "        return model.aic()\n",
        "    except Exception as e:\n",
        "        print(f\"Error during ARIMA fitting: {e}\")\n",
        "        return float('inf')\n",
        "\n",
        "study_arima = optuna.create_study(direction='minimize')\n",
        "study_arima.optimize(objective_arima, n_trials=20)\n",
        "print(\"Best ARIMA Parameters (Optuna):\", study_arima.best_params)"
      ],
      "metadata": {
        "id": "VUeYmkybwYUR",
        "colab": {
          "base_uri": "https://localhost:8080/"
        },
        "outputId": "838713d3-9a5c-4586-823b-5436f683c7f0"
      },
      "execution_count": null,
      "outputs": [
        {
          "output_type": "stream",
          "name": "stderr",
          "text": [
            "[I 2025-01-20 11:38:09,729] A new study created in memory with name: no-name-19821d22-e07f-4168-bf3c-bd32cf0d5946\n",
            "[I 2025-01-20 11:38:09,740] Trial 0 finished with value: inf and parameters: {'p': 5, 'd': 2, 'q': 1, 'P': 1, 'D': 0, 'Q': 0}. Best is trial 0 with value: inf.\n",
            "[I 2025-01-20 11:38:09,746] Trial 1 finished with value: inf and parameters: {'p': 5, 'd': 2, 'q': 1, 'P': 1, 'D': 2, 'Q': 0}. Best is trial 0 with value: inf.\n",
            "[I 2025-01-20 11:38:09,751] Trial 2 finished with value: inf and parameters: {'p': 2, 'd': 1, 'q': 4, 'P': 0, 'D': 2, 'Q': 2}. Best is trial 0 with value: inf.\n",
            "[I 2025-01-20 11:38:09,759] Trial 3 finished with value: inf and parameters: {'p': 1, 'd': 1, 'q': 2, 'P': 1, 'D': 2, 'Q': 2}. Best is trial 0 with value: inf.\n",
            "[I 2025-01-20 11:38:09,765] Trial 4 finished with value: inf and parameters: {'p': 2, 'd': 2, 'q': 3, 'P': 0, 'D': 2, 'Q': 1}. Best is trial 0 with value: inf.\n",
            "[I 2025-01-20 11:38:09,769] Trial 5 finished with value: inf and parameters: {'p': 4, 'd': 2, 'q': 2, 'P': 2, 'D': 0, 'Q': 1}. Best is trial 0 with value: inf.\n",
            "[I 2025-01-20 11:38:09,777] Trial 6 finished with value: inf and parameters: {'p': 1, 'd': 0, 'q': 1, 'P': 0, 'D': 1, 'Q': 1}. Best is trial 0 with value: inf.\n",
            "[I 2025-01-20 11:38:09,782] Trial 7 finished with value: inf and parameters: {'p': 5, 'd': 2, 'q': 1, 'P': 0, 'D': 2, 'Q': 1}. Best is trial 0 with value: inf.\n",
            "[I 2025-01-20 11:38:09,789] Trial 8 finished with value: inf and parameters: {'p': 5, 'd': 0, 'q': 0, 'P': 0, 'D': 1, 'Q': 2}. Best is trial 0 with value: inf.\n",
            "[I 2025-01-20 11:38:09,799] Trial 9 finished with value: inf and parameters: {'p': 5, 'd': 2, 'q': 3, 'P': 2, 'D': 2, 'Q': 0}. Best is trial 0 with value: inf.\n",
            "[I 2025-01-20 11:38:09,840] Trial 10 finished with value: inf and parameters: {'p': 3, 'd': 1, 'q': 0, 'P': 1, 'D': 0, 'Q': 0}. Best is trial 0 with value: inf.\n",
            "[I 2025-01-20 11:38:09,879] Trial 11 finished with value: inf and parameters: {'p': 4, 'd': 2, 'q': 1, 'P': 1, 'D': 0, 'Q': 0}. Best is trial 0 with value: inf.\n",
            "[I 2025-01-20 11:38:09,918] Trial 12 finished with value: inf and parameters: {'p': 4, 'd': 2, 'q': 5, 'P': 1, 'D': 1, 'Q': 0}. Best is trial 0 with value: inf.\n"
          ]
        },
        {
          "output_type": "stream",
          "name": "stdout",
          "text": [
            "Error during ARIMA fitting: name 'train_data' is not defined\n",
            "Error during ARIMA fitting: name 'train_data' is not defined\n",
            "Error during ARIMA fitting: name 'train_data' is not defined\n",
            "Error during ARIMA fitting: name 'train_data' is not defined\n",
            "Error during ARIMA fitting: name 'train_data' is not defined\n",
            "Error during ARIMA fitting: name 'train_data' is not defined\n",
            "Error during ARIMA fitting: name 'train_data' is not defined\n",
            "Error during ARIMA fitting: name 'train_data' is not defined\n",
            "Error during ARIMA fitting: name 'train_data' is not defined\n",
            "Error during ARIMA fitting: name 'train_data' is not defined\n",
            "Error during ARIMA fitting: name 'train_data' is not defined\n",
            "Error during ARIMA fitting: name 'train_data' is not defined\n",
            "Error during ARIMA fitting: name 'train_data' is not defined\n"
          ]
        },
        {
          "output_type": "stream",
          "name": "stderr",
          "text": [
            "[I 2025-01-20 11:38:09,965] Trial 13 finished with value: inf and parameters: {'p': 0, 'd': 1, 'q': 1, 'P': 2, 'D': 0, 'Q': 0}. Best is trial 0 with value: inf.\n",
            "[I 2025-01-20 11:38:10,006] Trial 14 finished with value: inf and parameters: {'p': 3, 'd': 2, 'q': 0, 'P': 1, 'D': 1, 'Q': 0}. Best is trial 0 with value: inf.\n",
            "[I 2025-01-20 11:38:10,048] Trial 15 finished with value: inf and parameters: {'p': 5, 'd': 1, 'q': 2, 'P': 1, 'D': 1, 'Q': 0}. Best is trial 0 with value: inf.\n",
            "[I 2025-01-20 11:38:10,086] Trial 16 finished with value: inf and parameters: {'p': 4, 'd': 2, 'q': 1, 'P': 2, 'D': 0, 'Q': 1}. Best is trial 0 with value: inf.\n",
            "[I 2025-01-20 11:38:10,141] Trial 17 finished with value: inf and parameters: {'p': 3, 'd': 0, 'q': 2, 'P': 1, 'D': 1, 'Q': 0}. Best is trial 0 with value: inf.\n"
          ]
        },
        {
          "output_type": "stream",
          "name": "stdout",
          "text": [
            "Error during ARIMA fitting: name 'train_data' is not defined\n",
            "Error during ARIMA fitting: name 'train_data' is not defined\n",
            "Error during ARIMA fitting: name 'train_data' is not defined\n",
            "Error during ARIMA fitting: name 'train_data' is not defined\n",
            "Error during ARIMA fitting: name 'train_data' is not defined\n"
          ]
        },
        {
          "output_type": "stream",
          "name": "stderr",
          "text": [
            "[I 2025-01-20 11:38:10,199] Trial 18 finished with value: inf and parameters: {'p': 5, 'd': 2, 'q': 0, 'P': 2, 'D': 1, 'Q': 1}. Best is trial 0 with value: inf.\n",
            "[I 2025-01-20 11:38:10,253] Trial 19 finished with value: inf and parameters: {'p': 4, 'd': 1, 'q': 3, 'P': 1, 'D': 2, 'Q': 0}. Best is trial 0 with value: inf.\n"
          ]
        },
        {
          "output_type": "stream",
          "name": "stdout",
          "text": [
            "Error during ARIMA fitting: name 'train_data' is not defined\n",
            "Error during ARIMA fitting: name 'train_data' is not defined\n",
            "Best ARIMA Parameters (Optuna): {'p': 5, 'd': 2, 'q': 1, 'P': 1, 'D': 0, 'Q': 0}\n"
          ]
        }
      ]
    },
    {
      "cell_type": "code",
      "source": [
        "### 2. LSTM Hyperparameter Tuning ###\n",
        "\n",
        "# Prepare LSTM data\n",
        "from sklearn.preprocessing import MinMaxScaler\n",
        "from tensorflow.keras.preprocessing.sequence import TimeseriesGenerator\n",
        "from sklearn.model_selection import train_test_split  # Import for data splitting\n",
        "\n",
        "\n",
        "# Assuming 'data' is your DataFrame containing the time series data\n",
        "# and 'Quantity' is the column you want to predict\n",
        "# Split data into training and testing sets\n",
        "train_data, test_data = train_test_split(data['Quantity'], test_size=0.2, random_state=42)\n",
        "\n",
        "\n",
        "scaler = MinMaxScaler()\n",
        "scaled_data = scaler.fit_transform(train_data.values.reshape(-1, 1))\n",
        "\n",
        "window_size = 10  # Adjust window size as needed\n",
        "generator = TimeseriesGenerator(scaled_data, scaled_data, length=window_size, batch_size=32)  # Adjust batch size\n",
        "\n",
        "# Keras Tuner for LSTM\n",
        "def build_lstm_model(hp):\n",
        "    model = Sequential()\n",
        "    model.add(LSTM(units=hp.Int('units', min_value=32, max_value=128, step=32),\n",
        "                   activation='relu', input_shape=(window_size, 1)))\n",
        "    model.add(Dense(1))\n",
        "    model.compile(optimizer='adam', loss='mse', metrics=['mse'])\n",
        "    return model\n",
        "\n",
        "tuner = RandomSearch(\n",
        "    build_lstm_model,\n",
        "    objective='mse',\n",
        "    max_trials=5,  # Adjust the number of trials\n",
        "    executions_per_trial=1,\n",
        "    directory='lstm_tuning_dir',\n",
        "    project_name='lstm_tuning'\n",
        ")\n",
        "\n",
        "# Search for best hyperparameters\n",
        "tuner.search(generator, epochs=10, validation_data=None)  # Adjust epochs, add validation_data if available\n",
        "best_hps_lstm = tuner.get_best_hyperparameters(num_trials=1)[0]\n",
        "print(\"Best LSTM Hyperparameters (Keras Tuner):\", best_hps_lstm.values)\n",
        "\n",
        "# Hyperopt for LSTM\n",
        "from hyperopt import hp, fmin, tpe, Trials, STATUS_OK\n",
        "\n",
        "def lstm_hyperopt(params):\n",
        "    model = Sequential()\n",
        "    model.add(LSTM(units=int(params['units']), activation='relu', input_shape=(window_size, 1)))\n",
        "    model.add(Dense(1))\n",
        "    model.compile(optimizer='adam', loss='mse', metrics=['mse'])\n",
        "    history = model.fit(generator, epochs=5, verbose=0)  # Adjust epochs\n",
        "    return {'loss': history.history['loss'][-1], 'status': STATUS_OK}\n",
        "\n",
        "space_lstm = {\n",
        "    'units': hp.quniform('units', 32, 128, 32)\n",
        "}\n",
        "\n",
        "trials_lstm = Trials()\n",
        "best_lstm_hyperopt = fmin(lstm_hyperopt, space_lstm, algo=tpe.suggest, max_evals=5, trials=trials_lstm)  # Adjust max_evals\n",
        "print(\"Best LSTM Hyperopt Parameters:\", best_lstm_hyperopt)"
      ],
      "metadata": {
        "colab": {
          "base_uri": "https://localhost:8080/"
        },
        "id": "_oBcrUP1hz9K",
        "outputId": "d8a53c9b-67ee-4a34-9ca1-9029eb8c941a"
      },
      "execution_count": null,
      "outputs": [
        {
          "output_type": "stream",
          "name": "stdout",
          "text": [
            "Trial 4 Complete [00h 00m 49s]\n",
            "mse: 0.0001372782135149464\n",
            "\n",
            "Best mse So Far: 0.0001369551318930462\n",
            "Total elapsed time: 00h 04m 26s\n",
            "Best LSTM Hyperparameters (Keras Tuner): {'units': 32}\n",
            "100%|██████████| 5/5 [02:12<00:00, 26.51s/trial, best loss: 0.0001375058782286942]\n",
            "Best LSTM Hyperopt Parameters: {'units': 96.0}\n"
          ]
        }
      ]
    },
    {
      "cell_type": "code",
      "source": [
        "### 3. Mann-Whitney U Test for Anomaly Detection ###\n",
        "# Import mannwhitneyu within this cell\n",
        "from scipy.stats import mannwhitneyu\n",
        "\n",
        "# Create random samples for Mann-Whitney U Test\n",
        "sample1 = train_data.sample(100, random_state=42)\n",
        "sample2 = test_data.sample(100, random_state=42)\n",
        "\n",
        "# Perform the Mann-Whitney U Test\n",
        "stat, p_value = mannwhitneyu(sample1, sample2, alternative='two-sided')\n",
        "\n",
        "# Interpretation\n",
        "if p_value < 0.05:\n",
        "    print(\"Significant difference detected (p-value =\", p_value, \")\")\n",
        "else:\n",
        "    print(\"No significant difference detected (p-value =\", p_value, \")\")\n",
        "\n",
        "# Hyperparameter tuning for Mann-Whitney (can adjust sample size or other parameters dynamically)\n",
        "def mann_whitney_hyperopt(params):\n",
        "    sample_size = int(params['sample_size'])\n",
        "    sample1 = train_data.sample(sample_size, random_state=42)\n",
        "    sample2 = test_data.sample(sample_size, random_state=42)\n",
        "    stat, p_value = mannwhitneyu(sample1, sample2, alternative='two-sided')\n",
        "    return {'loss': -p_value, 'status': STATUS_OK}\n",
        "\n",
        "space_mann_whitney = {\n",
        "    'sample_size': hp.quniform('sample_size', 50, 200, 10)\n",
        "}\n",
        "\n",
        "trials_mann = Trials()\n",
        "best_mann_params = fmin(mann_whitney_hyperopt, space_mann_whitney, algo=tpe.suggest, max_evals=10, trials=trials_mann)\n",
        "print(\"Best Mann-Whitney Parameters:\", best_mann_params)\n",
        "\n",
        "#Expected Outputs\n",
        "#ARIMA: Best parameters for ARIMA using Random Search and Optuna.\n",
        "#LSTM: Best hyperparameters for LSTM using Keras Tuner and Hyperopt.\n",
        "#Mann-Whitney: p-value and significance detection."
      ],
      "metadata": {
        "colab": {
          "base_uri": "https://localhost:8080/"
        },
        "id": "DZWFiUrtjm26",
        "outputId": "c95c5624-92aa-4c47-c8fb-9b05c7445f45"
      },
      "execution_count": null,
      "outputs": [
        {
          "output_type": "stream",
          "name": "stdout",
          "text": [
            "No significant difference detected (p-value = 0.6087246579672975 )\n",
            "100%|██████████| 10/10 [00:00<00:00, 59.91trial/s, best loss: -0.9520440396416079]\n",
            "Best Mann-Whitney Parameters: {'sample_size': 170.0}\n"
          ]
        }
      ]
    },
    {
      "cell_type": "markdown",
      "source": [
        "# isolation forest and LOF for 3 models"
      ],
      "metadata": {
        "id": "_ue8M_HWrw9q"
      }
    },
    {
      "cell_type": "code",
      "source": [
        "import pandas as pd\n",
        "\n",
        "# Load your dataset (replace with your file path if needed)\n",
        "file_path = '/content/trans.xlsx'\n",
        "data = pd.ExcelFile(file_path)\n",
        "\n",
        "# Extract the relevant sheet (if multiple sheets exist)\n",
        "data_df = data.parse(data.sheet_names[0])\n",
        "\n",
        "# Select necessary columns\n",
        "cleaned_data = data_df[['UnixTimestamp', 'Quantity']].dropna()\n",
        "\n",
        "# Convert UnixTimestamp to datetime format\n",
        "cleaned_data['DateTime'] = pd.to_datetime(cleaned_data['UnixTimestamp'], unit='s')\n",
        "\n",
        "# Sort by DateTime for time-series analysis\n",
        "cleaned_data = cleaned_data.sort_values(by='DateTime').reset_index(drop=True)\n",
        "\n",
        "print(cleaned_data.head())  # Preview the cleaned dataset\n",
        "\n",
        "\n",
        "from sklearn.ensemble import IsolationForest\n",
        "from sklearn.neighbors import LocalOutlierFactor\n",
        "\n",
        "# Prepare the 'Quantity' data for outlier detection\n",
        "quantities = cleaned_data['Quantity'].values.reshape(-1, 1)\n",
        "\n",
        "# Isolation Forest\n",
        "iso_forest = IsolationForest(random_state=42, contamination=0.05)  # 5% contamination level\n",
        "cleaned_data['IsoForest_Outlier'] = iso_forest.fit_predict(quantities)\n",
        "\n",
        "# Local Outlier Factor\n",
        "lof = LocalOutlierFactor(n_neighbors=20, contamination=0.05)\n",
        "cleaned_data['LOF_Outlier'] = lof.fit_predict(quantities)\n",
        "\n",
        "# Map results: -1 indicates an outlier, 1 indicates inlier\n",
        "cleaned_data['IsoForest_Outlier'] = cleaned_data['IsoForest_Outlier'].map({-1: 'Outlier', 1: 'Inlier'})\n",
        "cleaned_data['LOF_Outlier'] = cleaned_data['LOF_Outlier'].map({-1: 'Outlier', 1: 'Inlier'})\n",
        "\n",
        "# Display the dataset with outlier detection results\n",
        "print(cleaned_data.head())\n"
      ],
      "metadata": {
        "id": "g0WmuLwPdyGn",
        "colab": {
          "base_uri": "https://localhost:8080/"
        },
        "outputId": "fc5abccd-dab1-49d8-fc17-734cefc8419c"
      },
      "execution_count": null,
      "outputs": [
        {
          "output_type": "stream",
          "name": "stdout",
          "text": [
            "   UnixTimestamp    Quantity            DateTime\n",
            "0     1704068735   36.593837 2024-01-01 00:25:35\n",
            "1     1704069371  104.984275 2024-01-01 00:36:11\n",
            "2     1704069371    0.079035 2024-01-01 00:36:11\n",
            "3     1704069371  104.984275 2024-01-01 00:36:11\n",
            "4     1704070319   10.247435 2024-01-01 00:51:59\n",
            "   UnixTimestamp    Quantity            DateTime IsoForest_Outlier LOF_Outlier\n",
            "0     1704068735   36.593837 2024-01-01 00:25:35            Inlier      Inlier\n",
            "1     1704069371  104.984275 2024-01-01 00:36:11            Inlier      Inlier\n",
            "2     1704069371    0.079035 2024-01-01 00:36:11            Inlier      Inlier\n",
            "3     1704069371  104.984275 2024-01-01 00:36:11            Inlier      Inlier\n",
            "4     1704070319   10.247435 2024-01-01 00:51:59            Inlier      Inlier\n"
          ]
        },
        {
          "output_type": "stream",
          "name": "stderr",
          "text": [
            "/usr/local/lib/python3.11/dist-packages/sklearn/neighbors/_lof.py:322: UserWarning: Duplicate values are leading to incorrect results. Increase the number of neighbors for more accurate results.\n",
            "  warnings.warn(\n"
          ]
        }
      ]
    },
    {
      "cell_type": "code",
      "source": [
        "from statsmodels.tsa.arima.model import ARIMA\n",
        "import matplotlib.pyplot as plt\n",
        "\n",
        "# Prepare the time-series data for ARIMA\n",
        "time_series = cleaned_data[['DateTime', 'Quantity']].set_index('DateTime')\n",
        "\n",
        "# Fit ARIMA model (parameters can be fine-tuned later, here using (1,1,1) as a starting point)\n",
        "arima_model = ARIMA(time_series, order=(1, 1, 1))\n",
        "arima_result = arima_model.fit()\n",
        "\n",
        "# Forecast next 10 steps\n",
        "forecast_steps = 10\n",
        "forecast = arima_result.forecast(steps=forecast_steps)\n",
        "\n",
        "# Plot the original data and forecast\n",
        "plt.figure(figsize=(10, 6))\n",
        "plt.plot(time_series, label='Original Data')\n",
        "plt.plot(pd.date_range(time_series.index[-1], periods=forecast_steps + 1, freq='T')[1:],\n",
        "         forecast, label='Forecast', color='red')\n",
        "plt.title('ARIMA Time Series Forecast')\n",
        "plt.legend()\n",
        "plt.show()\n"
      ],
      "metadata": {
        "colab": {
          "base_uri": "https://localhost:8080/",
          "height": 773
        },
        "id": "wataZEUXsPW_",
        "outputId": "2aa66f23-03ec-49a3-b337-e8d998a6e8ae"
      },
      "execution_count": null,
      "outputs": [
        {
          "output_type": "stream",
          "name": "stderr",
          "text": [
            "/usr/local/lib/python3.11/dist-packages/statsmodels/tsa/base/tsa_model.py:473: ValueWarning: A date index has been provided, but it has no associated frequency information and so will be ignored when e.g. forecasting.\n",
            "  self._init_dates(dates, freq)\n",
            "/usr/local/lib/python3.11/dist-packages/statsmodels/tsa/base/tsa_model.py:473: ValueWarning: A date index has been provided, but it has no associated frequency information and so will be ignored when e.g. forecasting.\n",
            "  self._init_dates(dates, freq)\n",
            "/usr/local/lib/python3.11/dist-packages/statsmodels/tsa/base/tsa_model.py:473: ValueWarning: A date index has been provided, but it has no associated frequency information and so will be ignored when e.g. forecasting.\n",
            "  self._init_dates(dates, freq)\n",
            "/usr/local/lib/python3.11/dist-packages/statsmodels/tsa/base/tsa_model.py:837: ValueWarning: No supported index is available. Prediction results will be given with an integer index beginning at `start`.\n",
            "  return get_prediction_index(\n",
            "/usr/local/lib/python3.11/dist-packages/statsmodels/tsa/base/tsa_model.py:837: FutureWarning: No supported index is available. In the next version, calling this method in a model without a supported index will result in an exception.\n",
            "  return get_prediction_index(\n",
            "<ipython-input-5-68f6a30efb15>:18: FutureWarning: 'T' is deprecated and will be removed in a future version, please use 'min' instead.\n",
            "  plt.plot(pd.date_range(time_series.index[-1], periods=forecast_steps + 1, freq='T')[1:],\n"
          ]
        },
        {
          "output_type": "display_data",
          "data": {
            "text/plain": [
              "<Figure size 1000x600 with 1 Axes>"
            ],
            "image/png": "[encoded data removed]"
          },
          "metadata": {}
        }
      ]
    },
    {
      "cell_type": "code",
      "source": [
        "import numpy as np\n",
        "import tensorflow as tf\n",
        "from sklearn.preprocessing import MinMaxScaler\n",
        "from tensorflow.keras.models import Sequential\n",
        "from tensorflow.keras.layers import LSTM, Dense\n",
        "\n",
        "# Normalize the data\n",
        "scaler = MinMaxScaler(feature_range=(0, 1))\n",
        "scaled_data = scaler.fit_transform(time_series['Quantity'].values.reshape(-1, 1))\n",
        "\n",
        "# Prepare the data for LSTM\n",
        "def create_dataset(data, time_steps=1):\n",
        "    X, y = [], []\n",
        "    for i in range(len(data) - time_steps):\n",
        "        X.append(data[i:i + time_steps])\n",
        "        y.append(data[i + time_steps])\n",
        "    return np.array(X), np.array(y)\n",
        "\n",
        "time_steps = 10\n",
        "X, y = create_dataset(scaled_data, time_steps)\n",
        "X = np.reshape(X, (X.shape[0], X.shape[1], 1))  # Reshape for LSTM input\n",
        "\n",
        "# Build LSTM model\n",
        "model = Sequential([\n",
        "    LSTM(50, return_sequences=True, input_shape=(X.shape[1], 1)),\n",
        "    LSTM(50, return_sequences=False),\n",
        "    Dense(25),\n",
        "    Dense(1)\n",
        "])\n",
        "\n",
        "# Compile and train the model\n",
        "model.compile(optimizer='adam', loss='mean_squared_error')\n",
        "model.fit(X, y, batch_size=16, epochs=10, verbose=1)\n",
        "\n",
        "# Forecast\n",
        "predictions = model.predict(X)\n",
        "predictions = scaler.inverse_transform(predictions)\n",
        "\n",
        "# Plot the results\n",
        "plt.figure(figsize=(10, 6))\n",
        "plt.plot(time_series.index[time_steps:], scaler.inverse_transform(scaled_data[time_steps:]), label='Original Data')\n",
        "plt.plot(time_series.index[time_steps:], predictions, label='LSTM Predictions', color='red')\n",
        "plt.legend()\n",
        "plt.show()\n"
      ],
      "metadata": {
        "colab": {
          "base_uri": "https://localhost:8080/",
          "height": 941
        },
        "id": "oq9Xfl3rsRvb",
        "outputId": "05bc40ee-bf20-4880-8d06-5839d4e17316"
      },
      "execution_count": null,
      "outputs": [
        {
          "output_type": "stream",
          "name": "stderr",
          "text": [
            "/usr/local/lib/python3.11/dist-packages/keras/src/layers/rnn/rnn.py:204: UserWarning: Do not pass an `input_shape`/`input_dim` argument to a layer. When using Sequential models, prefer using an `Input(shape)` object as the first layer in the model instead.\n",
            "  super().__init__(**kwargs)\n"
          ]
        },
        {
          "output_type": "stream",
          "name": "stdout",
          "text": [
            "Epoch 1/10\n",
            "\u001b[1m1240/1240\u001b[0m \u001b[32m━━━━━━━━━━━━━━━━━━━━\u001b[0m\u001b[37m\u001b[0m \u001b[1m18s\u001b[0m 11ms/step - loss: 6.8617e-05\n",
            "Epoch 2/10\n",
            "\u001b[1m1240/1240\u001b[0m \u001b[32m━━━━━━━━━━━━━━━━━━━━\u001b[0m\u001b[37m\u001b[0m \u001b[1m14s\u001b[0m 11ms/step - loss: 5.1985e-05\n",
            "Epoch 3/10\n",
            "\u001b[1m1240/1240\u001b[0m \u001b[32m━━━━━━━━━━━━━━━━━━━━\u001b[0m\u001b[37m\u001b[0m \u001b[1m14s\u001b[0m 11ms/step - loss: 4.4411e-05\n",
            "Epoch 4/10\n",
            "\u001b[1m1240/1240\u001b[0m \u001b[32m━━━━━━━━━━━━━━━━━━━━\u001b[0m\u001b[37m\u001b[0m \u001b[1m23s\u001b[0m 13ms/step - loss: 1.8726e-04\n",
            "Epoch 5/10\n",
            "\u001b[1m1240/1240\u001b[0m \u001b[32m━━━━━━━━━━━━━━━━━━━━\u001b[0m\u001b[37m\u001b[0m \u001b[1m18s\u001b[0m 11ms/step - loss: 9.3652e-05\n",
            "Epoch 6/10\n",
            "\u001b[1m1240/1240\u001b[0m \u001b[32m━━━━━━━━━━━━━━━━━━━━\u001b[0m\u001b[37m\u001b[0m \u001b[1m21s\u001b[0m 12ms/step - loss: 5.1404e-05\n",
            "Epoch 7/10\n",
            "\u001b[1m1240/1240\u001b[0m \u001b[32m━━━━━━━━━━━━━━━━━━━━\u001b[0m\u001b[37m\u001b[0m \u001b[1m14s\u001b[0m 11ms/step - loss: 1.0473e-04\n",
            "Epoch 8/10\n",
            "\u001b[1m1240/1240\u001b[0m \u001b[32m━━━━━━━━━━━━━━━━━━━━\u001b[0m\u001b[37m\u001b[0m \u001b[1m14s\u001b[0m 12ms/step - loss: 6.9077e-05\n",
            "Epoch 9/10\n",
            "\u001b[1m1240/1240\u001b[0m \u001b[32m━━━━━━━━━━━━━━━━━━━━\u001b[0m\u001b[37m\u001b[0m \u001b[1m14s\u001b[0m 11ms/step - loss: 2.3309e-05\n",
            "Epoch 10/10\n",
            "\u001b[1m1240/1240\u001b[0m \u001b[32m━━━━━━━━━━━━━━━━━━━━\u001b[0m\u001b[37m\u001b[0m \u001b[1m14s\u001b[0m 12ms/step - loss: 1.0509e-04\n",
            "\u001b[1m620/620\u001b[0m \u001b[32m━━━━━━━━━━━━━━━━━━━━\u001b[0m\u001b[37m\u001b[0m \u001b[1m3s\u001b[0m 4ms/step\n"
          ]
        },
        {
          "output_type": "display_data",
          "data": {
            "text/plain": [
              "<Figure size 1000x600 with 1 Axes>"
            ],
            "image/png": "[encoded data removed]"
          },
          "metadata": {}
        }
      ]
    },
    {
      "cell_type": "code",
      "source": [
        "from scipy.stats import mannwhitneyu\n",
        "\n",
        "# Example data: split 'Quantity' into two groups (e.g., based on a condition)\n",
        "group1 = cleaned_data[cleaned_data['IsoForest_Outlier'] == 'Inlier']['Quantity']\n",
        "group2 = cleaned_data[cleaned_data['IsoForest_Outlier'] == 'Outlier']['Quantity']\n",
        "\n",
        "# Perform the Mann-Whitney U Test\n",
        "stat, p = mannwhitneyu(group1, group2, alternative='two-sided')\n",
        "\n",
        "# Output the test results\n",
        "print(f\"Mann-Whitney U Test Statistic: {stat}\")\n",
        "print(f\"P-value: {p}\")\n"
      ],
      "metadata": {
        "colab": {
          "base_uri": "https://localhost:8080/"
        },
        "id": "pmFl6xT_sT5c",
        "outputId": "433d29e3-a416-42a0-dc2f-46a79606dbff"
      },
      "execution_count": null,
      "outputs": [
        {
          "output_type": "stream",
          "name": "stdout",
          "text": [
            "Mann-Whitney U Test Statistic: 41168.0\n",
            "P-value: 0.0\n"
          ]
        }
      ]
    },
    {
      "cell_type": "code",
      "source": [],
      "metadata": {
        "id": "8-OT0VSTt_VK"
      },
      "execution_count": null,
      "outputs": []
    }
  ]
}